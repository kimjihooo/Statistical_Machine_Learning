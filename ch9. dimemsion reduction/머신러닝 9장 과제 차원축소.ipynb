{
 "cells": [
  {
   "cell_type": "markdown",
   "id": "b11bec80",
   "metadata": {},
   "source": [
    "# 1. 차원 축소의 성능 비교하기"
   ]
  },
  {
   "cell_type": "markdown",
   "id": "6cfa8d5a",
   "metadata": {},
   "source": [
    "## Logistic Regression\n",
    "\n",
    ": 원래 데이터"
   ]
  },
  {
   "cell_type": "code",
   "execution_count": 1,
   "id": "e05225a6",
   "metadata": {},
   "outputs": [],
   "source": [
    "# wine data 불러오기 \n",
    "import pandas as pd\n",
    "dat_wine=pd.read_csv('http://archive.ics.uci.edu/ml/machine-learning-databases/'\n",
    "                     'wine/wine.data',header=None) # wine data 불러오기\n",
    "\n",
    "# test, data 로 나누기\n",
    "from sklearn.model_selection import train_test_split\n",
    "X,y=dat_wine.iloc[:,1:].values, dat_wine.iloc[:,0].values\n",
    "X_train,X_test,y_train,y_test=train_test_split(X,y,test_size=0.3, random_state=1,stratify=y)\n",
    "\n",
    "# 표준화는 일단 안할래\n",
    "# from sklearn.preprocessing import StandardScaler\n",
    "# std=StandardScaler()\n",
    "# X_train_std=std.fit_transform(X_train)\n",
    "# X_test_std=std.transform(X_test)"
   ]
  },
  {
   "cell_type": "code",
   "execution_count": 2,
   "id": "b887dcac",
   "metadata": {},
   "outputs": [
    {
     "name": "stderr",
     "output_type": "stream",
     "text": [
      "C:\\ProgramData\\Anaconda3\\lib\\site-packages\\sklearn\\linear_model\\_logistic.py:763: ConvergenceWarning: lbfgs failed to converge (status=1):\n",
      "STOP: TOTAL NO. of ITERATIONS REACHED LIMIT.\n",
      "\n",
      "Increase the number of iterations (max_iter) or scale the data as shown in:\n",
      "    https://scikit-learn.org/stable/modules/preprocessing.html\n",
      "Please also refer to the documentation for alternative solver options:\n",
      "    https://scikit-learn.org/stable/modules/linear_model.html#logistic-regression\n",
      "  n_iter_i = _check_optimize_result(\n"
     ]
    }
   ],
   "source": [
    "from sklearn.linear_model import LogisticRegression\n",
    "Logit = LogisticRegression(C=1,random_state=1, max_iter=2000)  # C = 1/λ. 디폴트: L2, One-versus-Rest.  \n",
    "Logit.fit(X_train, y_train)\n",
    "y_train_pred = Logit.predict(X_train)\n",
    "y_test_pred = Logit.predict(X_test)"
   ]
  },
  {
   "cell_type": "code",
   "execution_count": 3,
   "id": "87a85fcc",
   "metadata": {},
   "outputs": [
    {
     "name": "stdout",
     "output_type": "stream",
     "text": [
      "0.9629629629629629\n",
      "1.0\n"
     ]
    }
   ],
   "source": [
    "from sklearn.metrics import accuracy_score\n",
    "print(accuracy_score(y_test,y_test_pred))   \n",
    "print(accuracy_score(y_train,y_train_pred)) "
   ]
  },
  {
   "cell_type": "markdown",
   "id": "5bed0836",
   "metadata": {},
   "source": [
    "## MDS\n",
    "\n",
    ": 선형"
   ]
  },
  {
   "cell_type": "code",
   "execution_count": 4,
   "id": "e661556f",
   "metadata": {},
   "outputs": [],
   "source": [
    "X,y=dat_wine.iloc[:,1:].values, dat_wine.iloc[:,0].values"
   ]
  },
  {
   "cell_type": "code",
   "execution_count": 5,
   "id": "9ed54bc0",
   "metadata": {},
   "outputs": [
    {
     "data": {
      "text/plain": [
       "(178, 13)"
      ]
     },
     "execution_count": 5,
     "metadata": {},
     "output_type": "execute_result"
    }
   ],
   "source": [
    "X.shape # 원래 데이터 구조"
   ]
  },
  {
   "cell_type": "code",
   "execution_count": 6,
   "id": "6c6a35d5",
   "metadata": {},
   "outputs": [],
   "source": [
    "# 차원축소한 데이터 out_mds\n",
    "from sklearn.manifold import MDS\n",
    "mds = MDS(n_components=5, random_state=1)\n",
    "out_mds = mds.fit_transform(X)"
   ]
  },
  {
   "cell_type": "code",
   "execution_count": 7,
   "id": "18b129ea",
   "metadata": {},
   "outputs": [
    {
     "data": {
      "text/plain": [
       "(178, 5)"
      ]
     },
     "execution_count": 7,
     "metadata": {},
     "output_type": "execute_result"
    }
   ],
   "source": [
    "out_mds.shape # 차원축소 후 데이터 구조"
   ]
  },
  {
   "cell_type": "code",
   "execution_count": 8,
   "id": "ffa55005",
   "metadata": {},
   "outputs": [],
   "source": [
    "# test 데이터, train 데이터 나누기\n",
    "from sklearn.model_selection import train_test_split\n",
    "X_train,X_test,y_train,y_test=train_test_split(out_mds,y,test_size=0.3, random_state=1,stratify=y)\n",
    "\n",
    "# 표준화\n",
    "from sklearn.preprocessing import StandardScaler\n",
    "std=StandardScaler()\n",
    "X_train_std=std.fit_transform(X_train)\n",
    "X_test_std=std.transform(X_test)"
   ]
  },
  {
   "cell_type": "code",
   "execution_count": 9,
   "id": "196a4207",
   "metadata": {},
   "outputs": [],
   "source": [
    "# 모형 적용\n",
    "from sklearn.linear_model import LogisticRegression\n",
    "Logit = LogisticRegression(C=1,random_state=1, max_iter=2000)  # C = 1/λ. 디폴트: L2, One-versus-Rest.  \n",
    "Logit.fit(X_train_std, y_train)\n",
    "y_train_pred = Logit.predict(X_train_std)\n",
    "y_test_pred = Logit.predict(X_test_std)"
   ]
  },
  {
   "cell_type": "code",
   "execution_count": 10,
   "id": "bedd0cb8",
   "metadata": {},
   "outputs": [
    {
     "name": "stdout",
     "output_type": "stream",
     "text": [
      "0.6666666666666666\n",
      "0.7338709677419355\n"
     ]
    }
   ],
   "source": [
    "# 정밀도, 성능\n",
    "from sklearn.metrics import accuracy_score\n",
    "print(accuracy_score(y_test,y_test_pred))   \n",
    "print(accuracy_score(y_train,y_train_pred)) "
   ]
  },
  {
   "cell_type": "markdown",
   "id": "28338ce5",
   "metadata": {},
   "source": [
    "## LLE"
   ]
  },
  {
   "cell_type": "code",
   "execution_count": 11,
   "id": "90e8ffce",
   "metadata": {},
   "outputs": [],
   "source": [
    "X,y=dat_wine.iloc[:,1:].values, dat_wine.iloc[:,0].values\n",
    "\n",
    "from sklearn.manifold import LocallyLinearEmbedding as LLE\n",
    "lle=LLE(n_neighbors=150, n_components=5, method='modified') # 초모수 조정하기\n",
    "lle_out=lle.fit_transform(X)"
   ]
  },
  {
   "cell_type": "code",
   "execution_count": 12,
   "id": "7de5cf38",
   "metadata": {},
   "outputs": [],
   "source": [
    "# test 데이터, train 데이터 나누기\n",
    "from sklearn.model_selection import train_test_split\n",
    "X_train,X_test,y_train,y_test=train_test_split(lle_out,y,test_size=0.3, random_state=1,stratify=y) # 여기 x 데이터 바꾸기\n",
    "\n",
    "# 표준화\n",
    "from sklearn.preprocessing import StandardScaler\n",
    "std=StandardScaler()\n",
    "X_train_std=std.fit_transform(X_train)\n",
    "X_test_std=std.transform(X_test)"
   ]
  },
  {
   "cell_type": "code",
   "execution_count": 13,
   "id": "59290859",
   "metadata": {},
   "outputs": [
    {
     "name": "stdout",
     "output_type": "stream",
     "text": [
      "0.9074074074074074\n",
      "0.967741935483871\n"
     ]
    }
   ],
   "source": [
    "from sklearn.linear_model import LogisticRegression\n",
    "Logit = LogisticRegression(C=1,random_state=1, max_iter=2000)  # C = 1/λ. 디폴트: L2, One-versus-Rest.  \n",
    "Logit.fit(X_train_std, y_train)\n",
    "y_train_pred = Logit.predict(X_train_std)\n",
    "y_test_pred = Logit.predict(X_test_std)\n",
    "\n",
    "from sklearn.metrics import accuracy_score\n",
    "print(accuracy_score(y_test,y_test_pred))   \n",
    "print(accuracy_score(y_train,y_train_pred)) "
   ]
  },
  {
   "cell_type": "code",
   "execution_count": 14,
   "id": "db84f88e",
   "metadata": {},
   "outputs": [
    {
     "name": "stdout",
     "output_type": "stream",
     "text": [
      "0.8629032258064516\n",
      "0.7777777777777778\n"
     ]
    }
   ],
   "source": [
    "# 표준화 안한거\n",
    "from sklearn.linear_model import LogisticRegression\n",
    "Logit = LogisticRegression(C=1,random_state=1, max_iter=2000)  # C = 1/λ. 디폴트: L2, One-versus-Rest.  \n",
    "Logit.fit(X_train, y_train)\n",
    "y_train_pre=Logit.predict(X_train)\n",
    "y_test_pre=Logit.predict(X_test)\n",
    "\n",
    "from sklearn.metrics import accuracy_score\n",
    "print(accuracy_score(y_train, y_train_pre))\n",
    "print(accuracy_score(y_test, y_test_pre))"
   ]
  },
  {
   "cell_type": "markdown",
   "id": "06ee494c",
   "metadata": {},
   "source": [
    "꽤 좋은 것 같아요"
   ]
  },
  {
   "cell_type": "markdown",
   "id": "b3a31cc2",
   "metadata": {},
   "source": [
    "## Isomap"
   ]
  },
  {
   "cell_type": "code",
   "execution_count": 15,
   "id": "35a49f6f",
   "metadata": {},
   "outputs": [],
   "source": [
    "X,y=dat_wine.iloc[:,1:].values, dat_wine.iloc[:,0].values\n",
    "\n",
    "from sklearn.manifold import Isomap\n",
    "iso=Isomap(n_neighbors=150, n_components=5)\n",
    "iso_out=iso.fit_transform(X)"
   ]
  },
  {
   "cell_type": "code",
   "execution_count": 16,
   "id": "553ac3ec",
   "metadata": {},
   "outputs": [],
   "source": [
    "# test 데이터, train 데이터 나누기\n",
    "from sklearn.model_selection import train_test_split\n",
    "X_train,X_test,y_train,y_test=train_test_split(iso_out,y,test_size=0.3, random_state=1,stratify=y) # 여기 x 데이터 바꾸기\n",
    "\n",
    "# 표준화\n",
    "from sklearn.preprocessing import StandardScaler\n",
    "std=StandardScaler()\n",
    "X_train_std=std.fit_transform(X_train)\n",
    "X_test_std=std.transform(X_test)"
   ]
  },
  {
   "cell_type": "code",
   "execution_count": 17,
   "id": "aa22725d",
   "metadata": {},
   "outputs": [
    {
     "name": "stdout",
     "output_type": "stream",
     "text": [
      "0.9074074074074074\n",
      "0.9758064516129032\n"
     ]
    }
   ],
   "source": [
    "from sklearn.linear_model import LogisticRegression\n",
    "Logit = LogisticRegression(C=1,random_state=1, max_iter=2000)  # C = 1/λ. 디폴트: L2, One-versus-Rest.  \n",
    "Logit.fit(X_train_std, y_train)\n",
    "y_train_pred = Logit.predict(X_train_std)\n",
    "y_test_pred = Logit.predict(X_test_std)\n",
    "\n",
    "from sklearn.metrics import accuracy_score\n",
    "print(accuracy_score(y_test,y_test_pred))   \n",
    "print(accuracy_score(y_train,y_train_pred)) "
   ]
  },
  {
   "cell_type": "code",
   "execution_count": 18,
   "id": "164d1fd4",
   "metadata": {},
   "outputs": [
    {
     "name": "stdout",
     "output_type": "stream",
     "text": [
      "0.9838709677419355\n",
      "0.9074074074074074\n"
     ]
    }
   ],
   "source": [
    "# 표준화 안한거\n",
    "from sklearn.linear_model import LogisticRegression\n",
    "Logit = LogisticRegression(C=1,random_state=1, max_iter=2000)  # C = 1/λ. 디폴트: L2, One-versus-Rest.  \n",
    "Logit.fit(X_train, y_train)\n",
    "y_train_pre=Logit.predict(X_train)\n",
    "y_test_pre=Logit.predict(X_test)\n",
    "\n",
    "from sklearn.metrics import accuracy_score\n",
    "print(accuracy_score(y_train, y_train_pre))\n",
    "print(accuracy_score(y_test, y_test_pre))"
   ]
  },
  {
   "cell_type": "markdown",
   "id": "65d66864",
   "metadata": {},
   "source": [
    "## t-SNE"
   ]
  },
  {
   "cell_type": "code",
   "execution_count": 59,
   "id": "cbec3c74",
   "metadata": {},
   "outputs": [],
   "source": [
    "X,y=dat_wine.iloc[:,1:].values, dat_wine.iloc[:,0].values\n",
    "\n",
    "from sklearn.manifold import TSNE\n",
    "t_sne=TSNE(n_components=2, perplexity=50) # n_components 4 이상으로 하면 오류 생긴다. 왜지\n",
    "sne_out=t_sne.fit_transform(X)"
   ]
  },
  {
   "cell_type": "code",
   "execution_count": 60,
   "id": "9890373c",
   "metadata": {},
   "outputs": [],
   "source": [
    "# test 데이터, train 데이터 나누기\n",
    "from sklearn.model_selection import train_test_split\n",
    "X_train,X_test,y_train,y_test=train_test_split(sne_out,y,test_size=0.3, random_state=1,stratify=y) # 여기 x 데이터 바꾸기\n",
    "\n",
    "# 표준화\n",
    "from sklearn.preprocessing import StandardScaler\n",
    "std=StandardScaler()\n",
    "X_train_std=std.fit_transform(X_train)\n",
    "X_test_std=std.transform(X_test)"
   ]
  },
  {
   "cell_type": "code",
   "execution_count": 61,
   "id": "7767fa32",
   "metadata": {},
   "outputs": [
    {
     "name": "stdout",
     "output_type": "stream",
     "text": [
      "0.6296296296296297\n",
      "0.7338709677419355\n"
     ]
    }
   ],
   "source": [
    "from sklearn.linear_model import LogisticRegression\n",
    "Logit = LogisticRegression(C=0.50,random_state=1, max_iter=1000)  # C = 1/λ. 디폴트: L2, One-versus-Rest.  \n",
    "Logit.fit(X_train_std, y_train)\n",
    "y_train_pred = Logit.predict(X_train_std)\n",
    "y_test_pred = Logit.predict(X_test_std)\n",
    "\n",
    "from sklearn.metrics import accuracy_score\n",
    "print(accuracy_score(y_test,y_test_pred))   \n",
    "print(accuracy_score(y_train,y_train_pred)) "
   ]
  },
  {
   "cell_type": "code",
   "execution_count": 200,
   "id": "601acd67",
   "metadata": {},
   "outputs": [
    {
     "name": "stdout",
     "output_type": "stream",
     "text": [
      "0.75\n",
      "0.6481481481481481\n"
     ]
    }
   ],
   "source": [
    "# 표준화 안한거\n",
    "from sklearn.linear_model import LogisticRegression\n",
    "Logit = LogisticRegression(C=1,random_state=1, max_iter=2000)  # C = 1/λ. 디폴트: L2, One-versus-Rest.  \n",
    "Logit.fit(X_train, y_train)\n",
    "y_train_pre=Logit.predict(X_train)\n",
    "y_test_pre=Logit.predict(X_test)\n",
    "\n",
    "from sklearn.metrics import accuracy_score\n",
    "print(accuracy_score(y_train, y_train_pre))\n",
    "print(accuracy_score(y_test, y_test_pre))"
   ]
  },
  {
   "cell_type": "markdown",
   "id": "0f7d9779",
   "metadata": {},
   "source": [
    " 왜 이렇게 성능이 안좋아! 몰라"
   ]
  },
  {
   "cell_type": "markdown",
   "id": "f2c94dff",
   "metadata": {},
   "source": [
    "# 2. t-sne에서 perplexity\n",
    ": accuracy는 위에서 확인해보기\n",
    "\n",
    ": 시각화 이렇게 하는 게 맞나? color 어떻게?"
   ]
  },
  {
   "cell_type": "code",
   "execution_count": 62,
   "id": "523b59b3",
   "metadata": {},
   "outputs": [
    {
     "data": {
      "text/plain": [
       "array([1, 1, 1, 1, 1, 1, 1, 1, 1, 1, 1, 1, 1, 1, 1, 1, 1, 1, 1, 1, 1, 1,\n",
       "       1, 1, 1, 1, 1, 1, 1, 1, 1, 1, 1, 1, 1, 1, 1, 1, 1, 1, 1, 1, 1, 1,\n",
       "       1, 1, 1, 1, 1, 1, 1, 1, 1, 1, 1, 1, 1, 1, 1, 2, 2, 2, 2, 2, 2, 2,\n",
       "       2, 2, 2, 2, 2, 2, 2, 2, 2, 2, 2, 2, 2, 2, 2, 2, 2, 2, 2, 2, 2, 2,\n",
       "       2, 2, 2, 2, 2, 2, 2, 2, 2, 2, 2, 2, 2, 2, 2, 2, 2, 2, 2, 2, 2, 2,\n",
       "       2, 2, 2, 2, 2, 2, 2, 2, 2, 2, 2, 2, 2, 2, 2, 2, 2, 2, 2, 2, 3, 3,\n",
       "       3, 3, 3, 3, 3, 3, 3, 3, 3, 3, 3, 3, 3, 3, 3, 3, 3, 3, 3, 3, 3, 3,\n",
       "       3, 3, 3, 3, 3, 3, 3, 3, 3, 3, 3, 3, 3, 3, 3, 3, 3, 3, 3, 3, 3, 3,\n",
       "       3, 3], dtype=int64)"
      ]
     },
     "execution_count": 62,
     "metadata": {},
     "output_type": "execute_result"
    }
   ],
   "source": [
    "y"
   ]
  },
  {
   "cell_type": "code",
   "execution_count": 80,
   "id": "14fcd52b",
   "metadata": {},
   "outputs": [
    {
     "data": {
      "application/vnd.plotly.v1+json": {
       "config": {
        "plotlyServerURL": "https://plot.ly"
       },
       "data": [
        {
         "marker": {
          "color": [
           1,
           1,
           1,
           1,
           1,
           1,
           1,
           1,
           1,
           1,
           1,
           1,
           1,
           1,
           1,
           1,
           1,
           1,
           1,
           1,
           1,
           1,
           1,
           1,
           1,
           1,
           1,
           1,
           1,
           1,
           1,
           1,
           1,
           1,
           1,
           1,
           1,
           1,
           1,
           1,
           1,
           1,
           1,
           1,
           1,
           1,
           1,
           1,
           1,
           1,
           1,
           1,
           1,
           1,
           1,
           1,
           1,
           1,
           1,
           2,
           2,
           2,
           2,
           2,
           2,
           2,
           2,
           2,
           2,
           2,
           2,
           2,
           2,
           2,
           2,
           2,
           2,
           2,
           2,
           2,
           2,
           2,
           2,
           2,
           2,
           2,
           2,
           2,
           2,
           2,
           2,
           2,
           2,
           2,
           2,
           2,
           2,
           2,
           2,
           2,
           2,
           2,
           2,
           2,
           2,
           2,
           2,
           2,
           2,
           2,
           2,
           2,
           2,
           2,
           2,
           2,
           2,
           2,
           2,
           2,
           2,
           2,
           2,
           2,
           2,
           2,
           2,
           2,
           2,
           2,
           3,
           3,
           3,
           3,
           3,
           3,
           3,
           3,
           3,
           3,
           3,
           3,
           3,
           3,
           3,
           3,
           3,
           3,
           3,
           3,
           3,
           3,
           3,
           3,
           3,
           3,
           3,
           3,
           3,
           3,
           3,
           3,
           3,
           3,
           3,
           3,
           3,
           3,
           3,
           3,
           3,
           3,
           3,
           3,
           3,
           3,
           3,
           3
          ],
          "colorscale": [
           [
            0,
            "#440154"
           ],
           [
            0.1111111111111111,
            "#482878"
           ],
           [
            0.2222222222222222,
            "#3e4989"
           ],
           [
            0.3333333333333333,
            "#31688e"
           ],
           [
            0.4444444444444444,
            "#26828e"
           ],
           [
            0.5555555555555556,
            "#1f9e89"
           ],
           [
            0.6666666666666666,
            "#35b779"
           ],
           [
            0.7777777777777778,
            "#6ece58"
           ],
           [
            0.8888888888888888,
            "#b5de2b"
           ],
           [
            1,
            "#fde725"
           ]
          ],
          "size": 5
         },
         "mode": "markers",
         "type": "scatter",
         "x": [
          35.84392166137695,
          -42.21919250488281,
          80.84976959228516,
          17.663339614868164,
          -218.07025146484375,
          15.864974021911621,
          -57.8692741394043,
          -57.97348403930664,
          -45.711063385009766,
          -44.3798942565918,
          7.008875370025635,
          -64.5908432006836,
          -57.620948791503906,
          45.565956115722656,
          3.0163168907165527,
          -57.766807556152344,
          -58.278709411621094,
          58.00060272216797,
          0.17045599222183228,
          -7.377484321594238,
          -92.12307739257812,
          -10.174395561218262,
          -44.63933563232422,
          -139.7123565673828,
          167.92892456054688,
          160.94960021972656,
          83.13743591308594,
          -61.448486328125,
          -139.77052307128906,
          -42.21249008178711,
          -59.84489059448242,
          143.7000274658203,
          -144.4114227294922,
          -42.04571533203125,
          68.4931869506836,
          -141.80511474609375,
          -35.53904342651367,
          68.0051498413086,
          -141.80892944335938,
          -80.9051742553711,
          47.230587005615234,
          -39.21923828125,
          68.36578369140625,
          -69.74647521972656,
          -32.05780792236328,
          68.7124252319336,
          15.60270881652832,
          -143.06353759765625,
          13.907753944396973,
          -45.331809997558594,
          43.48508071899414,
          -50.957340240478516,
          78.56330108642578,
          -58.050846099853516,
          32.95170974731445,
          60.62556457519531,
          -145.3070831298828,
          -48.478981018066406,
          -59.22490310668945,
          34.65654373168945,
          -71.59417724609375,
          -16.788833618164062,
          134.42811584472656,
          10.467427253723145,
          -118.31037902832031,
          -74.52854919433594,
          50.257320404052734,
          51.272377014160156,
          -115.46278381347656,
          -88.5523910522461,
          -38.98628234863281,
          24.230819702148438,
          7.080522537231445,
          -147.92335510253906,
          -29.962093353271484,
          7.1487717628479,
          79.5269546508789,
          2.612664222717285,
          -83.68321990966797,
          -1.565255880355835,
          -60.46866989135742,
          -148.0714569091797,
          143.78367614746094,
          65.349853515625,
          32.96409606933594,
          -18.779678344726562,
          36.77565383911133,
          -11.32247543334961,
          -101.26184844970703,
          145.4810333251953,
          23.574260711669922,
          -22.19874382019043,
          33.20466232299805,
          -136.05303955078125,
          -115.37449645996094,
          -147.49476623535156,
          11.808306694030762,
          8.520403861999512,
          69.38153839111328,
          30.855640411376953,
          -150.96630859375,
          -11.281182289123535,
          7.487623691558838,
          11.138375282287598,
          -78.31214141845703,
          -105.79644775390625,
          53.57633590698242,
          28.878297805786133,
          -102.95787048339844,
          -78.7382583618164,
          106.8897476196289,
          -105.67784881591797,
          123.82429504394531,
          8.01199722290039,
          83.18537139892578,
          27.7425594329834,
          34.200050354003906,
          -118.14806365966797,
          91.30149841308594,
          -14.289506912231445,
          134.9279327392578,
          -75.262451171875,
          -119.34060668945312,
          91.83743286132812,
          87.8294677734375,
          90.82127380371094,
          -76.24243927001953,
          2.3776285648345947,
          -79.17147827148438,
          -8.374063491821289,
          1.3544762134552002,
          34.96847915649414,
          105.05155944824219,
          122.76713562011719,
          60.53408432006836,
          -85.0898208618164,
          -145.25172424316406,
          27.137283325195312,
          -6.021060943603516,
          124.238037109375,
          127.04841613769531,
          -8.03277587890625,
          30.42347526550293,
          106.49336242675781,
          -3.6913912296295166,
          170.8120574951172,
          10.882604598999023,
          136.30479431152344,
          63.292171478271484,
          109.26425170898438,
          -0.2641395330429077,
          -72.60598754882812,
          7.112276077270508,
          -72.72486877441406,
          133.72230529785156,
          -142.5785675048828,
          14.811963081359863,
          -31.01100730895996,
          68.40983581542969,
          132.61941528320312,
          68.94218444824219,
          -67.67803955078125,
          -37.3773307800293,
          -64.5514907836914,
          129.40658569335938,
          65.89764404296875,
          -70.9975357055664,
          -89.7869644165039,
          -119.7020034790039,
          -2.0218441486358643,
          22.978008270263672,
          10.270931243896484,
          68.73001098632812,
          -124.10364532470703,
          -120.6501693725586,
          120.99634552001953,
          -266.9455261230469,
          103.57464599609375
         ],
         "y": [
          164.90296936035156,
          -116.0413589477539,
          25.003175735473633,
          -23.202983856201172,
          -104.30821990966797,
          -25.75078582763672,
          111.71044921875,
          88.56108093261719,
          -113.77334594726562,
          -111.01359558105469,
          201.20249938964844,
          111.06619262695312,
          79.091064453125,
          49.04612350463867,
          206.42738342285156,
          83.52064514160156,
          92.76366424560547,
          52.6894416809082,
          209.87010192871094,
          72.60987091064453,
          -139.32882690429688,
          41.52223587036133,
          40.52190017700195,
          33.306636810302734,
          -50.79857635498047,
          162.31002807617188,
          27.840160369873047,
          110.55015563964844,
          -48.056884765625,
          38.492530822753906,
          101.34711456298828,
          81.28180694580078,
          -83.48452758789062,
          -68.71888732910156,
          74.85128784179688,
          -50.26426315307617,
          -32.96630859375,
          67.9278793334961,
          35.29990005493164,
          -27.806533813476562,
          88.17018127441406,
          36.1442985534668,
          71.54463195800781,
          18.76761245727539,
          -33.34292221069336,
          79.29146575927734,
          -136.8680419921875,
          -86.26187896728516,
          -134.55886840820312,
          -65.47086334228516,
          51.155826568603516,
          -60.58245849609375,
          27.756420135498047,
          74.52666473388672,
          165.67172241210938,
          54.11764907836914,
          -90.0271987915039,
          -62.42621612548828,
          98.0420150756836,
          -66.48025512695312,
          15.66923713684082,
          3.7676167488098145,
          -36.94949722290039,
          113.45775604248047,
          62.903900146484375,
          12.1803560256958,
          -27.970718383789062,
          -32.0288200378418,
          -21.13152503967285,
          -24.80174446105957,
          -36.320560455322266,
          103.09737396240234,
          8.127506256103516,
          -93.5746841430664,
          -36.68087387084961,
          135.46279907226562,
          -10.356847763061523,
          -82.59123992919922,
          -26.522560119628906,
          5.079826831817627,
          -73.47660827636719,
          -2.1457414627075195,
          -11.517671585083008,
          -51.28770446777344,
          -70.3045425415039,
          1.570663571357727,
          14.599934577941895,
          -142.57879638671875,
          10.55331802368164,
          -8.966106414794922,
          13.961372375488281,
          -0.9948165416717529,
          20.517213821411133,
          -66.68526458740234,
          57.36826705932617,
          -98.2611083984375,
          -100.40153503417969,
          123.2086181640625,
          -122.71365356445312,
          101.36903381347656,
          0.7211082577705383,
          -138.11997985839844,
          131.6788787841797,
          110.43968963623047,
          58.91218566894531,
          -58.656246185302734,
          -33.97129821777344,
          15.701459884643555,
          -60.22004699707031,
          12.670822143554688,
          -149.11463928222656,
          -55.03661346435547,
          39.75312805175781,
          126.59901428222656,
          -13.024016380310059,
          102.13341522216797,
          16.52297592163086,
          59.23490524291992,
          -23.76651382446289,
          -139.10409545898438,
          -33.90797424316406,
          -110.71830749511719,
          67.43902587890625,
          -15.086845397949219,
          -16.040544509887695,
          -18.6441593170166,
          -82.76576232910156,
          6.424206733703613,
          -81.58152770996094,
          -29.199424743652344,
          -107.1382064819336,
          -77.6383056640625,
          -139.8939208984375,
          42.7858772277832,
          -127.26412200927734,
          28.284292221069336,
          -4.599337100982666,
          -75.75032043457031,
          -23.765708923339844,
          48.280487060546875,
          43.00249099731445,
          43.4278450012207,
          -74.5718002319336,
          -133.55169677734375,
          71.44395446777344,
          -51.310916900634766,
          106.09781646728516,
          -18.455076217651367,
          -128.4880828857422,
          -152.6001434326172,
          -83.17301940917969,
          -112.44422149658203,
          140.1907958984375,
          7.204123020172119,
          -41.02202224731445,
          -6.702854633331299,
          10.875558853149414,
          -40.776729583740234,
          -115.50479888916016,
          -18.749662399291992,
          -56.058780670166016,
          26.817806243896484,
          230.83612060546875,
          25.479047775268555,
          -18.750261306762695,
          -55.360469818115234,
          30.681629180908203,
          26.492895126342773,
          -21.00472068786621,
          -108.14546966552734,
          -77.11927795410156,
          9.269783020019531,
          -119.72459411621094,
          -15.129799842834473,
          -18.09416389465332,
          174.1177215576172,
          40.21373748779297,
          -137.3428955078125
         ]
        }
       ],
       "layout": {
        "height": 400,
        "template": {
         "data": {
          "bar": [
           {
            "error_x": {
             "color": "#2a3f5f"
            },
            "error_y": {
             "color": "#2a3f5f"
            },
            "marker": {
             "line": {
              "color": "#E5ECF6",
              "width": 0.5
             },
             "pattern": {
              "fillmode": "overlay",
              "size": 10,
              "solidity": 0.2
             }
            },
            "type": "bar"
           }
          ],
          "barpolar": [
           {
            "marker": {
             "line": {
              "color": "#E5ECF6",
              "width": 0.5
             },
             "pattern": {
              "fillmode": "overlay",
              "size": 10,
              "solidity": 0.2
             }
            },
            "type": "barpolar"
           }
          ],
          "carpet": [
           {
            "aaxis": {
             "endlinecolor": "#2a3f5f",
             "gridcolor": "white",
             "linecolor": "white",
             "minorgridcolor": "white",
             "startlinecolor": "#2a3f5f"
            },
            "baxis": {
             "endlinecolor": "#2a3f5f",
             "gridcolor": "white",
             "linecolor": "white",
             "minorgridcolor": "white",
             "startlinecolor": "#2a3f5f"
            },
            "type": "carpet"
           }
          ],
          "choropleth": [
           {
            "colorbar": {
             "outlinewidth": 0,
             "ticks": ""
            },
            "type": "choropleth"
           }
          ],
          "contour": [
           {
            "colorbar": {
             "outlinewidth": 0,
             "ticks": ""
            },
            "colorscale": [
             [
              0,
              "#0d0887"
             ],
             [
              0.1111111111111111,
              "#46039f"
             ],
             [
              0.2222222222222222,
              "#7201a8"
             ],
             [
              0.3333333333333333,
              "#9c179e"
             ],
             [
              0.4444444444444444,
              "#bd3786"
             ],
             [
              0.5555555555555556,
              "#d8576b"
             ],
             [
              0.6666666666666666,
              "#ed7953"
             ],
             [
              0.7777777777777778,
              "#fb9f3a"
             ],
             [
              0.8888888888888888,
              "#fdca26"
             ],
             [
              1,
              "#f0f921"
             ]
            ],
            "type": "contour"
           }
          ],
          "contourcarpet": [
           {
            "colorbar": {
             "outlinewidth": 0,
             "ticks": ""
            },
            "type": "contourcarpet"
           }
          ],
          "heatmap": [
           {
            "colorbar": {
             "outlinewidth": 0,
             "ticks": ""
            },
            "colorscale": [
             [
              0,
              "#0d0887"
             ],
             [
              0.1111111111111111,
              "#46039f"
             ],
             [
              0.2222222222222222,
              "#7201a8"
             ],
             [
              0.3333333333333333,
              "#9c179e"
             ],
             [
              0.4444444444444444,
              "#bd3786"
             ],
             [
              0.5555555555555556,
              "#d8576b"
             ],
             [
              0.6666666666666666,
              "#ed7953"
             ],
             [
              0.7777777777777778,
              "#fb9f3a"
             ],
             [
              0.8888888888888888,
              "#fdca26"
             ],
             [
              1,
              "#f0f921"
             ]
            ],
            "type": "heatmap"
           }
          ],
          "heatmapgl": [
           {
            "colorbar": {
             "outlinewidth": 0,
             "ticks": ""
            },
            "colorscale": [
             [
              0,
              "#0d0887"
             ],
             [
              0.1111111111111111,
              "#46039f"
             ],
             [
              0.2222222222222222,
              "#7201a8"
             ],
             [
              0.3333333333333333,
              "#9c179e"
             ],
             [
              0.4444444444444444,
              "#bd3786"
             ],
             [
              0.5555555555555556,
              "#d8576b"
             ],
             [
              0.6666666666666666,
              "#ed7953"
             ],
             [
              0.7777777777777778,
              "#fb9f3a"
             ],
             [
              0.8888888888888888,
              "#fdca26"
             ],
             [
              1,
              "#f0f921"
             ]
            ],
            "type": "heatmapgl"
           }
          ],
          "histogram": [
           {
            "marker": {
             "pattern": {
              "fillmode": "overlay",
              "size": 10,
              "solidity": 0.2
             }
            },
            "type": "histogram"
           }
          ],
          "histogram2d": [
           {
            "colorbar": {
             "outlinewidth": 0,
             "ticks": ""
            },
            "colorscale": [
             [
              0,
              "#0d0887"
             ],
             [
              0.1111111111111111,
              "#46039f"
             ],
             [
              0.2222222222222222,
              "#7201a8"
             ],
             [
              0.3333333333333333,
              "#9c179e"
             ],
             [
              0.4444444444444444,
              "#bd3786"
             ],
             [
              0.5555555555555556,
              "#d8576b"
             ],
             [
              0.6666666666666666,
              "#ed7953"
             ],
             [
              0.7777777777777778,
              "#fb9f3a"
             ],
             [
              0.8888888888888888,
              "#fdca26"
             ],
             [
              1,
              "#f0f921"
             ]
            ],
            "type": "histogram2d"
           }
          ],
          "histogram2dcontour": [
           {
            "colorbar": {
             "outlinewidth": 0,
             "ticks": ""
            },
            "colorscale": [
             [
              0,
              "#0d0887"
             ],
             [
              0.1111111111111111,
              "#46039f"
             ],
             [
              0.2222222222222222,
              "#7201a8"
             ],
             [
              0.3333333333333333,
              "#9c179e"
             ],
             [
              0.4444444444444444,
              "#bd3786"
             ],
             [
              0.5555555555555556,
              "#d8576b"
             ],
             [
              0.6666666666666666,
              "#ed7953"
             ],
             [
              0.7777777777777778,
              "#fb9f3a"
             ],
             [
              0.8888888888888888,
              "#fdca26"
             ],
             [
              1,
              "#f0f921"
             ]
            ],
            "type": "histogram2dcontour"
           }
          ],
          "mesh3d": [
           {
            "colorbar": {
             "outlinewidth": 0,
             "ticks": ""
            },
            "type": "mesh3d"
           }
          ],
          "parcoords": [
           {
            "line": {
             "colorbar": {
              "outlinewidth": 0,
              "ticks": ""
             }
            },
            "type": "parcoords"
           }
          ],
          "pie": [
           {
            "automargin": true,
            "type": "pie"
           }
          ],
          "scatter": [
           {
            "marker": {
             "colorbar": {
              "outlinewidth": 0,
              "ticks": ""
             }
            },
            "type": "scatter"
           }
          ],
          "scatter3d": [
           {
            "line": {
             "colorbar": {
              "outlinewidth": 0,
              "ticks": ""
             }
            },
            "marker": {
             "colorbar": {
              "outlinewidth": 0,
              "ticks": ""
             }
            },
            "type": "scatter3d"
           }
          ],
          "scattercarpet": [
           {
            "marker": {
             "colorbar": {
              "outlinewidth": 0,
              "ticks": ""
             }
            },
            "type": "scattercarpet"
           }
          ],
          "scattergeo": [
           {
            "marker": {
             "colorbar": {
              "outlinewidth": 0,
              "ticks": ""
             }
            },
            "type": "scattergeo"
           }
          ],
          "scattergl": [
           {
            "marker": {
             "colorbar": {
              "outlinewidth": 0,
              "ticks": ""
             }
            },
            "type": "scattergl"
           }
          ],
          "scattermapbox": [
           {
            "marker": {
             "colorbar": {
              "outlinewidth": 0,
              "ticks": ""
             }
            },
            "type": "scattermapbox"
           }
          ],
          "scatterpolar": [
           {
            "marker": {
             "colorbar": {
              "outlinewidth": 0,
              "ticks": ""
             }
            },
            "type": "scatterpolar"
           }
          ],
          "scatterpolargl": [
           {
            "marker": {
             "colorbar": {
              "outlinewidth": 0,
              "ticks": ""
             }
            },
            "type": "scatterpolargl"
           }
          ],
          "scatterternary": [
           {
            "marker": {
             "colorbar": {
              "outlinewidth": 0,
              "ticks": ""
             }
            },
            "type": "scatterternary"
           }
          ],
          "surface": [
           {
            "colorbar": {
             "outlinewidth": 0,
             "ticks": ""
            },
            "colorscale": [
             [
              0,
              "#0d0887"
             ],
             [
              0.1111111111111111,
              "#46039f"
             ],
             [
              0.2222222222222222,
              "#7201a8"
             ],
             [
              0.3333333333333333,
              "#9c179e"
             ],
             [
              0.4444444444444444,
              "#bd3786"
             ],
             [
              0.5555555555555556,
              "#d8576b"
             ],
             [
              0.6666666666666666,
              "#ed7953"
             ],
             [
              0.7777777777777778,
              "#fb9f3a"
             ],
             [
              0.8888888888888888,
              "#fdca26"
             ],
             [
              1,
              "#f0f921"
             ]
            ],
            "type": "surface"
           }
          ],
          "table": [
           {
            "cells": {
             "fill": {
              "color": "#EBF0F8"
             },
             "line": {
              "color": "white"
             }
            },
            "header": {
             "fill": {
              "color": "#C8D4E3"
             },
             "line": {
              "color": "white"
             }
            },
            "type": "table"
           }
          ]
         },
         "layout": {
          "annotationdefaults": {
           "arrowcolor": "#2a3f5f",
           "arrowhead": 0,
           "arrowwidth": 1
          },
          "autotypenumbers": "strict",
          "coloraxis": {
           "colorbar": {
            "outlinewidth": 0,
            "ticks": ""
           }
          },
          "colorscale": {
           "diverging": [
            [
             0,
             "#8e0152"
            ],
            [
             0.1,
             "#c51b7d"
            ],
            [
             0.2,
             "#de77ae"
            ],
            [
             0.3,
             "#f1b6da"
            ],
            [
             0.4,
             "#fde0ef"
            ],
            [
             0.5,
             "#f7f7f7"
            ],
            [
             0.6,
             "#e6f5d0"
            ],
            [
             0.7,
             "#b8e186"
            ],
            [
             0.8,
             "#7fbc41"
            ],
            [
             0.9,
             "#4d9221"
            ],
            [
             1,
             "#276419"
            ]
           ],
           "sequential": [
            [
             0,
             "#0d0887"
            ],
            [
             0.1111111111111111,
             "#46039f"
            ],
            [
             0.2222222222222222,
             "#7201a8"
            ],
            [
             0.3333333333333333,
             "#9c179e"
            ],
            [
             0.4444444444444444,
             "#bd3786"
            ],
            [
             0.5555555555555556,
             "#d8576b"
            ],
            [
             0.6666666666666666,
             "#ed7953"
            ],
            [
             0.7777777777777778,
             "#fb9f3a"
            ],
            [
             0.8888888888888888,
             "#fdca26"
            ],
            [
             1,
             "#f0f921"
            ]
           ],
           "sequentialminus": [
            [
             0,
             "#0d0887"
            ],
            [
             0.1111111111111111,
             "#46039f"
            ],
            [
             0.2222222222222222,
             "#7201a8"
            ],
            [
             0.3333333333333333,
             "#9c179e"
            ],
            [
             0.4444444444444444,
             "#bd3786"
            ],
            [
             0.5555555555555556,
             "#d8576b"
            ],
            [
             0.6666666666666666,
             "#ed7953"
            ],
            [
             0.7777777777777778,
             "#fb9f3a"
            ],
            [
             0.8888888888888888,
             "#fdca26"
            ],
            [
             1,
             "#f0f921"
            ]
           ]
          },
          "colorway": [
           "#636efa",
           "#EF553B",
           "#00cc96",
           "#ab63fa",
           "#FFA15A",
           "#19d3f3",
           "#FF6692",
           "#B6E880",
           "#FF97FF",
           "#FECB52"
          ],
          "font": {
           "color": "#2a3f5f"
          },
          "geo": {
           "bgcolor": "white",
           "lakecolor": "white",
           "landcolor": "#E5ECF6",
           "showlakes": true,
           "showland": true,
           "subunitcolor": "white"
          },
          "hoverlabel": {
           "align": "left"
          },
          "hovermode": "closest",
          "mapbox": {
           "style": "light"
          },
          "paper_bgcolor": "white",
          "plot_bgcolor": "#E5ECF6",
          "polar": {
           "angularaxis": {
            "gridcolor": "white",
            "linecolor": "white",
            "ticks": ""
           },
           "bgcolor": "#E5ECF6",
           "radialaxis": {
            "gridcolor": "white",
            "linecolor": "white",
            "ticks": ""
           }
          },
          "scene": {
           "xaxis": {
            "backgroundcolor": "#E5ECF6",
            "gridcolor": "white",
            "gridwidth": 2,
            "linecolor": "white",
            "showbackground": true,
            "ticks": "",
            "zerolinecolor": "white"
           },
           "yaxis": {
            "backgroundcolor": "#E5ECF6",
            "gridcolor": "white",
            "gridwidth": 2,
            "linecolor": "white",
            "showbackground": true,
            "ticks": "",
            "zerolinecolor": "white"
           },
           "zaxis": {
            "backgroundcolor": "#E5ECF6",
            "gridcolor": "white",
            "gridwidth": 2,
            "linecolor": "white",
            "showbackground": true,
            "ticks": "",
            "zerolinecolor": "white"
           }
          },
          "shapedefaults": {
           "line": {
            "color": "#2a3f5f"
           }
          },
          "ternary": {
           "aaxis": {
            "gridcolor": "white",
            "linecolor": "white",
            "ticks": ""
           },
           "baxis": {
            "gridcolor": "white",
            "linecolor": "white",
            "ticks": ""
           },
           "bgcolor": "#E5ECF6",
           "caxis": {
            "gridcolor": "white",
            "linecolor": "white",
            "ticks": ""
           }
          },
          "title": {
           "x": 0.05
          },
          "xaxis": {
           "automargin": true,
           "gridcolor": "white",
           "linecolor": "white",
           "ticks": "",
           "title": {
            "standoff": 15
           },
           "zerolinecolor": "white",
           "zerolinewidth": 2
          },
          "yaxis": {
           "automargin": true,
           "gridcolor": "white",
           "linecolor": "white",
           "ticks": "",
           "title": {
            "standoff": 15
           },
           "zerolinecolor": "white",
           "zerolinewidth": 2
          }
         }
        },
        "title": {
         "text": "perplexity=2"
        },
        "width": 400
       }
      },
      "text/html": [
       "<div>                            <div id=\"fccb8e3c-084b-4ac3-8817-ec996f170b16\" class=\"plotly-graph-div\" style=\"height:400px; width:400px;\"></div>            <script type=\"text/javascript\">                require([\"plotly\"], function(Plotly) {                    window.PLOTLYENV=window.PLOTLYENV || {};                                    if (document.getElementById(\"fccb8e3c-084b-4ac3-8817-ec996f170b16\")) {                    Plotly.newPlot(                        \"fccb8e3c-084b-4ac3-8817-ec996f170b16\",                        [{\"marker\":{\"color\":[1,1,1,1,1,1,1,1,1,1,1,1,1,1,1,1,1,1,1,1,1,1,1,1,1,1,1,1,1,1,1,1,1,1,1,1,1,1,1,1,1,1,1,1,1,1,1,1,1,1,1,1,1,1,1,1,1,1,1,2,2,2,2,2,2,2,2,2,2,2,2,2,2,2,2,2,2,2,2,2,2,2,2,2,2,2,2,2,2,2,2,2,2,2,2,2,2,2,2,2,2,2,2,2,2,2,2,2,2,2,2,2,2,2,2,2,2,2,2,2,2,2,2,2,2,2,2,2,2,2,3,3,3,3,3,3,3,3,3,3,3,3,3,3,3,3,3,3,3,3,3,3,3,3,3,3,3,3,3,3,3,3,3,3,3,3,3,3,3,3,3,3,3,3,3,3,3,3],\"colorscale\":[[0.0,\"#440154\"],[0.1111111111111111,\"#482878\"],[0.2222222222222222,\"#3e4989\"],[0.3333333333333333,\"#31688e\"],[0.4444444444444444,\"#26828e\"],[0.5555555555555556,\"#1f9e89\"],[0.6666666666666666,\"#35b779\"],[0.7777777777777778,\"#6ece58\"],[0.8888888888888888,\"#b5de2b\"],[1.0,\"#fde725\"]],\"size\":5},\"mode\":\"markers\",\"type\":\"scatter\",\"x\":[35.84392166137695,-42.21919250488281,80.84976959228516,17.663339614868164,-218.07025146484375,15.864974021911621,-57.8692741394043,-57.97348403930664,-45.711063385009766,-44.3798942565918,7.008875370025635,-64.5908432006836,-57.620948791503906,45.565956115722656,3.0163168907165527,-57.766807556152344,-58.278709411621094,58.00060272216797,0.17045599222183228,-7.377484321594238,-92.12307739257812,-10.174395561218262,-44.63933563232422,-139.7123565673828,167.92892456054688,160.94960021972656,83.13743591308594,-61.448486328125,-139.77052307128906,-42.21249008178711,-59.84489059448242,143.7000274658203,-144.4114227294922,-42.04571533203125,68.4931869506836,-141.80511474609375,-35.53904342651367,68.0051498413086,-141.80892944335938,-80.9051742553711,47.230587005615234,-39.21923828125,68.36578369140625,-69.74647521972656,-32.05780792236328,68.7124252319336,15.60270881652832,-143.06353759765625,13.907753944396973,-45.331809997558594,43.48508071899414,-50.957340240478516,78.56330108642578,-58.050846099853516,32.95170974731445,60.62556457519531,-145.3070831298828,-48.478981018066406,-59.22490310668945,34.65654373168945,-71.59417724609375,-16.788833618164062,134.42811584472656,10.467427253723145,-118.31037902832031,-74.52854919433594,50.257320404052734,51.272377014160156,-115.46278381347656,-88.5523910522461,-38.98628234863281,24.230819702148438,7.080522537231445,-147.92335510253906,-29.962093353271484,7.1487717628479,79.5269546508789,2.612664222717285,-83.68321990966797,-1.565255880355835,-60.46866989135742,-148.0714569091797,143.78367614746094,65.349853515625,32.96409606933594,-18.779678344726562,36.77565383911133,-11.32247543334961,-101.26184844970703,145.4810333251953,23.574260711669922,-22.19874382019043,33.20466232299805,-136.05303955078125,-115.37449645996094,-147.49476623535156,11.808306694030762,8.520403861999512,69.38153839111328,30.855640411376953,-150.96630859375,-11.281182289123535,7.487623691558838,11.138375282287598,-78.31214141845703,-105.79644775390625,53.57633590698242,28.878297805786133,-102.95787048339844,-78.7382583618164,106.8897476196289,-105.67784881591797,123.82429504394531,8.01199722290039,83.18537139892578,27.7425594329834,34.200050354003906,-118.14806365966797,91.30149841308594,-14.289506912231445,134.9279327392578,-75.262451171875,-119.34060668945312,91.83743286132812,87.8294677734375,90.82127380371094,-76.24243927001953,2.3776285648345947,-79.17147827148438,-8.374063491821289,1.3544762134552002,34.96847915649414,105.05155944824219,122.76713562011719,60.53408432006836,-85.0898208618164,-145.25172424316406,27.137283325195312,-6.021060943603516,124.238037109375,127.04841613769531,-8.03277587890625,30.42347526550293,106.49336242675781,-3.6913912296295166,170.8120574951172,10.882604598999023,136.30479431152344,63.292171478271484,109.26425170898438,-0.2641395330429077,-72.60598754882812,7.112276077270508,-72.72486877441406,133.72230529785156,-142.5785675048828,14.811963081359863,-31.01100730895996,68.40983581542969,132.61941528320312,68.94218444824219,-67.67803955078125,-37.3773307800293,-64.5514907836914,129.40658569335938,65.89764404296875,-70.9975357055664,-89.7869644165039,-119.7020034790039,-2.0218441486358643,22.978008270263672,10.270931243896484,68.73001098632812,-124.10364532470703,-120.6501693725586,120.99634552001953,-266.9455261230469,103.57464599609375],\"y\":[164.90296936035156,-116.0413589477539,25.003175735473633,-23.202983856201172,-104.30821990966797,-25.75078582763672,111.71044921875,88.56108093261719,-113.77334594726562,-111.01359558105469,201.20249938964844,111.06619262695312,79.091064453125,49.04612350463867,206.42738342285156,83.52064514160156,92.76366424560547,52.6894416809082,209.87010192871094,72.60987091064453,-139.32882690429688,41.52223587036133,40.52190017700195,33.306636810302734,-50.79857635498047,162.31002807617188,27.840160369873047,110.55015563964844,-48.056884765625,38.492530822753906,101.34711456298828,81.28180694580078,-83.48452758789062,-68.71888732910156,74.85128784179688,-50.26426315307617,-32.96630859375,67.9278793334961,35.29990005493164,-27.806533813476562,88.17018127441406,36.1442985534668,71.54463195800781,18.76761245727539,-33.34292221069336,79.29146575927734,-136.8680419921875,-86.26187896728516,-134.55886840820312,-65.47086334228516,51.155826568603516,-60.58245849609375,27.756420135498047,74.52666473388672,165.67172241210938,54.11764907836914,-90.0271987915039,-62.42621612548828,98.0420150756836,-66.48025512695312,15.66923713684082,3.7676167488098145,-36.94949722290039,113.45775604248047,62.903900146484375,12.1803560256958,-27.970718383789062,-32.0288200378418,-21.13152503967285,-24.80174446105957,-36.320560455322266,103.09737396240234,8.127506256103516,-93.5746841430664,-36.68087387084961,135.46279907226562,-10.356847763061523,-82.59123992919922,-26.522560119628906,5.079826831817627,-73.47660827636719,-2.1457414627075195,-11.517671585083008,-51.28770446777344,-70.3045425415039,1.570663571357727,14.599934577941895,-142.57879638671875,10.55331802368164,-8.966106414794922,13.961372375488281,-0.9948165416717529,20.517213821411133,-66.68526458740234,57.36826705932617,-98.2611083984375,-100.40153503417969,123.2086181640625,-122.71365356445312,101.36903381347656,0.7211082577705383,-138.11997985839844,131.6788787841797,110.43968963623047,58.91218566894531,-58.656246185302734,-33.97129821777344,15.701459884643555,-60.22004699707031,12.670822143554688,-149.11463928222656,-55.03661346435547,39.75312805175781,126.59901428222656,-13.024016380310059,102.13341522216797,16.52297592163086,59.23490524291992,-23.76651382446289,-139.10409545898438,-33.90797424316406,-110.71830749511719,67.43902587890625,-15.086845397949219,-16.040544509887695,-18.6441593170166,-82.76576232910156,6.424206733703613,-81.58152770996094,-29.199424743652344,-107.1382064819336,-77.6383056640625,-139.8939208984375,42.7858772277832,-127.26412200927734,28.284292221069336,-4.599337100982666,-75.75032043457031,-23.765708923339844,48.280487060546875,43.00249099731445,43.4278450012207,-74.5718002319336,-133.55169677734375,71.44395446777344,-51.310916900634766,106.09781646728516,-18.455076217651367,-128.4880828857422,-152.6001434326172,-83.17301940917969,-112.44422149658203,140.1907958984375,7.204123020172119,-41.02202224731445,-6.702854633331299,10.875558853149414,-40.776729583740234,-115.50479888916016,-18.749662399291992,-56.058780670166016,26.817806243896484,230.83612060546875,25.479047775268555,-18.750261306762695,-55.360469818115234,30.681629180908203,26.492895126342773,-21.00472068786621,-108.14546966552734,-77.11927795410156,9.269783020019531,-119.72459411621094,-15.129799842834473,-18.09416389465332,174.1177215576172,40.21373748779297,-137.3428955078125]}],                        {\"height\":400,\"template\":{\"data\":{\"bar\":[{\"error_x\":{\"color\":\"#2a3f5f\"},\"error_y\":{\"color\":\"#2a3f5f\"},\"marker\":{\"line\":{\"color\":\"#E5ECF6\",\"width\":0.5},\"pattern\":{\"fillmode\":\"overlay\",\"size\":10,\"solidity\":0.2}},\"type\":\"bar\"}],\"barpolar\":[{\"marker\":{\"line\":{\"color\":\"#E5ECF6\",\"width\":0.5},\"pattern\":{\"fillmode\":\"overlay\",\"size\":10,\"solidity\":0.2}},\"type\":\"barpolar\"}],\"carpet\":[{\"aaxis\":{\"endlinecolor\":\"#2a3f5f\",\"gridcolor\":\"white\",\"linecolor\":\"white\",\"minorgridcolor\":\"white\",\"startlinecolor\":\"#2a3f5f\"},\"baxis\":{\"endlinecolor\":\"#2a3f5f\",\"gridcolor\":\"white\",\"linecolor\":\"white\",\"minorgridcolor\":\"white\",\"startlinecolor\":\"#2a3f5f\"},\"type\":\"carpet\"}],\"choropleth\":[{\"colorbar\":{\"outlinewidth\":0,\"ticks\":\"\"},\"type\":\"choropleth\"}],\"contour\":[{\"colorbar\":{\"outlinewidth\":0,\"ticks\":\"\"},\"colorscale\":[[0.0,\"#0d0887\"],[0.1111111111111111,\"#46039f\"],[0.2222222222222222,\"#7201a8\"],[0.3333333333333333,\"#9c179e\"],[0.4444444444444444,\"#bd3786\"],[0.5555555555555556,\"#d8576b\"],[0.6666666666666666,\"#ed7953\"],[0.7777777777777778,\"#fb9f3a\"],[0.8888888888888888,\"#fdca26\"],[1.0,\"#f0f921\"]],\"type\":\"contour\"}],\"contourcarpet\":[{\"colorbar\":{\"outlinewidth\":0,\"ticks\":\"\"},\"type\":\"contourcarpet\"}],\"heatmap\":[{\"colorbar\":{\"outlinewidth\":0,\"ticks\":\"\"},\"colorscale\":[[0.0,\"#0d0887\"],[0.1111111111111111,\"#46039f\"],[0.2222222222222222,\"#7201a8\"],[0.3333333333333333,\"#9c179e\"],[0.4444444444444444,\"#bd3786\"],[0.5555555555555556,\"#d8576b\"],[0.6666666666666666,\"#ed7953\"],[0.7777777777777778,\"#fb9f3a\"],[0.8888888888888888,\"#fdca26\"],[1.0,\"#f0f921\"]],\"type\":\"heatmap\"}],\"heatmapgl\":[{\"colorbar\":{\"outlinewidth\":0,\"ticks\":\"\"},\"colorscale\":[[0.0,\"#0d0887\"],[0.1111111111111111,\"#46039f\"],[0.2222222222222222,\"#7201a8\"],[0.3333333333333333,\"#9c179e\"],[0.4444444444444444,\"#bd3786\"],[0.5555555555555556,\"#d8576b\"],[0.6666666666666666,\"#ed7953\"],[0.7777777777777778,\"#fb9f3a\"],[0.8888888888888888,\"#fdca26\"],[1.0,\"#f0f921\"]],\"type\":\"heatmapgl\"}],\"histogram\":[{\"marker\":{\"pattern\":{\"fillmode\":\"overlay\",\"size\":10,\"solidity\":0.2}},\"type\":\"histogram\"}],\"histogram2d\":[{\"colorbar\":{\"outlinewidth\":0,\"ticks\":\"\"},\"colorscale\":[[0.0,\"#0d0887\"],[0.1111111111111111,\"#46039f\"],[0.2222222222222222,\"#7201a8\"],[0.3333333333333333,\"#9c179e\"],[0.4444444444444444,\"#bd3786\"],[0.5555555555555556,\"#d8576b\"],[0.6666666666666666,\"#ed7953\"],[0.7777777777777778,\"#fb9f3a\"],[0.8888888888888888,\"#fdca26\"],[1.0,\"#f0f921\"]],\"type\":\"histogram2d\"}],\"histogram2dcontour\":[{\"colorbar\":{\"outlinewidth\":0,\"ticks\":\"\"},\"colorscale\":[[0.0,\"#0d0887\"],[0.1111111111111111,\"#46039f\"],[0.2222222222222222,\"#7201a8\"],[0.3333333333333333,\"#9c179e\"],[0.4444444444444444,\"#bd3786\"],[0.5555555555555556,\"#d8576b\"],[0.6666666666666666,\"#ed7953\"],[0.7777777777777778,\"#fb9f3a\"],[0.8888888888888888,\"#fdca26\"],[1.0,\"#f0f921\"]],\"type\":\"histogram2dcontour\"}],\"mesh3d\":[{\"colorbar\":{\"outlinewidth\":0,\"ticks\":\"\"},\"type\":\"mesh3d\"}],\"parcoords\":[{\"line\":{\"colorbar\":{\"outlinewidth\":0,\"ticks\":\"\"}},\"type\":\"parcoords\"}],\"pie\":[{\"automargin\":true,\"type\":\"pie\"}],\"scatter\":[{\"marker\":{\"colorbar\":{\"outlinewidth\":0,\"ticks\":\"\"}},\"type\":\"scatter\"}],\"scatter3d\":[{\"line\":{\"colorbar\":{\"outlinewidth\":0,\"ticks\":\"\"}},\"marker\":{\"colorbar\":{\"outlinewidth\":0,\"ticks\":\"\"}},\"type\":\"scatter3d\"}],\"scattercarpet\":[{\"marker\":{\"colorbar\":{\"outlinewidth\":0,\"ticks\":\"\"}},\"type\":\"scattercarpet\"}],\"scattergeo\":[{\"marker\":{\"colorbar\":{\"outlinewidth\":0,\"ticks\":\"\"}},\"type\":\"scattergeo\"}],\"scattergl\":[{\"marker\":{\"colorbar\":{\"outlinewidth\":0,\"ticks\":\"\"}},\"type\":\"scattergl\"}],\"scattermapbox\":[{\"marker\":{\"colorbar\":{\"outlinewidth\":0,\"ticks\":\"\"}},\"type\":\"scattermapbox\"}],\"scatterpolar\":[{\"marker\":{\"colorbar\":{\"outlinewidth\":0,\"ticks\":\"\"}},\"type\":\"scatterpolar\"}],\"scatterpolargl\":[{\"marker\":{\"colorbar\":{\"outlinewidth\":0,\"ticks\":\"\"}},\"type\":\"scatterpolargl\"}],\"scatterternary\":[{\"marker\":{\"colorbar\":{\"outlinewidth\":0,\"ticks\":\"\"}},\"type\":\"scatterternary\"}],\"surface\":[{\"colorbar\":{\"outlinewidth\":0,\"ticks\":\"\"},\"colorscale\":[[0.0,\"#0d0887\"],[0.1111111111111111,\"#46039f\"],[0.2222222222222222,\"#7201a8\"],[0.3333333333333333,\"#9c179e\"],[0.4444444444444444,\"#bd3786\"],[0.5555555555555556,\"#d8576b\"],[0.6666666666666666,\"#ed7953\"],[0.7777777777777778,\"#fb9f3a\"],[0.8888888888888888,\"#fdca26\"],[1.0,\"#f0f921\"]],\"type\":\"surface\"}],\"table\":[{\"cells\":{\"fill\":{\"color\":\"#EBF0F8\"},\"line\":{\"color\":\"white\"}},\"header\":{\"fill\":{\"color\":\"#C8D4E3\"},\"line\":{\"color\":\"white\"}},\"type\":\"table\"}]},\"layout\":{\"annotationdefaults\":{\"arrowcolor\":\"#2a3f5f\",\"arrowhead\":0,\"arrowwidth\":1},\"autotypenumbers\":\"strict\",\"coloraxis\":{\"colorbar\":{\"outlinewidth\":0,\"ticks\":\"\"}},\"colorscale\":{\"diverging\":[[0,\"#8e0152\"],[0.1,\"#c51b7d\"],[0.2,\"#de77ae\"],[0.3,\"#f1b6da\"],[0.4,\"#fde0ef\"],[0.5,\"#f7f7f7\"],[0.6,\"#e6f5d0\"],[0.7,\"#b8e186\"],[0.8,\"#7fbc41\"],[0.9,\"#4d9221\"],[1,\"#276419\"]],\"sequential\":[[0.0,\"#0d0887\"],[0.1111111111111111,\"#46039f\"],[0.2222222222222222,\"#7201a8\"],[0.3333333333333333,\"#9c179e\"],[0.4444444444444444,\"#bd3786\"],[0.5555555555555556,\"#d8576b\"],[0.6666666666666666,\"#ed7953\"],[0.7777777777777778,\"#fb9f3a\"],[0.8888888888888888,\"#fdca26\"],[1.0,\"#f0f921\"]],\"sequentialminus\":[[0.0,\"#0d0887\"],[0.1111111111111111,\"#46039f\"],[0.2222222222222222,\"#7201a8\"],[0.3333333333333333,\"#9c179e\"],[0.4444444444444444,\"#bd3786\"],[0.5555555555555556,\"#d8576b\"],[0.6666666666666666,\"#ed7953\"],[0.7777777777777778,\"#fb9f3a\"],[0.8888888888888888,\"#fdca26\"],[1.0,\"#f0f921\"]]},\"colorway\":[\"#636efa\",\"#EF553B\",\"#00cc96\",\"#ab63fa\",\"#FFA15A\",\"#19d3f3\",\"#FF6692\",\"#B6E880\",\"#FF97FF\",\"#FECB52\"],\"font\":{\"color\":\"#2a3f5f\"},\"geo\":{\"bgcolor\":\"white\",\"lakecolor\":\"white\",\"landcolor\":\"#E5ECF6\",\"showlakes\":true,\"showland\":true,\"subunitcolor\":\"white\"},\"hoverlabel\":{\"align\":\"left\"},\"hovermode\":\"closest\",\"mapbox\":{\"style\":\"light\"},\"paper_bgcolor\":\"white\",\"plot_bgcolor\":\"#E5ECF6\",\"polar\":{\"angularaxis\":{\"gridcolor\":\"white\",\"linecolor\":\"white\",\"ticks\":\"\"},\"bgcolor\":\"#E5ECF6\",\"radialaxis\":{\"gridcolor\":\"white\",\"linecolor\":\"white\",\"ticks\":\"\"}},\"scene\":{\"xaxis\":{\"backgroundcolor\":\"#E5ECF6\",\"gridcolor\":\"white\",\"gridwidth\":2,\"linecolor\":\"white\",\"showbackground\":true,\"ticks\":\"\",\"zerolinecolor\":\"white\"},\"yaxis\":{\"backgroundcolor\":\"#E5ECF6\",\"gridcolor\":\"white\",\"gridwidth\":2,\"linecolor\":\"white\",\"showbackground\":true,\"ticks\":\"\",\"zerolinecolor\":\"white\"},\"zaxis\":{\"backgroundcolor\":\"#E5ECF6\",\"gridcolor\":\"white\",\"gridwidth\":2,\"linecolor\":\"white\",\"showbackground\":true,\"ticks\":\"\",\"zerolinecolor\":\"white\"}},\"shapedefaults\":{\"line\":{\"color\":\"#2a3f5f\"}},\"ternary\":{\"aaxis\":{\"gridcolor\":\"white\",\"linecolor\":\"white\",\"ticks\":\"\"},\"baxis\":{\"gridcolor\":\"white\",\"linecolor\":\"white\",\"ticks\":\"\"},\"bgcolor\":\"#E5ECF6\",\"caxis\":{\"gridcolor\":\"white\",\"linecolor\":\"white\",\"ticks\":\"\"}},\"title\":{\"x\":0.05},\"xaxis\":{\"automargin\":true,\"gridcolor\":\"white\",\"linecolor\":\"white\",\"ticks\":\"\",\"title\":{\"standoff\":15},\"zerolinecolor\":\"white\",\"zerolinewidth\":2},\"yaxis\":{\"automargin\":true,\"gridcolor\":\"white\",\"linecolor\":\"white\",\"ticks\":\"\",\"title\":{\"standoff\":15},\"zerolinecolor\":\"white\",\"zerolinewidth\":2}}},\"title\":{\"text\":\"perplexity=2\"},\"width\":400},                        {\"responsive\": true}                    ).then(function(){\n",
       "                            \n",
       "var gd = document.getElementById('fccb8e3c-084b-4ac3-8817-ec996f170b16');\n",
       "var x = new MutationObserver(function (mutations, observer) {{\n",
       "        var display = window.getComputedStyle(gd).display;\n",
       "        if (!display || display === 'none') {{\n",
       "            console.log([gd, 'removed!']);\n",
       "            Plotly.purge(gd);\n",
       "            observer.disconnect();\n",
       "        }}\n",
       "}});\n",
       "\n",
       "// Listen for the removal of the full notebook cells\n",
       "var notebookContainer = gd.closest('#notebook-container');\n",
       "if (notebookContainer) {{\n",
       "    x.observe(notebookContainer, {childList: true});\n",
       "}}\n",
       "\n",
       "// Listen for the clearing of the current output cell\n",
       "var outputEl = gd.closest('.output');\n",
       "if (outputEl) {{\n",
       "    x.observe(outputEl, {childList: true});\n",
       "}}\n",
       "\n",
       "                        })                };                });            </script>        </div>"
      ]
     },
     "metadata": {},
     "output_type": "display_data"
    }
   ],
   "source": [
    "X,y=dat_wine.iloc[:,1:].values, dat_wine.iloc[:,0].values\n",
    "\n",
    "from sklearn.manifold import TSNE\n",
    "t_sne=TSNE(n_components=2, perplexity=2,random_state=1) # n_components 4 이상으로 하면 오류 생긴다. 왜지\n",
    "sne_out=t_sne.fit_transform(X)\n",
    "\n",
    "import plotly.graph_objects as go\n",
    "# scatter plot\n",
    "fig=go.Figure() \n",
    "fig.add_trace(go.Scatter(x=sne_out[:,0],y=sne_out[:,1],mode='markers',\n",
    "                                           marker=dict(size=5, color=y,colorscale='Viridis'))) # color=sne_out[:,0]\n",
    "fig.update_layout(height=400,width=400)\n",
    "fig.update_layout(title='perplexity=2')\n",
    "fig.show()"
   ]
  },
  {
   "cell_type": "code",
   "execution_count": 64,
   "id": "85246c4d",
   "metadata": {},
   "outputs": [
    {
     "data": {
      "application/vnd.plotly.v1+json": {
       "config": {
        "plotlyServerURL": "https://plot.ly"
       },
       "data": [
        {
         "marker": {
          "color": [
           1,
           1,
           1,
           1,
           1,
           1,
           1,
           1,
           1,
           1,
           1,
           1,
           1,
           1,
           1,
           1,
           1,
           1,
           1,
           1,
           1,
           1,
           1,
           1,
           1,
           1,
           1,
           1,
           1,
           1,
           1,
           1,
           1,
           1,
           1,
           1,
           1,
           1,
           1,
           1,
           1,
           1,
           1,
           1,
           1,
           1,
           1,
           1,
           1,
           1,
           1,
           1,
           1,
           1,
           1,
           1,
           1,
           1,
           1,
           2,
           2,
           2,
           2,
           2,
           2,
           2,
           2,
           2,
           2,
           2,
           2,
           2,
           2,
           2,
           2,
           2,
           2,
           2,
           2,
           2,
           2,
           2,
           2,
           2,
           2,
           2,
           2,
           2,
           2,
           2,
           2,
           2,
           2,
           2,
           2,
           2,
           2,
           2,
           2,
           2,
           2,
           2,
           2,
           2,
           2,
           2,
           2,
           2,
           2,
           2,
           2,
           2,
           2,
           2,
           2,
           2,
           2,
           2,
           2,
           2,
           2,
           2,
           2,
           2,
           2,
           2,
           2,
           2,
           2,
           2,
           3,
           3,
           3,
           3,
           3,
           3,
           3,
           3,
           3,
           3,
           3,
           3,
           3,
           3,
           3,
           3,
           3,
           3,
           3,
           3,
           3,
           3,
           3,
           3,
           3,
           3,
           3,
           3,
           3,
           3,
           3,
           3,
           3,
           3,
           3,
           3,
           3,
           3,
           3,
           3,
           3,
           3,
           3,
           3,
           3,
           3,
           3,
           3
          ],
          "colorscale": [
           [
            0,
            "#440154"
           ],
           [
            0.1111111111111111,
            "#482878"
           ],
           [
            0.2222222222222222,
            "#3e4989"
           ],
           [
            0.3333333333333333,
            "#31688e"
           ],
           [
            0.4444444444444444,
            "#26828e"
           ],
           [
            0.5555555555555556,
            "#1f9e89"
           ],
           [
            0.6666666666666666,
            "#35b779"
           ],
           [
            0.7777777777777778,
            "#6ece58"
           ],
           [
            0.8888888888888888,
            "#b5de2b"
           ],
           [
            1,
            "#fde725"
           ]
          ],
          "size": 5
         },
         "mode": "markers",
         "type": "scatter",
         "x": [
          12.626753807067871,
          17.78181266784668,
          1.0461536645889282,
          -17.765649795532227,
          32.881103515625,
          -17.86897087097168,
          -14.38762378692627,
          -12.720046043395996,
          18.90354347229004,
          19.059267044067383,
          -18.90719223022461,
          -13.186952590942383,
          -15.135015487670898,
          3.1767683029174805,
          -19.1616268157959,
          -13.887341499328613,
          -11.75090217590332,
          5.309587478637695,
          -19.440961837768555,
          43.016693115234375,
          37.19035720825195,
          35.11792755126953,
          20.831802368164062,
          24.103429794311523,
          44.66225814819336,
          43.92235565185547,
          0.6047383546829224,
          -13.968878746032715,
          35.357078552246094,
          20.942947387695312,
          -13.021634101867676,
          -18.119497299194336,
          27.18351173400879,
          -8.961637496948242,
          9.003634452819824,
          35.46527099609375,
          37.53068542480469,
          7.588517189025879,
          23.430845260620117,
          35.8266716003418,
          37.58953094482422,
          21.52902603149414,
          8.273055076599121,
          14.377923011779785,
          37.0284538269043,
          10.223891258239746,
          14.727239608764648,
          27.61005973815918,
          15.275519371032715,
          -10.27263355255127,
          3.035386562347412,
          -11.648523330688477,
          0.15708866715431213,
          -15.477801322937012,
          13.316625595092773,
          5.9965386390686035,
          28.537670135498047,
          -11.266066551208496,
          -12.618454933166504,
          -50.89326858520508,
          14.65504264831543,
          -33.45478820800781,
          -10.188199043273926,
          -26.73521614074707,
          47.58084487915039,
          14.183208465576172,
          -47.77428436279297,
          -48.62427520751953,
          32.88739013671875,
          34.051937103271484,
          38.71561813354492,
          -24.398178100585938,
          -39.85491180419922,
          29.00925636291504,
          37.652008056640625,
          -29.156219482421875,
          -11.975940704345703,
          -38.01039123535156,
          35.227378845214844,
          -37.07695770263672,
          53.22757339477539,
          25.791980743408203,
          -12.827619552612305,
          -49.05060958862305,
          -50.067222595214844,
          -33.216373443603516,
          -46.17226791381836,
          -26.742170333862305,
          15.906149864196777,
          -13.230315208435059,
          -42.83084487915039,
          -33.537330627441406,
          -46.108001708984375,
          52.446231842041016,
          48.481632232666016,
          30.584827423095703,
          -6.113959789276123,
          -28.517053604125977,
          9.921218872070312,
          -23.33426284790039,
          25.17072296142578,
          -25.917028427124023,
          -30.56818389892578,
          -25.76839828491211,
          15.26965045928955,
          51.590213775634766,
          -48.509422302246094,
          -44.63444137573242,
          51.3082160949707,
          14.83920955657959,
          -30.496604919433594,
          50.685752868652344,
          -16.66425132751465,
          -29.610700607299805,
          -10.90320873260498,
          -24.19750213623047,
          -45.939186096191406,
          48.67644119262695,
          -8.509411811828613,
          -25.627214431762695,
          -11.095027923583984,
          -36.59724044799805,
          46.81327819824219,
          -10.018322944641113,
          -9.309072494506836,
          -9.81312370300293,
          47.8699836730957,
          -38.3506965637207,
          48.721431732177734,
          -23.292724609375,
          -6.696419715881348,
          -46.89358139038086,
          -28.69002342224121,
          -17.128684997558594,
          8.650845527648926,
          18.08953285217285,
          26.56266212463379,
          -48.288516998291016,
          -22.906421661376953,
          -18.30814552307129,
          -17.786102294921875,
          35.55957794189453,
          -48.54247283935547,
          -27.02875518798828,
          42.49516296386719,
          45.10506820678711,
          -25.976259231567383,
          -12.525313377380371,
          9.191092491149902,
          -31.32655143737793,
          -37.699954986572266,
          -36.839237213134766,
          -28.974763870239258,
          12.857559204101562,
          -9.284322738647461,
          27.39560317993164,
          -41.644412994384766,
          38.650054931640625,
          10.977886199951172,
          -12.981649398803711,
          -49.498451232910156,
          14.652360916137695,
          -30.21729850769043,
          13.502665519714355,
          -13.507686614990234,
          -48.929222106933594,
          16.521997451782227,
          17.13336753845215,
          32.56382369995117,
          -7.462771892547607,
          -48.15777587890625,
          -40.53990173339844,
          10.361655235290527,
          30.597087860107422,
          31.887256622314453,
          44.0399169921875,
          43.13232421875,
          -28.222375869750977
         ],
         "y": [
          -23.137855529785156,
          -24.18376922607422,
          -29.365018844604492,
          -52.24344253540039,
          29.3057918548584,
          -51.34284210205078,
          -40.70917892456055,
          -43.8475227355957,
          -24.600614547729492,
          -23.872312545776367,
          -52.39639663696289,
          -39.31247329711914,
          -44.78165054321289,
          -28.409374237060547,
          -53.438838958740234,
          -44.530738830566406,
          -42.8839111328125,
          -26.97527313232422,
          -54.79361343383789,
          -41.35908508300781,
          27.95130729675293,
          25.823932647705078,
          -25.16000747680664,
          -25.532241821289062,
          -40.15489959716797,
          -43.47364044189453,
          -30.145244598388672,
          -39.79799270629883,
          -32.94231414794922,
          -24.41873550415039,
          -40.802677154541016,
          -53.23430633544922,
          -27.002573013305664,
          -36.85105514526367,
          -25.45977020263672,
          -32.395408630371094,
          -35.73413848876953,
          -25.797828674316406,
          -25.331132888793945,
          29.448007583618164,
          27.270023345947266,
          -23.777751922607422,
          -25.12363624572754,
          27.126102447509766,
          -34.98796844482422,
          -24.875505447387695,
          -24.249998092651367,
          -26.563905715942383,
          -23.926801681518555,
          -37.42387771606445,
          -27.967811584472656,
          -37.418392181396484,
          -29.331039428710938,
          -46.35645294189453,
          -23.24799919128418,
          -26.637632369995117,
          -27.31128692626953,
          -38.0749397277832,
          -41.74730682373047,
          16.428438186645508,
          26.29645538330078,
          30.66788101196289,
          1.6807280778884888,
          35.296653747558594,
          -0.7524654269218445,
          25.310745239257812,
          24.69407081604004,
          23.408069610595703,
          28.019685745239258,
          31.28292465209961,
          -35.83543014526367,
          36.145538330078125,
          29.24825096130371,
          -28.09477996826172,
          -34.29127883911133,
          32.43768310546875,
          39.36593246459961,
          21.99858856201172,
          30.052480697631836,
          28.821401596069336,
          -7.035523414611816,
          26.32550621032715,
          4.2746500968933105,
          20.28082847595215,
          16.59028434753418,
          31.165504455566406,
          28.405099868774414,
          -9.569734573364258,
          22.182788848876953,
          4.818154811859131,
          28.78441047668457,
          32.26988983154297,
          26.759742736816406,
          -7.049009799957275,
          -1.8922898769378662,
          -28.791458129882812,
          -0.681318998336792,
          34.20370864868164,
          16.670408248901367,
          36.8916130065918,
          25.57492446899414,
          -10.215975761413574,
          32.185142517089844,
          35.869140625,
          21.48155975341797,
          -5.413487434387207,
          22.891220092773438,
          28.081491470336914,
          -6.096861362457275,
          24.324390411376953,
          -11.354121208190918,
          -4.989867687225342,
          -2.8859097957611084,
          33.63827133178711,
          39.62337112426758,
          37.113216400146484,
          27.684833526611328,
          -0.8457679748535156,
          40.2823600769043,
          -9.52137279510498,
          1.557323694229126,
          26.062053680419922,
          -0.15031838417053223,
          38.928035736083984,
          39.36781311035156,
          40.23942184448242,
          -3.074998617172241,
          29.209440231323242,
          -3.2056686878204346,
          -7.735265254974365,
          -0.1797918826341629,
          17.001771926879883,
          -10.967767715454102,
          -3.7241475582122803,
          15.960597038269043,
          23.99720001220703,
          25.844911575317383,
          15.579000473022461,
          -7.449391841888428,
          -4.097456455230713,
          -3.0073652267456055,
          25.32583236694336,
          16.475534439086914,
          -11.762611389160156,
          -40.47691345214844,
          -41.00456237792969,
          36.96199417114258,
          2.569206714630127,
          15.20405101776123,
          -10.320255279541016,
          22.316722869873047,
          25.15851402282715,
          30.89324378967285,
          25.631872177124023,
          1.5566000938415527,
          26.223281860351562,
          29.165996551513672,
          -34.613285064697266,
          15.121017456054688,
          1.6848499774932861,
          18.889493942260742,
          28.260501861572266,
          -12.099273681640625,
          27.98091697692871,
          1.1299413442611694,
          19.00865364074707,
          28.64433479309082,
          23.198719024658203,
          27.037744522094727,
          0.37622547149658203,
          14.63977336883545,
          29.758832931518555,
          15.883025169372559,
          26.818252563476562,
          27.146120071411133,
          -42.492095947265625,
          -42.39565658569336,
          -10.791659355163574
         ]
        }
       ],
       "layout": {
        "height": 400,
        "template": {
         "data": {
          "bar": [
           {
            "error_x": {
             "color": "#2a3f5f"
            },
            "error_y": {
             "color": "#2a3f5f"
            },
            "marker": {
             "line": {
              "color": "#E5ECF6",
              "width": 0.5
             },
             "pattern": {
              "fillmode": "overlay",
              "size": 10,
              "solidity": 0.2
             }
            },
            "type": "bar"
           }
          ],
          "barpolar": [
           {
            "marker": {
             "line": {
              "color": "#E5ECF6",
              "width": 0.5
             },
             "pattern": {
              "fillmode": "overlay",
              "size": 10,
              "solidity": 0.2
             }
            },
            "type": "barpolar"
           }
          ],
          "carpet": [
           {
            "aaxis": {
             "endlinecolor": "#2a3f5f",
             "gridcolor": "white",
             "linecolor": "white",
             "minorgridcolor": "white",
             "startlinecolor": "#2a3f5f"
            },
            "baxis": {
             "endlinecolor": "#2a3f5f",
             "gridcolor": "white",
             "linecolor": "white",
             "minorgridcolor": "white",
             "startlinecolor": "#2a3f5f"
            },
            "type": "carpet"
           }
          ],
          "choropleth": [
           {
            "colorbar": {
             "outlinewidth": 0,
             "ticks": ""
            },
            "type": "choropleth"
           }
          ],
          "contour": [
           {
            "colorbar": {
             "outlinewidth": 0,
             "ticks": ""
            },
            "colorscale": [
             [
              0,
              "#0d0887"
             ],
             [
              0.1111111111111111,
              "#46039f"
             ],
             [
              0.2222222222222222,
              "#7201a8"
             ],
             [
              0.3333333333333333,
              "#9c179e"
             ],
             [
              0.4444444444444444,
              "#bd3786"
             ],
             [
              0.5555555555555556,
              "#d8576b"
             ],
             [
              0.6666666666666666,
              "#ed7953"
             ],
             [
              0.7777777777777778,
              "#fb9f3a"
             ],
             [
              0.8888888888888888,
              "#fdca26"
             ],
             [
              1,
              "#f0f921"
             ]
            ],
            "type": "contour"
           }
          ],
          "contourcarpet": [
           {
            "colorbar": {
             "outlinewidth": 0,
             "ticks": ""
            },
            "type": "contourcarpet"
           }
          ],
          "heatmap": [
           {
            "colorbar": {
             "outlinewidth": 0,
             "ticks": ""
            },
            "colorscale": [
             [
              0,
              "#0d0887"
             ],
             [
              0.1111111111111111,
              "#46039f"
             ],
             [
              0.2222222222222222,
              "#7201a8"
             ],
             [
              0.3333333333333333,
              "#9c179e"
             ],
             [
              0.4444444444444444,
              "#bd3786"
             ],
             [
              0.5555555555555556,
              "#d8576b"
             ],
             [
              0.6666666666666666,
              "#ed7953"
             ],
             [
              0.7777777777777778,
              "#fb9f3a"
             ],
             [
              0.8888888888888888,
              "#fdca26"
             ],
             [
              1,
              "#f0f921"
             ]
            ],
            "type": "heatmap"
           }
          ],
          "heatmapgl": [
           {
            "colorbar": {
             "outlinewidth": 0,
             "ticks": ""
            },
            "colorscale": [
             [
              0,
              "#0d0887"
             ],
             [
              0.1111111111111111,
              "#46039f"
             ],
             [
              0.2222222222222222,
              "#7201a8"
             ],
             [
              0.3333333333333333,
              "#9c179e"
             ],
             [
              0.4444444444444444,
              "#bd3786"
             ],
             [
              0.5555555555555556,
              "#d8576b"
             ],
             [
              0.6666666666666666,
              "#ed7953"
             ],
             [
              0.7777777777777778,
              "#fb9f3a"
             ],
             [
              0.8888888888888888,
              "#fdca26"
             ],
             [
              1,
              "#f0f921"
             ]
            ],
            "type": "heatmapgl"
           }
          ],
          "histogram": [
           {
            "marker": {
             "pattern": {
              "fillmode": "overlay",
              "size": 10,
              "solidity": 0.2
             }
            },
            "type": "histogram"
           }
          ],
          "histogram2d": [
           {
            "colorbar": {
             "outlinewidth": 0,
             "ticks": ""
            },
            "colorscale": [
             [
              0,
              "#0d0887"
             ],
             [
              0.1111111111111111,
              "#46039f"
             ],
             [
              0.2222222222222222,
              "#7201a8"
             ],
             [
              0.3333333333333333,
              "#9c179e"
             ],
             [
              0.4444444444444444,
              "#bd3786"
             ],
             [
              0.5555555555555556,
              "#d8576b"
             ],
             [
              0.6666666666666666,
              "#ed7953"
             ],
             [
              0.7777777777777778,
              "#fb9f3a"
             ],
             [
              0.8888888888888888,
              "#fdca26"
             ],
             [
              1,
              "#f0f921"
             ]
            ],
            "type": "histogram2d"
           }
          ],
          "histogram2dcontour": [
           {
            "colorbar": {
             "outlinewidth": 0,
             "ticks": ""
            },
            "colorscale": [
             [
              0,
              "#0d0887"
             ],
             [
              0.1111111111111111,
              "#46039f"
             ],
             [
              0.2222222222222222,
              "#7201a8"
             ],
             [
              0.3333333333333333,
              "#9c179e"
             ],
             [
              0.4444444444444444,
              "#bd3786"
             ],
             [
              0.5555555555555556,
              "#d8576b"
             ],
             [
              0.6666666666666666,
              "#ed7953"
             ],
             [
              0.7777777777777778,
              "#fb9f3a"
             ],
             [
              0.8888888888888888,
              "#fdca26"
             ],
             [
              1,
              "#f0f921"
             ]
            ],
            "type": "histogram2dcontour"
           }
          ],
          "mesh3d": [
           {
            "colorbar": {
             "outlinewidth": 0,
             "ticks": ""
            },
            "type": "mesh3d"
           }
          ],
          "parcoords": [
           {
            "line": {
             "colorbar": {
              "outlinewidth": 0,
              "ticks": ""
             }
            },
            "type": "parcoords"
           }
          ],
          "pie": [
           {
            "automargin": true,
            "type": "pie"
           }
          ],
          "scatter": [
           {
            "marker": {
             "colorbar": {
              "outlinewidth": 0,
              "ticks": ""
             }
            },
            "type": "scatter"
           }
          ],
          "scatter3d": [
           {
            "line": {
             "colorbar": {
              "outlinewidth": 0,
              "ticks": ""
             }
            },
            "marker": {
             "colorbar": {
              "outlinewidth": 0,
              "ticks": ""
             }
            },
            "type": "scatter3d"
           }
          ],
          "scattercarpet": [
           {
            "marker": {
             "colorbar": {
              "outlinewidth": 0,
              "ticks": ""
             }
            },
            "type": "scattercarpet"
           }
          ],
          "scattergeo": [
           {
            "marker": {
             "colorbar": {
              "outlinewidth": 0,
              "ticks": ""
             }
            },
            "type": "scattergeo"
           }
          ],
          "scattergl": [
           {
            "marker": {
             "colorbar": {
              "outlinewidth": 0,
              "ticks": ""
             }
            },
            "type": "scattergl"
           }
          ],
          "scattermapbox": [
           {
            "marker": {
             "colorbar": {
              "outlinewidth": 0,
              "ticks": ""
             }
            },
            "type": "scattermapbox"
           }
          ],
          "scatterpolar": [
           {
            "marker": {
             "colorbar": {
              "outlinewidth": 0,
              "ticks": ""
             }
            },
            "type": "scatterpolar"
           }
          ],
          "scatterpolargl": [
           {
            "marker": {
             "colorbar": {
              "outlinewidth": 0,
              "ticks": ""
             }
            },
            "type": "scatterpolargl"
           }
          ],
          "scatterternary": [
           {
            "marker": {
             "colorbar": {
              "outlinewidth": 0,
              "ticks": ""
             }
            },
            "type": "scatterternary"
           }
          ],
          "surface": [
           {
            "colorbar": {
             "outlinewidth": 0,
             "ticks": ""
            },
            "colorscale": [
             [
              0,
              "#0d0887"
             ],
             [
              0.1111111111111111,
              "#46039f"
             ],
             [
              0.2222222222222222,
              "#7201a8"
             ],
             [
              0.3333333333333333,
              "#9c179e"
             ],
             [
              0.4444444444444444,
              "#bd3786"
             ],
             [
              0.5555555555555556,
              "#d8576b"
             ],
             [
              0.6666666666666666,
              "#ed7953"
             ],
             [
              0.7777777777777778,
              "#fb9f3a"
             ],
             [
              0.8888888888888888,
              "#fdca26"
             ],
             [
              1,
              "#f0f921"
             ]
            ],
            "type": "surface"
           }
          ],
          "table": [
           {
            "cells": {
             "fill": {
              "color": "#EBF0F8"
             },
             "line": {
              "color": "white"
             }
            },
            "header": {
             "fill": {
              "color": "#C8D4E3"
             },
             "line": {
              "color": "white"
             }
            },
            "type": "table"
           }
          ]
         },
         "layout": {
          "annotationdefaults": {
           "arrowcolor": "#2a3f5f",
           "arrowhead": 0,
           "arrowwidth": 1
          },
          "autotypenumbers": "strict",
          "coloraxis": {
           "colorbar": {
            "outlinewidth": 0,
            "ticks": ""
           }
          },
          "colorscale": {
           "diverging": [
            [
             0,
             "#8e0152"
            ],
            [
             0.1,
             "#c51b7d"
            ],
            [
             0.2,
             "#de77ae"
            ],
            [
             0.3,
             "#f1b6da"
            ],
            [
             0.4,
             "#fde0ef"
            ],
            [
             0.5,
             "#f7f7f7"
            ],
            [
             0.6,
             "#e6f5d0"
            ],
            [
             0.7,
             "#b8e186"
            ],
            [
             0.8,
             "#7fbc41"
            ],
            [
             0.9,
             "#4d9221"
            ],
            [
             1,
             "#276419"
            ]
           ],
           "sequential": [
            [
             0,
             "#0d0887"
            ],
            [
             0.1111111111111111,
             "#46039f"
            ],
            [
             0.2222222222222222,
             "#7201a8"
            ],
            [
             0.3333333333333333,
             "#9c179e"
            ],
            [
             0.4444444444444444,
             "#bd3786"
            ],
            [
             0.5555555555555556,
             "#d8576b"
            ],
            [
             0.6666666666666666,
             "#ed7953"
            ],
            [
             0.7777777777777778,
             "#fb9f3a"
            ],
            [
             0.8888888888888888,
             "#fdca26"
            ],
            [
             1,
             "#f0f921"
            ]
           ],
           "sequentialminus": [
            [
             0,
             "#0d0887"
            ],
            [
             0.1111111111111111,
             "#46039f"
            ],
            [
             0.2222222222222222,
             "#7201a8"
            ],
            [
             0.3333333333333333,
             "#9c179e"
            ],
            [
             0.4444444444444444,
             "#bd3786"
            ],
            [
             0.5555555555555556,
             "#d8576b"
            ],
            [
             0.6666666666666666,
             "#ed7953"
            ],
            [
             0.7777777777777778,
             "#fb9f3a"
            ],
            [
             0.8888888888888888,
             "#fdca26"
            ],
            [
             1,
             "#f0f921"
            ]
           ]
          },
          "colorway": [
           "#636efa",
           "#EF553B",
           "#00cc96",
           "#ab63fa",
           "#FFA15A",
           "#19d3f3",
           "#FF6692",
           "#B6E880",
           "#FF97FF",
           "#FECB52"
          ],
          "font": {
           "color": "#2a3f5f"
          },
          "geo": {
           "bgcolor": "white",
           "lakecolor": "white",
           "landcolor": "#E5ECF6",
           "showlakes": true,
           "showland": true,
           "subunitcolor": "white"
          },
          "hoverlabel": {
           "align": "left"
          },
          "hovermode": "closest",
          "mapbox": {
           "style": "light"
          },
          "paper_bgcolor": "white",
          "plot_bgcolor": "#E5ECF6",
          "polar": {
           "angularaxis": {
            "gridcolor": "white",
            "linecolor": "white",
            "ticks": ""
           },
           "bgcolor": "#E5ECF6",
           "radialaxis": {
            "gridcolor": "white",
            "linecolor": "white",
            "ticks": ""
           }
          },
          "scene": {
           "xaxis": {
            "backgroundcolor": "#E5ECF6",
            "gridcolor": "white",
            "gridwidth": 2,
            "linecolor": "white",
            "showbackground": true,
            "ticks": "",
            "zerolinecolor": "white"
           },
           "yaxis": {
            "backgroundcolor": "#E5ECF6",
            "gridcolor": "white",
            "gridwidth": 2,
            "linecolor": "white",
            "showbackground": true,
            "ticks": "",
            "zerolinecolor": "white"
           },
           "zaxis": {
            "backgroundcolor": "#E5ECF6",
            "gridcolor": "white",
            "gridwidth": 2,
            "linecolor": "white",
            "showbackground": true,
            "ticks": "",
            "zerolinecolor": "white"
           }
          },
          "shapedefaults": {
           "line": {
            "color": "#2a3f5f"
           }
          },
          "ternary": {
           "aaxis": {
            "gridcolor": "white",
            "linecolor": "white",
            "ticks": ""
           },
           "baxis": {
            "gridcolor": "white",
            "linecolor": "white",
            "ticks": ""
           },
           "bgcolor": "#E5ECF6",
           "caxis": {
            "gridcolor": "white",
            "linecolor": "white",
            "ticks": ""
           }
          },
          "title": {
           "x": 0.05
          },
          "xaxis": {
           "automargin": true,
           "gridcolor": "white",
           "linecolor": "white",
           "ticks": "",
           "title": {
            "standoff": 15
           },
           "zerolinecolor": "white",
           "zerolinewidth": 2
          },
          "yaxis": {
           "automargin": true,
           "gridcolor": "white",
           "linecolor": "white",
           "ticks": "",
           "title": {
            "standoff": 15
           },
           "zerolinecolor": "white",
           "zerolinewidth": 2
          }
         }
        },
        "width": 400
       }
      },
      "text/html": [
       "<div>                            <div id=\"089ef1c2-152a-47ea-b206-d4f5c94953cf\" class=\"plotly-graph-div\" style=\"height:400px; width:400px;\"></div>            <script type=\"text/javascript\">                require([\"plotly\"], function(Plotly) {                    window.PLOTLYENV=window.PLOTLYENV || {};                                    if (document.getElementById(\"089ef1c2-152a-47ea-b206-d4f5c94953cf\")) {                    Plotly.newPlot(                        \"089ef1c2-152a-47ea-b206-d4f5c94953cf\",                        [{\"marker\":{\"color\":[1,1,1,1,1,1,1,1,1,1,1,1,1,1,1,1,1,1,1,1,1,1,1,1,1,1,1,1,1,1,1,1,1,1,1,1,1,1,1,1,1,1,1,1,1,1,1,1,1,1,1,1,1,1,1,1,1,1,1,2,2,2,2,2,2,2,2,2,2,2,2,2,2,2,2,2,2,2,2,2,2,2,2,2,2,2,2,2,2,2,2,2,2,2,2,2,2,2,2,2,2,2,2,2,2,2,2,2,2,2,2,2,2,2,2,2,2,2,2,2,2,2,2,2,2,2,2,2,2,2,3,3,3,3,3,3,3,3,3,3,3,3,3,3,3,3,3,3,3,3,3,3,3,3,3,3,3,3,3,3,3,3,3,3,3,3,3,3,3,3,3,3,3,3,3,3,3,3],\"colorscale\":[[0.0,\"#440154\"],[0.1111111111111111,\"#482878\"],[0.2222222222222222,\"#3e4989\"],[0.3333333333333333,\"#31688e\"],[0.4444444444444444,\"#26828e\"],[0.5555555555555556,\"#1f9e89\"],[0.6666666666666666,\"#35b779\"],[0.7777777777777778,\"#6ece58\"],[0.8888888888888888,\"#b5de2b\"],[1.0,\"#fde725\"]],\"size\":5},\"mode\":\"markers\",\"type\":\"scatter\",\"x\":[12.626753807067871,17.78181266784668,1.0461536645889282,-17.765649795532227,32.881103515625,-17.86897087097168,-14.38762378692627,-12.720046043395996,18.90354347229004,19.059267044067383,-18.90719223022461,-13.186952590942383,-15.135015487670898,3.1767683029174805,-19.1616268157959,-13.887341499328613,-11.75090217590332,5.309587478637695,-19.440961837768555,43.016693115234375,37.19035720825195,35.11792755126953,20.831802368164062,24.103429794311523,44.66225814819336,43.92235565185547,0.6047383546829224,-13.968878746032715,35.357078552246094,20.942947387695312,-13.021634101867676,-18.119497299194336,27.18351173400879,-8.961637496948242,9.003634452819824,35.46527099609375,37.53068542480469,7.588517189025879,23.430845260620117,35.8266716003418,37.58953094482422,21.52902603149414,8.273055076599121,14.377923011779785,37.0284538269043,10.223891258239746,14.727239608764648,27.61005973815918,15.275519371032715,-10.27263355255127,3.035386562347412,-11.648523330688477,0.15708866715431213,-15.477801322937012,13.316625595092773,5.9965386390686035,28.537670135498047,-11.266066551208496,-12.618454933166504,-50.89326858520508,14.65504264831543,-33.45478820800781,-10.188199043273926,-26.73521614074707,47.58084487915039,14.183208465576172,-47.77428436279297,-48.62427520751953,32.88739013671875,34.051937103271484,38.71561813354492,-24.398178100585938,-39.85491180419922,29.00925636291504,37.652008056640625,-29.156219482421875,-11.975940704345703,-38.01039123535156,35.227378845214844,-37.07695770263672,53.22757339477539,25.791980743408203,-12.827619552612305,-49.05060958862305,-50.067222595214844,-33.216373443603516,-46.17226791381836,-26.742170333862305,15.906149864196777,-13.230315208435059,-42.83084487915039,-33.537330627441406,-46.108001708984375,52.446231842041016,48.481632232666016,30.584827423095703,-6.113959789276123,-28.517053604125977,9.921218872070312,-23.33426284790039,25.17072296142578,-25.917028427124023,-30.56818389892578,-25.76839828491211,15.26965045928955,51.590213775634766,-48.509422302246094,-44.63444137573242,51.3082160949707,14.83920955657959,-30.496604919433594,50.685752868652344,-16.66425132751465,-29.610700607299805,-10.90320873260498,-24.19750213623047,-45.939186096191406,48.67644119262695,-8.509411811828613,-25.627214431762695,-11.095027923583984,-36.59724044799805,46.81327819824219,-10.018322944641113,-9.309072494506836,-9.81312370300293,47.8699836730957,-38.3506965637207,48.721431732177734,-23.292724609375,-6.696419715881348,-46.89358139038086,-28.69002342224121,-17.128684997558594,8.650845527648926,18.08953285217285,26.56266212463379,-48.288516998291016,-22.906421661376953,-18.30814552307129,-17.786102294921875,35.55957794189453,-48.54247283935547,-27.02875518798828,42.49516296386719,45.10506820678711,-25.976259231567383,-12.525313377380371,9.191092491149902,-31.32655143737793,-37.699954986572266,-36.839237213134766,-28.974763870239258,12.857559204101562,-9.284322738647461,27.39560317993164,-41.644412994384766,38.650054931640625,10.977886199951172,-12.981649398803711,-49.498451232910156,14.652360916137695,-30.21729850769043,13.502665519714355,-13.507686614990234,-48.929222106933594,16.521997451782227,17.13336753845215,32.56382369995117,-7.462771892547607,-48.15777587890625,-40.53990173339844,10.361655235290527,30.597087860107422,31.887256622314453,44.0399169921875,43.13232421875,-28.222375869750977],\"y\":[-23.137855529785156,-24.18376922607422,-29.365018844604492,-52.24344253540039,29.3057918548584,-51.34284210205078,-40.70917892456055,-43.8475227355957,-24.600614547729492,-23.872312545776367,-52.39639663696289,-39.31247329711914,-44.78165054321289,-28.409374237060547,-53.438838958740234,-44.530738830566406,-42.8839111328125,-26.97527313232422,-54.79361343383789,-41.35908508300781,27.95130729675293,25.823932647705078,-25.16000747680664,-25.532241821289062,-40.15489959716797,-43.47364044189453,-30.145244598388672,-39.79799270629883,-32.94231414794922,-24.41873550415039,-40.802677154541016,-53.23430633544922,-27.002573013305664,-36.85105514526367,-25.45977020263672,-32.395408630371094,-35.73413848876953,-25.797828674316406,-25.331132888793945,29.448007583618164,27.270023345947266,-23.777751922607422,-25.12363624572754,27.126102447509766,-34.98796844482422,-24.875505447387695,-24.249998092651367,-26.563905715942383,-23.926801681518555,-37.42387771606445,-27.967811584472656,-37.418392181396484,-29.331039428710938,-46.35645294189453,-23.24799919128418,-26.637632369995117,-27.31128692626953,-38.0749397277832,-41.74730682373047,16.428438186645508,26.29645538330078,30.66788101196289,1.6807280778884888,35.296653747558594,-0.7524654269218445,25.310745239257812,24.69407081604004,23.408069610595703,28.019685745239258,31.28292465209961,-35.83543014526367,36.145538330078125,29.24825096130371,-28.09477996826172,-34.29127883911133,32.43768310546875,39.36593246459961,21.99858856201172,30.052480697631836,28.821401596069336,-7.035523414611816,26.32550621032715,4.2746500968933105,20.28082847595215,16.59028434753418,31.165504455566406,28.405099868774414,-9.569734573364258,22.182788848876953,4.818154811859131,28.78441047668457,32.26988983154297,26.759742736816406,-7.049009799957275,-1.8922898769378662,-28.791458129882812,-0.681318998336792,34.20370864868164,16.670408248901367,36.8916130065918,25.57492446899414,-10.215975761413574,32.185142517089844,35.869140625,21.48155975341797,-5.413487434387207,22.891220092773438,28.081491470336914,-6.096861362457275,24.324390411376953,-11.354121208190918,-4.989867687225342,-2.8859097957611084,33.63827133178711,39.62337112426758,37.113216400146484,27.684833526611328,-0.8457679748535156,40.2823600769043,-9.52137279510498,1.557323694229126,26.062053680419922,-0.15031838417053223,38.928035736083984,39.36781311035156,40.23942184448242,-3.074998617172241,29.209440231323242,-3.2056686878204346,-7.735265254974365,-0.1797918826341629,17.001771926879883,-10.967767715454102,-3.7241475582122803,15.960597038269043,23.99720001220703,25.844911575317383,15.579000473022461,-7.449391841888428,-4.097456455230713,-3.0073652267456055,25.32583236694336,16.475534439086914,-11.762611389160156,-40.47691345214844,-41.00456237792969,36.96199417114258,2.569206714630127,15.20405101776123,-10.320255279541016,22.316722869873047,25.15851402282715,30.89324378967285,25.631872177124023,1.5566000938415527,26.223281860351562,29.165996551513672,-34.613285064697266,15.121017456054688,1.6848499774932861,18.889493942260742,28.260501861572266,-12.099273681640625,27.98091697692871,1.1299413442611694,19.00865364074707,28.64433479309082,23.198719024658203,27.037744522094727,0.37622547149658203,14.63977336883545,29.758832931518555,15.883025169372559,26.818252563476562,27.146120071411133,-42.492095947265625,-42.39565658569336,-10.791659355163574]}],                        {\"height\":400,\"template\":{\"data\":{\"bar\":[{\"error_x\":{\"color\":\"#2a3f5f\"},\"error_y\":{\"color\":\"#2a3f5f\"},\"marker\":{\"line\":{\"color\":\"#E5ECF6\",\"width\":0.5},\"pattern\":{\"fillmode\":\"overlay\",\"size\":10,\"solidity\":0.2}},\"type\":\"bar\"}],\"barpolar\":[{\"marker\":{\"line\":{\"color\":\"#E5ECF6\",\"width\":0.5},\"pattern\":{\"fillmode\":\"overlay\",\"size\":10,\"solidity\":0.2}},\"type\":\"barpolar\"}],\"carpet\":[{\"aaxis\":{\"endlinecolor\":\"#2a3f5f\",\"gridcolor\":\"white\",\"linecolor\":\"white\",\"minorgridcolor\":\"white\",\"startlinecolor\":\"#2a3f5f\"},\"baxis\":{\"endlinecolor\":\"#2a3f5f\",\"gridcolor\":\"white\",\"linecolor\":\"white\",\"minorgridcolor\":\"white\",\"startlinecolor\":\"#2a3f5f\"},\"type\":\"carpet\"}],\"choropleth\":[{\"colorbar\":{\"outlinewidth\":0,\"ticks\":\"\"},\"type\":\"choropleth\"}],\"contour\":[{\"colorbar\":{\"outlinewidth\":0,\"ticks\":\"\"},\"colorscale\":[[0.0,\"#0d0887\"],[0.1111111111111111,\"#46039f\"],[0.2222222222222222,\"#7201a8\"],[0.3333333333333333,\"#9c179e\"],[0.4444444444444444,\"#bd3786\"],[0.5555555555555556,\"#d8576b\"],[0.6666666666666666,\"#ed7953\"],[0.7777777777777778,\"#fb9f3a\"],[0.8888888888888888,\"#fdca26\"],[1.0,\"#f0f921\"]],\"type\":\"contour\"}],\"contourcarpet\":[{\"colorbar\":{\"outlinewidth\":0,\"ticks\":\"\"},\"type\":\"contourcarpet\"}],\"heatmap\":[{\"colorbar\":{\"outlinewidth\":0,\"ticks\":\"\"},\"colorscale\":[[0.0,\"#0d0887\"],[0.1111111111111111,\"#46039f\"],[0.2222222222222222,\"#7201a8\"],[0.3333333333333333,\"#9c179e\"],[0.4444444444444444,\"#bd3786\"],[0.5555555555555556,\"#d8576b\"],[0.6666666666666666,\"#ed7953\"],[0.7777777777777778,\"#fb9f3a\"],[0.8888888888888888,\"#fdca26\"],[1.0,\"#f0f921\"]],\"type\":\"heatmap\"}],\"heatmapgl\":[{\"colorbar\":{\"outlinewidth\":0,\"ticks\":\"\"},\"colorscale\":[[0.0,\"#0d0887\"],[0.1111111111111111,\"#46039f\"],[0.2222222222222222,\"#7201a8\"],[0.3333333333333333,\"#9c179e\"],[0.4444444444444444,\"#bd3786\"],[0.5555555555555556,\"#d8576b\"],[0.6666666666666666,\"#ed7953\"],[0.7777777777777778,\"#fb9f3a\"],[0.8888888888888888,\"#fdca26\"],[1.0,\"#f0f921\"]],\"type\":\"heatmapgl\"}],\"histogram\":[{\"marker\":{\"pattern\":{\"fillmode\":\"overlay\",\"size\":10,\"solidity\":0.2}},\"type\":\"histogram\"}],\"histogram2d\":[{\"colorbar\":{\"outlinewidth\":0,\"ticks\":\"\"},\"colorscale\":[[0.0,\"#0d0887\"],[0.1111111111111111,\"#46039f\"],[0.2222222222222222,\"#7201a8\"],[0.3333333333333333,\"#9c179e\"],[0.4444444444444444,\"#bd3786\"],[0.5555555555555556,\"#d8576b\"],[0.6666666666666666,\"#ed7953\"],[0.7777777777777778,\"#fb9f3a\"],[0.8888888888888888,\"#fdca26\"],[1.0,\"#f0f921\"]],\"type\":\"histogram2d\"}],\"histogram2dcontour\":[{\"colorbar\":{\"outlinewidth\":0,\"ticks\":\"\"},\"colorscale\":[[0.0,\"#0d0887\"],[0.1111111111111111,\"#46039f\"],[0.2222222222222222,\"#7201a8\"],[0.3333333333333333,\"#9c179e\"],[0.4444444444444444,\"#bd3786\"],[0.5555555555555556,\"#d8576b\"],[0.6666666666666666,\"#ed7953\"],[0.7777777777777778,\"#fb9f3a\"],[0.8888888888888888,\"#fdca26\"],[1.0,\"#f0f921\"]],\"type\":\"histogram2dcontour\"}],\"mesh3d\":[{\"colorbar\":{\"outlinewidth\":0,\"ticks\":\"\"},\"type\":\"mesh3d\"}],\"parcoords\":[{\"line\":{\"colorbar\":{\"outlinewidth\":0,\"ticks\":\"\"}},\"type\":\"parcoords\"}],\"pie\":[{\"automargin\":true,\"type\":\"pie\"}],\"scatter\":[{\"marker\":{\"colorbar\":{\"outlinewidth\":0,\"ticks\":\"\"}},\"type\":\"scatter\"}],\"scatter3d\":[{\"line\":{\"colorbar\":{\"outlinewidth\":0,\"ticks\":\"\"}},\"marker\":{\"colorbar\":{\"outlinewidth\":0,\"ticks\":\"\"}},\"type\":\"scatter3d\"}],\"scattercarpet\":[{\"marker\":{\"colorbar\":{\"outlinewidth\":0,\"ticks\":\"\"}},\"type\":\"scattercarpet\"}],\"scattergeo\":[{\"marker\":{\"colorbar\":{\"outlinewidth\":0,\"ticks\":\"\"}},\"type\":\"scattergeo\"}],\"scattergl\":[{\"marker\":{\"colorbar\":{\"outlinewidth\":0,\"ticks\":\"\"}},\"type\":\"scattergl\"}],\"scattermapbox\":[{\"marker\":{\"colorbar\":{\"outlinewidth\":0,\"ticks\":\"\"}},\"type\":\"scattermapbox\"}],\"scatterpolar\":[{\"marker\":{\"colorbar\":{\"outlinewidth\":0,\"ticks\":\"\"}},\"type\":\"scatterpolar\"}],\"scatterpolargl\":[{\"marker\":{\"colorbar\":{\"outlinewidth\":0,\"ticks\":\"\"}},\"type\":\"scatterpolargl\"}],\"scatterternary\":[{\"marker\":{\"colorbar\":{\"outlinewidth\":0,\"ticks\":\"\"}},\"type\":\"scatterternary\"}],\"surface\":[{\"colorbar\":{\"outlinewidth\":0,\"ticks\":\"\"},\"colorscale\":[[0.0,\"#0d0887\"],[0.1111111111111111,\"#46039f\"],[0.2222222222222222,\"#7201a8\"],[0.3333333333333333,\"#9c179e\"],[0.4444444444444444,\"#bd3786\"],[0.5555555555555556,\"#d8576b\"],[0.6666666666666666,\"#ed7953\"],[0.7777777777777778,\"#fb9f3a\"],[0.8888888888888888,\"#fdca26\"],[1.0,\"#f0f921\"]],\"type\":\"surface\"}],\"table\":[{\"cells\":{\"fill\":{\"color\":\"#EBF0F8\"},\"line\":{\"color\":\"white\"}},\"header\":{\"fill\":{\"color\":\"#C8D4E3\"},\"line\":{\"color\":\"white\"}},\"type\":\"table\"}]},\"layout\":{\"annotationdefaults\":{\"arrowcolor\":\"#2a3f5f\",\"arrowhead\":0,\"arrowwidth\":1},\"autotypenumbers\":\"strict\",\"coloraxis\":{\"colorbar\":{\"outlinewidth\":0,\"ticks\":\"\"}},\"colorscale\":{\"diverging\":[[0,\"#8e0152\"],[0.1,\"#c51b7d\"],[0.2,\"#de77ae\"],[0.3,\"#f1b6da\"],[0.4,\"#fde0ef\"],[0.5,\"#f7f7f7\"],[0.6,\"#e6f5d0\"],[0.7,\"#b8e186\"],[0.8,\"#7fbc41\"],[0.9,\"#4d9221\"],[1,\"#276419\"]],\"sequential\":[[0.0,\"#0d0887\"],[0.1111111111111111,\"#46039f\"],[0.2222222222222222,\"#7201a8\"],[0.3333333333333333,\"#9c179e\"],[0.4444444444444444,\"#bd3786\"],[0.5555555555555556,\"#d8576b\"],[0.6666666666666666,\"#ed7953\"],[0.7777777777777778,\"#fb9f3a\"],[0.8888888888888888,\"#fdca26\"],[1.0,\"#f0f921\"]],\"sequentialminus\":[[0.0,\"#0d0887\"],[0.1111111111111111,\"#46039f\"],[0.2222222222222222,\"#7201a8\"],[0.3333333333333333,\"#9c179e\"],[0.4444444444444444,\"#bd3786\"],[0.5555555555555556,\"#d8576b\"],[0.6666666666666666,\"#ed7953\"],[0.7777777777777778,\"#fb9f3a\"],[0.8888888888888888,\"#fdca26\"],[1.0,\"#f0f921\"]]},\"colorway\":[\"#636efa\",\"#EF553B\",\"#00cc96\",\"#ab63fa\",\"#FFA15A\",\"#19d3f3\",\"#FF6692\",\"#B6E880\",\"#FF97FF\",\"#FECB52\"],\"font\":{\"color\":\"#2a3f5f\"},\"geo\":{\"bgcolor\":\"white\",\"lakecolor\":\"white\",\"landcolor\":\"#E5ECF6\",\"showlakes\":true,\"showland\":true,\"subunitcolor\":\"white\"},\"hoverlabel\":{\"align\":\"left\"},\"hovermode\":\"closest\",\"mapbox\":{\"style\":\"light\"},\"paper_bgcolor\":\"white\",\"plot_bgcolor\":\"#E5ECF6\",\"polar\":{\"angularaxis\":{\"gridcolor\":\"white\",\"linecolor\":\"white\",\"ticks\":\"\"},\"bgcolor\":\"#E5ECF6\",\"radialaxis\":{\"gridcolor\":\"white\",\"linecolor\":\"white\",\"ticks\":\"\"}},\"scene\":{\"xaxis\":{\"backgroundcolor\":\"#E5ECF6\",\"gridcolor\":\"white\",\"gridwidth\":2,\"linecolor\":\"white\",\"showbackground\":true,\"ticks\":\"\",\"zerolinecolor\":\"white\"},\"yaxis\":{\"backgroundcolor\":\"#E5ECF6\",\"gridcolor\":\"white\",\"gridwidth\":2,\"linecolor\":\"white\",\"showbackground\":true,\"ticks\":\"\",\"zerolinecolor\":\"white\"},\"zaxis\":{\"backgroundcolor\":\"#E5ECF6\",\"gridcolor\":\"white\",\"gridwidth\":2,\"linecolor\":\"white\",\"showbackground\":true,\"ticks\":\"\",\"zerolinecolor\":\"white\"}},\"shapedefaults\":{\"line\":{\"color\":\"#2a3f5f\"}},\"ternary\":{\"aaxis\":{\"gridcolor\":\"white\",\"linecolor\":\"white\",\"ticks\":\"\"},\"baxis\":{\"gridcolor\":\"white\",\"linecolor\":\"white\",\"ticks\":\"\"},\"bgcolor\":\"#E5ECF6\",\"caxis\":{\"gridcolor\":\"white\",\"linecolor\":\"white\",\"ticks\":\"\"}},\"title\":{\"x\":0.05},\"xaxis\":{\"automargin\":true,\"gridcolor\":\"white\",\"linecolor\":\"white\",\"ticks\":\"\",\"title\":{\"standoff\":15},\"zerolinecolor\":\"white\",\"zerolinewidth\":2},\"yaxis\":{\"automargin\":true,\"gridcolor\":\"white\",\"linecolor\":\"white\",\"ticks\":\"\",\"title\":{\"standoff\":15},\"zerolinecolor\":\"white\",\"zerolinewidth\":2}}},\"width\":400},                        {\"responsive\": true}                    ).then(function(){\n",
       "                            \n",
       "var gd = document.getElementById('089ef1c2-152a-47ea-b206-d4f5c94953cf');\n",
       "var x = new MutationObserver(function (mutations, observer) {{\n",
       "        var display = window.getComputedStyle(gd).display;\n",
       "        if (!display || display === 'none') {{\n",
       "            console.log([gd, 'removed!']);\n",
       "            Plotly.purge(gd);\n",
       "            observer.disconnect();\n",
       "        }}\n",
       "}});\n",
       "\n",
       "// Listen for the removal of the full notebook cells\n",
       "var notebookContainer = gd.closest('#notebook-container');\n",
       "if (notebookContainer) {{\n",
       "    x.observe(notebookContainer, {childList: true});\n",
       "}}\n",
       "\n",
       "// Listen for the clearing of the current output cell\n",
       "var outputEl = gd.closest('.output');\n",
       "if (outputEl) {{\n",
       "    x.observe(outputEl, {childList: true});\n",
       "}}\n",
       "\n",
       "                        })                };                });            </script>        </div>"
      ]
     },
     "metadata": {},
     "output_type": "display_data"
    }
   ],
   "source": [
    "X,y=dat_wine.iloc[:,1:].values, dat_wine.iloc[:,0].values\n",
    "\n",
    "from sklearn.manifold import TSNE\n",
    "t_sne=TSNE(n_components=2, perplexity=5, random_state=1) # n_components 4 이상으로 하면 오류 생긴다. 왜지\n",
    "sne_out=t_sne.fit_transform(X)\n",
    "\n",
    "import plotly.graph_objects as go\n",
    "# scatter plot\n",
    "fig=go.Figure() \n",
    "fig.add_trace(go.Scatter(x=sne_out[:,0],y=sne_out[:,1],mode='markers',\n",
    "                                           marker=dict(size=5, color=y, colorscale='Viridis'))) \n",
    "fig.update_layout(height=400,width=400)\n",
    "fig.show()"
   ]
  },
  {
   "cell_type": "code",
   "execution_count": 81,
   "id": "3259449f",
   "metadata": {},
   "outputs": [
    {
     "data": {
      "application/vnd.plotly.v1+json": {
       "config": {
        "plotlyServerURL": "https://plot.ly"
       },
       "data": [
        {
         "marker": {
          "color": [
           1,
           1,
           1,
           1,
           1,
           1,
           1,
           1,
           1,
           1,
           1,
           1,
           1,
           1,
           1,
           1,
           1,
           1,
           1,
           1,
           1,
           1,
           1,
           1,
           1,
           1,
           1,
           1,
           1,
           1,
           1,
           1,
           1,
           1,
           1,
           1,
           1,
           1,
           1,
           1,
           1,
           1,
           1,
           1,
           1,
           1,
           1,
           1,
           1,
           1,
           1,
           1,
           1,
           1,
           1,
           1,
           1,
           1,
           1,
           2,
           2,
           2,
           2,
           2,
           2,
           2,
           2,
           2,
           2,
           2,
           2,
           2,
           2,
           2,
           2,
           2,
           2,
           2,
           2,
           2,
           2,
           2,
           2,
           2,
           2,
           2,
           2,
           2,
           2,
           2,
           2,
           2,
           2,
           2,
           2,
           2,
           2,
           2,
           2,
           2,
           2,
           2,
           2,
           2,
           2,
           2,
           2,
           2,
           2,
           2,
           2,
           2,
           2,
           2,
           2,
           2,
           2,
           2,
           2,
           2,
           2,
           2,
           2,
           2,
           2,
           2,
           2,
           2,
           2,
           2,
           3,
           3,
           3,
           3,
           3,
           3,
           3,
           3,
           3,
           3,
           3,
           3,
           3,
           3,
           3,
           3,
           3,
           3,
           3,
           3,
           3,
           3,
           3,
           3,
           3,
           3,
           3,
           3,
           3,
           3,
           3,
           3,
           3,
           3,
           3,
           3,
           3,
           3,
           3,
           3,
           3,
           3,
           3,
           3,
           3,
           3,
           3,
           3
          ],
          "colorscale": [
           [
            0,
            "#440154"
           ],
           [
            0.1111111111111111,
            "#482878"
           ],
           [
            0.2222222222222222,
            "#3e4989"
           ],
           [
            0.3333333333333333,
            "#31688e"
           ],
           [
            0.4444444444444444,
            "#26828e"
           ],
           [
            0.5555555555555556,
            "#1f9e89"
           ],
           [
            0.6666666666666666,
            "#35b779"
           ],
           [
            0.7777777777777778,
            "#6ece58"
           ],
           [
            0.8888888888888888,
            "#b5de2b"
           ],
           [
            1,
            "#fde725"
           ]
          ],
          "size": 5
         },
         "mode": "markers",
         "type": "scatter",
         "x": [
          28.86450958251953,
          27.131258010864258,
          30.211660385131836,
          33.000282287597656,
          -2.352588653564453,
          32.57479476928711,
          31.051145553588867,
          32.651615142822266,
          26.969863891601562,
          26.274168014526367,
          32.28742980957031,
          30.513870239257812,
          31.537853240966797,
          30.101903915405273,
          32.514705657958984,
          32.291133880615234,
          32.413673400878906,
          29.49968910217285,
          32.730323791503906,
          15.58587646484375,
          0.09819186478853226,
          -1.2418705224990845,
          26.56393051147461,
          24.908864974975586,
          15.326621055603027,
          14.401074409484863,
          30.496627807617188,
          30.430418014526367,
          19.391521453857422,
          26.034738540649414,
          31.274778366088867,
          33.11063766479492,
          23.79409408569336,
          31.18461799621582,
          29.147523880004883,
          19.373029708862305,
          17.885066986083984,
          28.96702003479004,
          25.49234390258789,
          -0.6865712404251099,
          0.4770410656929016,
          25.44795799255371,
          28.555706024169922,
          -9.551556587219238,
          18.396780014038086,
          28.498151779174805,
          27.431621551513672,
          24.035062789916992,
          27.330257415771484,
          31.226886749267578,
          29.599910736083984,
          30.348299026489258,
          29.875825881958008,
          32.33363723754883,
          28.38428497314453,
          29.483108520507812,
          23.33169937133789,
          31.23148536682129,
          31.863496780395508,
          6.531791687011719,
          -9.700774192810059,
          -5.379741191864014,
          -19.326786041259766,
          -9.315886497497559,
          -16.883228302001953,
          -10.462973594665527,
          1.4990077018737793,
          2.708937644958496,
          -1.986277461051941,
          -1.3848464488983154,
          17.050457000732422,
          -10.8788423538208,
          -3.0423519611358643,
          22.78211784362793,
          18.091045379638672,
          -7.772637367248535,
          -12.942901611328125,
          1.2605656385421753,
          -0.9753106236457825,
          -3.8501665592193604,
          -19.5075740814209,
          -6.192641258239746,
          -20.539520263671875,
          3.967808485031128,
          6.2365241050720215,
          -5.459146022796631,
          0.07081648707389832,
          -28.581207275390625,
          -11.740461349487305,
          -21.0654239654541,
          -2.119629383087158,
          -6.12911319732666,
          0.1785784661769867,
          -18.931350708007812,
          -17.20101547241211,
          21.749202728271484,
          -18.6063175201416,
          -8.803651809692383,
          -14.300777435302734,
          -11.398662567138672,
          -6.448354721069336,
          -27.844106674194336,
          -6.795965671539307,
          -10.162410736083984,
          -12.40778923034668,
          -18.608081817626953,
          2.803304433822632,
          -0.9716776609420776,
          -18.187097549438477,
          -10.809995651245117,
          -27.791645050048828,
          -17.821704864501953,
          -22.61350440979004,
          -7.943713665008545,
          -13.58375072479248,
          -10.79452133178711,
          0.014789531007409096,
          -17.66542625427246,
          -14.58938217163086,
          -27.862268447875977,
          -20.285961151123047,
          -2.3456432819366455,
          -16.195940017700195,
          -13.793628692626953,
          -14.337369918823242,
          -14.616965293884277,
          -16.233251571655273,
          -3.749634027481079,
          -16.932687759399414,
          -26.73539924621582,
          -18.651782989501953,
          6.468985080718994,
          -28.13648223876953,
          -23.160512924194336,
          -15.236973762512207,
          -9.194950103759766,
          -5.58700704574585,
          4.791567325592041,
          -26.331249237060547,
          -24.172149658203125,
          -23.51757049560547,
          -0.9830275177955627,
          5.524847030639648,
          -29.30553436279297,
          16.293088912963867,
          14.439288139343262,
          -9.865852355957031,
          -20.754791259765625,
          -14.782658576965332,
          -28.685142517089844,
          1.0614789724349976,
          -1.3072788715362549,
          -6.741015434265137,
          -10.674421310424805,
          -18.93953514099121,
          -5.026671886444092,
          -2.1807315349578857,
          17.39742088317871,
          -13.510485649108887,
          -21.276079177856445,
          4.97963285446167,
          -8.85501766204834,
          -27.111021041870117,
          -9.586762428283691,
          -21.661869049072266,
          4.78748893737793,
          -8.003564834594727,
          -10.532469749450684,
          -2.600905179977417,
          -18.973905563354492,
          4.121312618255615,
          -3.3463637828826904,
          -13.987645149230957,
          -3.7166736125946045,
          -2.7051637172698975,
          14.783257484436035,
          15.437249183654785,
          -28.602720260620117
         ],
         "y": [
          13.349265098571777,
          14.965131759643555,
          6.0865607261657715,
          -9.222599029541016,
          24.13413429260254,
          -8.753495216369629,
          -4.463821887969971,
          -4.123485565185547,
          15.699882507324219,
          15.173223495483398,
          -9.630558013916016,
          -3.3185808658599854,
          -5.803792476654053,
          7.396226406097412,
          -10.220582962036133,
          -5.121530055999756,
          -2.908133029937744,
          8.585997581481934,
          -11.084670066833496,
          25.963979721069336,
          25.842302322387695,
          26.379539489746094,
          16.636526107788086,
          17.56083106994629,
          24.998994827270508,
          26.77039337158203,
          5.5209760665893555,
          -4.026698589324951,
          23.45625877380371,
          16.297563552856445,
          -3.67972993850708,
          -9.83873176574707,
          18.801118850708008,
          -0.3643157184123993,
          10.959110260009766,
          22.990198135375977,
          24.92508888244629,
          10.047913551330566,
          17.354755401611328,
          24.86566162109375,
          26.47608184814453,
          16.02183723449707,
          10.715760231018066,
          19.267303466796875,
          24.47593879699707,
          12.047523498535156,
          13.354738235473633,
          19.210426330566406,
          14.006793975830078,
          -1.6670756340026855,
          7.279245376586914,
          -2.3610541820526123,
          5.559132099151611,
          -7.063648223876953,
          13.87561321258545,
          9.290190696716309,
          19.839447021484375,
          -2.5396134853363037,
          -3.5699260234832764,
          -39.28505325317383,
          19.84317398071289,
          -34.659339904785156,
          12.788311958312988,
          -32.5317497253418,
          -26.73940658569336,
          19.4746150970459,
          -40.33863830566406,
          -40.40483093261719,
          25.120771408081055,
          22.821956634521484,
          24.721948623657227,
          -32.12963104248047,
          -37.592918395996094,
          19.716064453125,
          23.831754684448242,
          -33.04156494140625,
          -29.975337982177734,
          -35.562068939208984,
          24.024612426757812,
          -35.77622985839844,
          -23.56418228149414,
          23.842742919921875,
          14.289519309997559,
          -39.54907989501953,
          -39.09769058227539,
          -34.94393539428711,
          -39.03105163574219,
          7.927457809448242,
          20.700973510742188,
          14.577103614807129,
          -39.03658676147461,
          -35.514957427978516,
          -40.12419509887695,
          -23.294185638427734,
          -25.841243743896484,
          21.09402847290039,
          9.952558517456055,
          -33.37147903442383,
          18.333465576171875,
          -31.47933578491211,
          23.185205459594727,
          7.651872634887695,
          -33.94838333129883,
          -32.48140335083008,
          19.963369369506836,
          -24.421960830688477,
          -40.02903366088867,
          -39.305118560791016,
          -23.802654266357422,
          20.137590408325195,
          5.830090045928955,
          -24.546340942382812,
          10.851225852966309,
          -33.965850830078125,
          -29.335853576660156,
          -31.2530460357666,
          -39.51934814453125,
          -26.261859893798828,
          -28.063735961914062,
          8.186871528625488,
          12.330231666564941,
          -35.0733642578125,
          -27.2739315032959,
          -28.546066284179688,
          -29.330751419067383,
          -28.820682525634766,
          -25.82145118713379,
          -36.81114196777344,
          -25.172866821289062,
          8.953963279724121,
          10.425864219665527,
          -37.50606155395508,
          6.695355415344238,
          10.237433433532715,
          17.581960678100586,
          21.665264129638672,
          23.882457733154297,
          -38.020912170410156,
          8.68410873413086,
          9.899792671203613,
          10.764426231384277,
          27.063335418701172,
          -38.06608581542969,
          7.135679244995117,
          25.647783279418945,
          25.50446891784668,
          -31.66155242919922,
          13.307889938354492,
          17.118492126464844,
          5.281881332397461,
          -35.381439208984375,
          -35.30546188354492,
          -32.4021110534668,
          18.717260360717773,
          12.729219436645508,
          24.257171630859375,
          -38.225032806396484,
          23.895906448364258,
          17.317813873291016,
          12.793251991271973,
          -39.5565185546875,
          19.14958381652832,
          6.300565242767334,
          18.4637451171875,
          12.284000396728516,
          -39.097564697265625,
          20.523447036743164,
          21.247663497924805,
          25.34840202331543,
          11.072248458862305,
          -37.844295501708984,
          -38.07548141479492,
          17.79517936706543,
          25.02057456970215,
          25.776193618774414,
          26.2929744720459,
          26.666982650756836,
          6.741018295288086
         ]
        }
       ],
       "layout": {
        "height": 400,
        "template": {
         "data": {
          "bar": [
           {
            "error_x": {
             "color": "#2a3f5f"
            },
            "error_y": {
             "color": "#2a3f5f"
            },
            "marker": {
             "line": {
              "color": "#E5ECF6",
              "width": 0.5
             },
             "pattern": {
              "fillmode": "overlay",
              "size": 10,
              "solidity": 0.2
             }
            },
            "type": "bar"
           }
          ],
          "barpolar": [
           {
            "marker": {
             "line": {
              "color": "#E5ECF6",
              "width": 0.5
             },
             "pattern": {
              "fillmode": "overlay",
              "size": 10,
              "solidity": 0.2
             }
            },
            "type": "barpolar"
           }
          ],
          "carpet": [
           {
            "aaxis": {
             "endlinecolor": "#2a3f5f",
             "gridcolor": "white",
             "linecolor": "white",
             "minorgridcolor": "white",
             "startlinecolor": "#2a3f5f"
            },
            "baxis": {
             "endlinecolor": "#2a3f5f",
             "gridcolor": "white",
             "linecolor": "white",
             "minorgridcolor": "white",
             "startlinecolor": "#2a3f5f"
            },
            "type": "carpet"
           }
          ],
          "choropleth": [
           {
            "colorbar": {
             "outlinewidth": 0,
             "ticks": ""
            },
            "type": "choropleth"
           }
          ],
          "contour": [
           {
            "colorbar": {
             "outlinewidth": 0,
             "ticks": ""
            },
            "colorscale": [
             [
              0,
              "#0d0887"
             ],
             [
              0.1111111111111111,
              "#46039f"
             ],
             [
              0.2222222222222222,
              "#7201a8"
             ],
             [
              0.3333333333333333,
              "#9c179e"
             ],
             [
              0.4444444444444444,
              "#bd3786"
             ],
             [
              0.5555555555555556,
              "#d8576b"
             ],
             [
              0.6666666666666666,
              "#ed7953"
             ],
             [
              0.7777777777777778,
              "#fb9f3a"
             ],
             [
              0.8888888888888888,
              "#fdca26"
             ],
             [
              1,
              "#f0f921"
             ]
            ],
            "type": "contour"
           }
          ],
          "contourcarpet": [
           {
            "colorbar": {
             "outlinewidth": 0,
             "ticks": ""
            },
            "type": "contourcarpet"
           }
          ],
          "heatmap": [
           {
            "colorbar": {
             "outlinewidth": 0,
             "ticks": ""
            },
            "colorscale": [
             [
              0,
              "#0d0887"
             ],
             [
              0.1111111111111111,
              "#46039f"
             ],
             [
              0.2222222222222222,
              "#7201a8"
             ],
             [
              0.3333333333333333,
              "#9c179e"
             ],
             [
              0.4444444444444444,
              "#bd3786"
             ],
             [
              0.5555555555555556,
              "#d8576b"
             ],
             [
              0.6666666666666666,
              "#ed7953"
             ],
             [
              0.7777777777777778,
              "#fb9f3a"
             ],
             [
              0.8888888888888888,
              "#fdca26"
             ],
             [
              1,
              "#f0f921"
             ]
            ],
            "type": "heatmap"
           }
          ],
          "heatmapgl": [
           {
            "colorbar": {
             "outlinewidth": 0,
             "ticks": ""
            },
            "colorscale": [
             [
              0,
              "#0d0887"
             ],
             [
              0.1111111111111111,
              "#46039f"
             ],
             [
              0.2222222222222222,
              "#7201a8"
             ],
             [
              0.3333333333333333,
              "#9c179e"
             ],
             [
              0.4444444444444444,
              "#bd3786"
             ],
             [
              0.5555555555555556,
              "#d8576b"
             ],
             [
              0.6666666666666666,
              "#ed7953"
             ],
             [
              0.7777777777777778,
              "#fb9f3a"
             ],
             [
              0.8888888888888888,
              "#fdca26"
             ],
             [
              1,
              "#f0f921"
             ]
            ],
            "type": "heatmapgl"
           }
          ],
          "histogram": [
           {
            "marker": {
             "pattern": {
              "fillmode": "overlay",
              "size": 10,
              "solidity": 0.2
             }
            },
            "type": "histogram"
           }
          ],
          "histogram2d": [
           {
            "colorbar": {
             "outlinewidth": 0,
             "ticks": ""
            },
            "colorscale": [
             [
              0,
              "#0d0887"
             ],
             [
              0.1111111111111111,
              "#46039f"
             ],
             [
              0.2222222222222222,
              "#7201a8"
             ],
             [
              0.3333333333333333,
              "#9c179e"
             ],
             [
              0.4444444444444444,
              "#bd3786"
             ],
             [
              0.5555555555555556,
              "#d8576b"
             ],
             [
              0.6666666666666666,
              "#ed7953"
             ],
             [
              0.7777777777777778,
              "#fb9f3a"
             ],
             [
              0.8888888888888888,
              "#fdca26"
             ],
             [
              1,
              "#f0f921"
             ]
            ],
            "type": "histogram2d"
           }
          ],
          "histogram2dcontour": [
           {
            "colorbar": {
             "outlinewidth": 0,
             "ticks": ""
            },
            "colorscale": [
             [
              0,
              "#0d0887"
             ],
             [
              0.1111111111111111,
              "#46039f"
             ],
             [
              0.2222222222222222,
              "#7201a8"
             ],
             [
              0.3333333333333333,
              "#9c179e"
             ],
             [
              0.4444444444444444,
              "#bd3786"
             ],
             [
              0.5555555555555556,
              "#d8576b"
             ],
             [
              0.6666666666666666,
              "#ed7953"
             ],
             [
              0.7777777777777778,
              "#fb9f3a"
             ],
             [
              0.8888888888888888,
              "#fdca26"
             ],
             [
              1,
              "#f0f921"
             ]
            ],
            "type": "histogram2dcontour"
           }
          ],
          "mesh3d": [
           {
            "colorbar": {
             "outlinewidth": 0,
             "ticks": ""
            },
            "type": "mesh3d"
           }
          ],
          "parcoords": [
           {
            "line": {
             "colorbar": {
              "outlinewidth": 0,
              "ticks": ""
             }
            },
            "type": "parcoords"
           }
          ],
          "pie": [
           {
            "automargin": true,
            "type": "pie"
           }
          ],
          "scatter": [
           {
            "marker": {
             "colorbar": {
              "outlinewidth": 0,
              "ticks": ""
             }
            },
            "type": "scatter"
           }
          ],
          "scatter3d": [
           {
            "line": {
             "colorbar": {
              "outlinewidth": 0,
              "ticks": ""
             }
            },
            "marker": {
             "colorbar": {
              "outlinewidth": 0,
              "ticks": ""
             }
            },
            "type": "scatter3d"
           }
          ],
          "scattercarpet": [
           {
            "marker": {
             "colorbar": {
              "outlinewidth": 0,
              "ticks": ""
             }
            },
            "type": "scattercarpet"
           }
          ],
          "scattergeo": [
           {
            "marker": {
             "colorbar": {
              "outlinewidth": 0,
              "ticks": ""
             }
            },
            "type": "scattergeo"
           }
          ],
          "scattergl": [
           {
            "marker": {
             "colorbar": {
              "outlinewidth": 0,
              "ticks": ""
             }
            },
            "type": "scattergl"
           }
          ],
          "scattermapbox": [
           {
            "marker": {
             "colorbar": {
              "outlinewidth": 0,
              "ticks": ""
             }
            },
            "type": "scattermapbox"
           }
          ],
          "scatterpolar": [
           {
            "marker": {
             "colorbar": {
              "outlinewidth": 0,
              "ticks": ""
             }
            },
            "type": "scatterpolar"
           }
          ],
          "scatterpolargl": [
           {
            "marker": {
             "colorbar": {
              "outlinewidth": 0,
              "ticks": ""
             }
            },
            "type": "scatterpolargl"
           }
          ],
          "scatterternary": [
           {
            "marker": {
             "colorbar": {
              "outlinewidth": 0,
              "ticks": ""
             }
            },
            "type": "scatterternary"
           }
          ],
          "surface": [
           {
            "colorbar": {
             "outlinewidth": 0,
             "ticks": ""
            },
            "colorscale": [
             [
              0,
              "#0d0887"
             ],
             [
              0.1111111111111111,
              "#46039f"
             ],
             [
              0.2222222222222222,
              "#7201a8"
             ],
             [
              0.3333333333333333,
              "#9c179e"
             ],
             [
              0.4444444444444444,
              "#bd3786"
             ],
             [
              0.5555555555555556,
              "#d8576b"
             ],
             [
              0.6666666666666666,
              "#ed7953"
             ],
             [
              0.7777777777777778,
              "#fb9f3a"
             ],
             [
              0.8888888888888888,
              "#fdca26"
             ],
             [
              1,
              "#f0f921"
             ]
            ],
            "type": "surface"
           }
          ],
          "table": [
           {
            "cells": {
             "fill": {
              "color": "#EBF0F8"
             },
             "line": {
              "color": "white"
             }
            },
            "header": {
             "fill": {
              "color": "#C8D4E3"
             },
             "line": {
              "color": "white"
             }
            },
            "type": "table"
           }
          ]
         },
         "layout": {
          "annotationdefaults": {
           "arrowcolor": "#2a3f5f",
           "arrowhead": 0,
           "arrowwidth": 1
          },
          "autotypenumbers": "strict",
          "coloraxis": {
           "colorbar": {
            "outlinewidth": 0,
            "ticks": ""
           }
          },
          "colorscale": {
           "diverging": [
            [
             0,
             "#8e0152"
            ],
            [
             0.1,
             "#c51b7d"
            ],
            [
             0.2,
             "#de77ae"
            ],
            [
             0.3,
             "#f1b6da"
            ],
            [
             0.4,
             "#fde0ef"
            ],
            [
             0.5,
             "#f7f7f7"
            ],
            [
             0.6,
             "#e6f5d0"
            ],
            [
             0.7,
             "#b8e186"
            ],
            [
             0.8,
             "#7fbc41"
            ],
            [
             0.9,
             "#4d9221"
            ],
            [
             1,
             "#276419"
            ]
           ],
           "sequential": [
            [
             0,
             "#0d0887"
            ],
            [
             0.1111111111111111,
             "#46039f"
            ],
            [
             0.2222222222222222,
             "#7201a8"
            ],
            [
             0.3333333333333333,
             "#9c179e"
            ],
            [
             0.4444444444444444,
             "#bd3786"
            ],
            [
             0.5555555555555556,
             "#d8576b"
            ],
            [
             0.6666666666666666,
             "#ed7953"
            ],
            [
             0.7777777777777778,
             "#fb9f3a"
            ],
            [
             0.8888888888888888,
             "#fdca26"
            ],
            [
             1,
             "#f0f921"
            ]
           ],
           "sequentialminus": [
            [
             0,
             "#0d0887"
            ],
            [
             0.1111111111111111,
             "#46039f"
            ],
            [
             0.2222222222222222,
             "#7201a8"
            ],
            [
             0.3333333333333333,
             "#9c179e"
            ],
            [
             0.4444444444444444,
             "#bd3786"
            ],
            [
             0.5555555555555556,
             "#d8576b"
            ],
            [
             0.6666666666666666,
             "#ed7953"
            ],
            [
             0.7777777777777778,
             "#fb9f3a"
            ],
            [
             0.8888888888888888,
             "#fdca26"
            ],
            [
             1,
             "#f0f921"
            ]
           ]
          },
          "colorway": [
           "#636efa",
           "#EF553B",
           "#00cc96",
           "#ab63fa",
           "#FFA15A",
           "#19d3f3",
           "#FF6692",
           "#B6E880",
           "#FF97FF",
           "#FECB52"
          ],
          "font": {
           "color": "#2a3f5f"
          },
          "geo": {
           "bgcolor": "white",
           "lakecolor": "white",
           "landcolor": "#E5ECF6",
           "showlakes": true,
           "showland": true,
           "subunitcolor": "white"
          },
          "hoverlabel": {
           "align": "left"
          },
          "hovermode": "closest",
          "mapbox": {
           "style": "light"
          },
          "paper_bgcolor": "white",
          "plot_bgcolor": "#E5ECF6",
          "polar": {
           "angularaxis": {
            "gridcolor": "white",
            "linecolor": "white",
            "ticks": ""
           },
           "bgcolor": "#E5ECF6",
           "radialaxis": {
            "gridcolor": "white",
            "linecolor": "white",
            "ticks": ""
           }
          },
          "scene": {
           "xaxis": {
            "backgroundcolor": "#E5ECF6",
            "gridcolor": "white",
            "gridwidth": 2,
            "linecolor": "white",
            "showbackground": true,
            "ticks": "",
            "zerolinecolor": "white"
           },
           "yaxis": {
            "backgroundcolor": "#E5ECF6",
            "gridcolor": "white",
            "gridwidth": 2,
            "linecolor": "white",
            "showbackground": true,
            "ticks": "",
            "zerolinecolor": "white"
           },
           "zaxis": {
            "backgroundcolor": "#E5ECF6",
            "gridcolor": "white",
            "gridwidth": 2,
            "linecolor": "white",
            "showbackground": true,
            "ticks": "",
            "zerolinecolor": "white"
           }
          },
          "shapedefaults": {
           "line": {
            "color": "#2a3f5f"
           }
          },
          "ternary": {
           "aaxis": {
            "gridcolor": "white",
            "linecolor": "white",
            "ticks": ""
           },
           "baxis": {
            "gridcolor": "white",
            "linecolor": "white",
            "ticks": ""
           },
           "bgcolor": "#E5ECF6",
           "caxis": {
            "gridcolor": "white",
            "linecolor": "white",
            "ticks": ""
           }
          },
          "title": {
           "x": 0.05
          },
          "xaxis": {
           "automargin": true,
           "gridcolor": "white",
           "linecolor": "white",
           "ticks": "",
           "title": {
            "standoff": 15
           },
           "zerolinecolor": "white",
           "zerolinewidth": 2
          },
          "yaxis": {
           "automargin": true,
           "gridcolor": "white",
           "linecolor": "white",
           "ticks": "",
           "title": {
            "standoff": 15
           },
           "zerolinecolor": "white",
           "zerolinewidth": 2
          }
         }
        },
        "title": {
         "text": "perplexity=10"
        },
        "width": 400
       }
      },
      "text/html": [
       "<div>                            <div id=\"98c8eec3-e193-41ae-914d-3c0439cbfcc5\" class=\"plotly-graph-div\" style=\"height:400px; width:400px;\"></div>            <script type=\"text/javascript\">                require([\"plotly\"], function(Plotly) {                    window.PLOTLYENV=window.PLOTLYENV || {};                                    if (document.getElementById(\"98c8eec3-e193-41ae-914d-3c0439cbfcc5\")) {                    Plotly.newPlot(                        \"98c8eec3-e193-41ae-914d-3c0439cbfcc5\",                        [{\"marker\":{\"color\":[1,1,1,1,1,1,1,1,1,1,1,1,1,1,1,1,1,1,1,1,1,1,1,1,1,1,1,1,1,1,1,1,1,1,1,1,1,1,1,1,1,1,1,1,1,1,1,1,1,1,1,1,1,1,1,1,1,1,1,2,2,2,2,2,2,2,2,2,2,2,2,2,2,2,2,2,2,2,2,2,2,2,2,2,2,2,2,2,2,2,2,2,2,2,2,2,2,2,2,2,2,2,2,2,2,2,2,2,2,2,2,2,2,2,2,2,2,2,2,2,2,2,2,2,2,2,2,2,2,2,3,3,3,3,3,3,3,3,3,3,3,3,3,3,3,3,3,3,3,3,3,3,3,3,3,3,3,3,3,3,3,3,3,3,3,3,3,3,3,3,3,3,3,3,3,3,3,3],\"colorscale\":[[0.0,\"#440154\"],[0.1111111111111111,\"#482878\"],[0.2222222222222222,\"#3e4989\"],[0.3333333333333333,\"#31688e\"],[0.4444444444444444,\"#26828e\"],[0.5555555555555556,\"#1f9e89\"],[0.6666666666666666,\"#35b779\"],[0.7777777777777778,\"#6ece58\"],[0.8888888888888888,\"#b5de2b\"],[1.0,\"#fde725\"]],\"size\":5},\"mode\":\"markers\",\"type\":\"scatter\",\"x\":[28.86450958251953,27.131258010864258,30.211660385131836,33.000282287597656,-2.352588653564453,32.57479476928711,31.051145553588867,32.651615142822266,26.969863891601562,26.274168014526367,32.28742980957031,30.513870239257812,31.537853240966797,30.101903915405273,32.514705657958984,32.291133880615234,32.413673400878906,29.49968910217285,32.730323791503906,15.58587646484375,0.09819186478853226,-1.2418705224990845,26.56393051147461,24.908864974975586,15.326621055603027,14.401074409484863,30.496627807617188,30.430418014526367,19.391521453857422,26.034738540649414,31.274778366088867,33.11063766479492,23.79409408569336,31.18461799621582,29.147523880004883,19.373029708862305,17.885066986083984,28.96702003479004,25.49234390258789,-0.6865712404251099,0.4770410656929016,25.44795799255371,28.555706024169922,-9.551556587219238,18.396780014038086,28.498151779174805,27.431621551513672,24.035062789916992,27.330257415771484,31.226886749267578,29.599910736083984,30.348299026489258,29.875825881958008,32.33363723754883,28.38428497314453,29.483108520507812,23.33169937133789,31.23148536682129,31.863496780395508,6.531791687011719,-9.700774192810059,-5.379741191864014,-19.326786041259766,-9.315886497497559,-16.883228302001953,-10.462973594665527,1.4990077018737793,2.708937644958496,-1.986277461051941,-1.3848464488983154,17.050457000732422,-10.8788423538208,-3.0423519611358643,22.78211784362793,18.091045379638672,-7.772637367248535,-12.942901611328125,1.2605656385421753,-0.9753106236457825,-3.8501665592193604,-19.5075740814209,-6.192641258239746,-20.539520263671875,3.967808485031128,6.2365241050720215,-5.459146022796631,0.07081648707389832,-28.581207275390625,-11.740461349487305,-21.0654239654541,-2.119629383087158,-6.12911319732666,0.1785784661769867,-18.931350708007812,-17.20101547241211,21.749202728271484,-18.6063175201416,-8.803651809692383,-14.300777435302734,-11.398662567138672,-6.448354721069336,-27.844106674194336,-6.795965671539307,-10.162410736083984,-12.40778923034668,-18.608081817626953,2.803304433822632,-0.9716776609420776,-18.187097549438477,-10.809995651245117,-27.791645050048828,-17.821704864501953,-22.61350440979004,-7.943713665008545,-13.58375072479248,-10.79452133178711,0.014789531007409096,-17.66542625427246,-14.58938217163086,-27.862268447875977,-20.285961151123047,-2.3456432819366455,-16.195940017700195,-13.793628692626953,-14.337369918823242,-14.616965293884277,-16.233251571655273,-3.749634027481079,-16.932687759399414,-26.73539924621582,-18.651782989501953,6.468985080718994,-28.13648223876953,-23.160512924194336,-15.236973762512207,-9.194950103759766,-5.58700704574585,4.791567325592041,-26.331249237060547,-24.172149658203125,-23.51757049560547,-0.9830275177955627,5.524847030639648,-29.30553436279297,16.293088912963867,14.439288139343262,-9.865852355957031,-20.754791259765625,-14.782658576965332,-28.685142517089844,1.0614789724349976,-1.3072788715362549,-6.741015434265137,-10.674421310424805,-18.93953514099121,-5.026671886444092,-2.1807315349578857,17.39742088317871,-13.510485649108887,-21.276079177856445,4.97963285446167,-8.85501766204834,-27.111021041870117,-9.586762428283691,-21.661869049072266,4.78748893737793,-8.003564834594727,-10.532469749450684,-2.600905179977417,-18.973905563354492,4.121312618255615,-3.3463637828826904,-13.987645149230957,-3.7166736125946045,-2.7051637172698975,14.783257484436035,15.437249183654785,-28.602720260620117],\"y\":[13.349265098571777,14.965131759643555,6.0865607261657715,-9.222599029541016,24.13413429260254,-8.753495216369629,-4.463821887969971,-4.123485565185547,15.699882507324219,15.173223495483398,-9.630558013916016,-3.3185808658599854,-5.803792476654053,7.396226406097412,-10.220582962036133,-5.121530055999756,-2.908133029937744,8.585997581481934,-11.084670066833496,25.963979721069336,25.842302322387695,26.379539489746094,16.636526107788086,17.56083106994629,24.998994827270508,26.77039337158203,5.5209760665893555,-4.026698589324951,23.45625877380371,16.297563552856445,-3.67972993850708,-9.83873176574707,18.801118850708008,-0.3643157184123993,10.959110260009766,22.990198135375977,24.92508888244629,10.047913551330566,17.354755401611328,24.86566162109375,26.47608184814453,16.02183723449707,10.715760231018066,19.267303466796875,24.47593879699707,12.047523498535156,13.354738235473633,19.210426330566406,14.006793975830078,-1.6670756340026855,7.279245376586914,-2.3610541820526123,5.559132099151611,-7.063648223876953,13.87561321258545,9.290190696716309,19.839447021484375,-2.5396134853363037,-3.5699260234832764,-39.28505325317383,19.84317398071289,-34.659339904785156,12.788311958312988,-32.5317497253418,-26.73940658569336,19.4746150970459,-40.33863830566406,-40.40483093261719,25.120771408081055,22.821956634521484,24.721948623657227,-32.12963104248047,-37.592918395996094,19.716064453125,23.831754684448242,-33.04156494140625,-29.975337982177734,-35.562068939208984,24.024612426757812,-35.77622985839844,-23.56418228149414,23.842742919921875,14.289519309997559,-39.54907989501953,-39.09769058227539,-34.94393539428711,-39.03105163574219,7.927457809448242,20.700973510742188,14.577103614807129,-39.03658676147461,-35.514957427978516,-40.12419509887695,-23.294185638427734,-25.841243743896484,21.09402847290039,9.952558517456055,-33.37147903442383,18.333465576171875,-31.47933578491211,23.185205459594727,7.651872634887695,-33.94838333129883,-32.48140335083008,19.963369369506836,-24.421960830688477,-40.02903366088867,-39.305118560791016,-23.802654266357422,20.137590408325195,5.830090045928955,-24.546340942382812,10.851225852966309,-33.965850830078125,-29.335853576660156,-31.2530460357666,-39.51934814453125,-26.261859893798828,-28.063735961914062,8.186871528625488,12.330231666564941,-35.0733642578125,-27.2739315032959,-28.546066284179688,-29.330751419067383,-28.820682525634766,-25.82145118713379,-36.81114196777344,-25.172866821289062,8.953963279724121,10.425864219665527,-37.50606155395508,6.695355415344238,10.237433433532715,17.581960678100586,21.665264129638672,23.882457733154297,-38.020912170410156,8.68410873413086,9.899792671203613,10.764426231384277,27.063335418701172,-38.06608581542969,7.135679244995117,25.647783279418945,25.50446891784668,-31.66155242919922,13.307889938354492,17.118492126464844,5.281881332397461,-35.381439208984375,-35.30546188354492,-32.4021110534668,18.717260360717773,12.729219436645508,24.257171630859375,-38.225032806396484,23.895906448364258,17.317813873291016,12.793251991271973,-39.5565185546875,19.14958381652832,6.300565242767334,18.4637451171875,12.284000396728516,-39.097564697265625,20.523447036743164,21.247663497924805,25.34840202331543,11.072248458862305,-37.844295501708984,-38.07548141479492,17.79517936706543,25.02057456970215,25.776193618774414,26.2929744720459,26.666982650756836,6.741018295288086]}],                        {\"height\":400,\"template\":{\"data\":{\"bar\":[{\"error_x\":{\"color\":\"#2a3f5f\"},\"error_y\":{\"color\":\"#2a3f5f\"},\"marker\":{\"line\":{\"color\":\"#E5ECF6\",\"width\":0.5},\"pattern\":{\"fillmode\":\"overlay\",\"size\":10,\"solidity\":0.2}},\"type\":\"bar\"}],\"barpolar\":[{\"marker\":{\"line\":{\"color\":\"#E5ECF6\",\"width\":0.5},\"pattern\":{\"fillmode\":\"overlay\",\"size\":10,\"solidity\":0.2}},\"type\":\"barpolar\"}],\"carpet\":[{\"aaxis\":{\"endlinecolor\":\"#2a3f5f\",\"gridcolor\":\"white\",\"linecolor\":\"white\",\"minorgridcolor\":\"white\",\"startlinecolor\":\"#2a3f5f\"},\"baxis\":{\"endlinecolor\":\"#2a3f5f\",\"gridcolor\":\"white\",\"linecolor\":\"white\",\"minorgridcolor\":\"white\",\"startlinecolor\":\"#2a3f5f\"},\"type\":\"carpet\"}],\"choropleth\":[{\"colorbar\":{\"outlinewidth\":0,\"ticks\":\"\"},\"type\":\"choropleth\"}],\"contour\":[{\"colorbar\":{\"outlinewidth\":0,\"ticks\":\"\"},\"colorscale\":[[0.0,\"#0d0887\"],[0.1111111111111111,\"#46039f\"],[0.2222222222222222,\"#7201a8\"],[0.3333333333333333,\"#9c179e\"],[0.4444444444444444,\"#bd3786\"],[0.5555555555555556,\"#d8576b\"],[0.6666666666666666,\"#ed7953\"],[0.7777777777777778,\"#fb9f3a\"],[0.8888888888888888,\"#fdca26\"],[1.0,\"#f0f921\"]],\"type\":\"contour\"}],\"contourcarpet\":[{\"colorbar\":{\"outlinewidth\":0,\"ticks\":\"\"},\"type\":\"contourcarpet\"}],\"heatmap\":[{\"colorbar\":{\"outlinewidth\":0,\"ticks\":\"\"},\"colorscale\":[[0.0,\"#0d0887\"],[0.1111111111111111,\"#46039f\"],[0.2222222222222222,\"#7201a8\"],[0.3333333333333333,\"#9c179e\"],[0.4444444444444444,\"#bd3786\"],[0.5555555555555556,\"#d8576b\"],[0.6666666666666666,\"#ed7953\"],[0.7777777777777778,\"#fb9f3a\"],[0.8888888888888888,\"#fdca26\"],[1.0,\"#f0f921\"]],\"type\":\"heatmap\"}],\"heatmapgl\":[{\"colorbar\":{\"outlinewidth\":0,\"ticks\":\"\"},\"colorscale\":[[0.0,\"#0d0887\"],[0.1111111111111111,\"#46039f\"],[0.2222222222222222,\"#7201a8\"],[0.3333333333333333,\"#9c179e\"],[0.4444444444444444,\"#bd3786\"],[0.5555555555555556,\"#d8576b\"],[0.6666666666666666,\"#ed7953\"],[0.7777777777777778,\"#fb9f3a\"],[0.8888888888888888,\"#fdca26\"],[1.0,\"#f0f921\"]],\"type\":\"heatmapgl\"}],\"histogram\":[{\"marker\":{\"pattern\":{\"fillmode\":\"overlay\",\"size\":10,\"solidity\":0.2}},\"type\":\"histogram\"}],\"histogram2d\":[{\"colorbar\":{\"outlinewidth\":0,\"ticks\":\"\"},\"colorscale\":[[0.0,\"#0d0887\"],[0.1111111111111111,\"#46039f\"],[0.2222222222222222,\"#7201a8\"],[0.3333333333333333,\"#9c179e\"],[0.4444444444444444,\"#bd3786\"],[0.5555555555555556,\"#d8576b\"],[0.6666666666666666,\"#ed7953\"],[0.7777777777777778,\"#fb9f3a\"],[0.8888888888888888,\"#fdca26\"],[1.0,\"#f0f921\"]],\"type\":\"histogram2d\"}],\"histogram2dcontour\":[{\"colorbar\":{\"outlinewidth\":0,\"ticks\":\"\"},\"colorscale\":[[0.0,\"#0d0887\"],[0.1111111111111111,\"#46039f\"],[0.2222222222222222,\"#7201a8\"],[0.3333333333333333,\"#9c179e\"],[0.4444444444444444,\"#bd3786\"],[0.5555555555555556,\"#d8576b\"],[0.6666666666666666,\"#ed7953\"],[0.7777777777777778,\"#fb9f3a\"],[0.8888888888888888,\"#fdca26\"],[1.0,\"#f0f921\"]],\"type\":\"histogram2dcontour\"}],\"mesh3d\":[{\"colorbar\":{\"outlinewidth\":0,\"ticks\":\"\"},\"type\":\"mesh3d\"}],\"parcoords\":[{\"line\":{\"colorbar\":{\"outlinewidth\":0,\"ticks\":\"\"}},\"type\":\"parcoords\"}],\"pie\":[{\"automargin\":true,\"type\":\"pie\"}],\"scatter\":[{\"marker\":{\"colorbar\":{\"outlinewidth\":0,\"ticks\":\"\"}},\"type\":\"scatter\"}],\"scatter3d\":[{\"line\":{\"colorbar\":{\"outlinewidth\":0,\"ticks\":\"\"}},\"marker\":{\"colorbar\":{\"outlinewidth\":0,\"ticks\":\"\"}},\"type\":\"scatter3d\"}],\"scattercarpet\":[{\"marker\":{\"colorbar\":{\"outlinewidth\":0,\"ticks\":\"\"}},\"type\":\"scattercarpet\"}],\"scattergeo\":[{\"marker\":{\"colorbar\":{\"outlinewidth\":0,\"ticks\":\"\"}},\"type\":\"scattergeo\"}],\"scattergl\":[{\"marker\":{\"colorbar\":{\"outlinewidth\":0,\"ticks\":\"\"}},\"type\":\"scattergl\"}],\"scattermapbox\":[{\"marker\":{\"colorbar\":{\"outlinewidth\":0,\"ticks\":\"\"}},\"type\":\"scattermapbox\"}],\"scatterpolar\":[{\"marker\":{\"colorbar\":{\"outlinewidth\":0,\"ticks\":\"\"}},\"type\":\"scatterpolar\"}],\"scatterpolargl\":[{\"marker\":{\"colorbar\":{\"outlinewidth\":0,\"ticks\":\"\"}},\"type\":\"scatterpolargl\"}],\"scatterternary\":[{\"marker\":{\"colorbar\":{\"outlinewidth\":0,\"ticks\":\"\"}},\"type\":\"scatterternary\"}],\"surface\":[{\"colorbar\":{\"outlinewidth\":0,\"ticks\":\"\"},\"colorscale\":[[0.0,\"#0d0887\"],[0.1111111111111111,\"#46039f\"],[0.2222222222222222,\"#7201a8\"],[0.3333333333333333,\"#9c179e\"],[0.4444444444444444,\"#bd3786\"],[0.5555555555555556,\"#d8576b\"],[0.6666666666666666,\"#ed7953\"],[0.7777777777777778,\"#fb9f3a\"],[0.8888888888888888,\"#fdca26\"],[1.0,\"#f0f921\"]],\"type\":\"surface\"}],\"table\":[{\"cells\":{\"fill\":{\"color\":\"#EBF0F8\"},\"line\":{\"color\":\"white\"}},\"header\":{\"fill\":{\"color\":\"#C8D4E3\"},\"line\":{\"color\":\"white\"}},\"type\":\"table\"}]},\"layout\":{\"annotationdefaults\":{\"arrowcolor\":\"#2a3f5f\",\"arrowhead\":0,\"arrowwidth\":1},\"autotypenumbers\":\"strict\",\"coloraxis\":{\"colorbar\":{\"outlinewidth\":0,\"ticks\":\"\"}},\"colorscale\":{\"diverging\":[[0,\"#8e0152\"],[0.1,\"#c51b7d\"],[0.2,\"#de77ae\"],[0.3,\"#f1b6da\"],[0.4,\"#fde0ef\"],[0.5,\"#f7f7f7\"],[0.6,\"#e6f5d0\"],[0.7,\"#b8e186\"],[0.8,\"#7fbc41\"],[0.9,\"#4d9221\"],[1,\"#276419\"]],\"sequential\":[[0.0,\"#0d0887\"],[0.1111111111111111,\"#46039f\"],[0.2222222222222222,\"#7201a8\"],[0.3333333333333333,\"#9c179e\"],[0.4444444444444444,\"#bd3786\"],[0.5555555555555556,\"#d8576b\"],[0.6666666666666666,\"#ed7953\"],[0.7777777777777778,\"#fb9f3a\"],[0.8888888888888888,\"#fdca26\"],[1.0,\"#f0f921\"]],\"sequentialminus\":[[0.0,\"#0d0887\"],[0.1111111111111111,\"#46039f\"],[0.2222222222222222,\"#7201a8\"],[0.3333333333333333,\"#9c179e\"],[0.4444444444444444,\"#bd3786\"],[0.5555555555555556,\"#d8576b\"],[0.6666666666666666,\"#ed7953\"],[0.7777777777777778,\"#fb9f3a\"],[0.8888888888888888,\"#fdca26\"],[1.0,\"#f0f921\"]]},\"colorway\":[\"#636efa\",\"#EF553B\",\"#00cc96\",\"#ab63fa\",\"#FFA15A\",\"#19d3f3\",\"#FF6692\",\"#B6E880\",\"#FF97FF\",\"#FECB52\"],\"font\":{\"color\":\"#2a3f5f\"},\"geo\":{\"bgcolor\":\"white\",\"lakecolor\":\"white\",\"landcolor\":\"#E5ECF6\",\"showlakes\":true,\"showland\":true,\"subunitcolor\":\"white\"},\"hoverlabel\":{\"align\":\"left\"},\"hovermode\":\"closest\",\"mapbox\":{\"style\":\"light\"},\"paper_bgcolor\":\"white\",\"plot_bgcolor\":\"#E5ECF6\",\"polar\":{\"angularaxis\":{\"gridcolor\":\"white\",\"linecolor\":\"white\",\"ticks\":\"\"},\"bgcolor\":\"#E5ECF6\",\"radialaxis\":{\"gridcolor\":\"white\",\"linecolor\":\"white\",\"ticks\":\"\"}},\"scene\":{\"xaxis\":{\"backgroundcolor\":\"#E5ECF6\",\"gridcolor\":\"white\",\"gridwidth\":2,\"linecolor\":\"white\",\"showbackground\":true,\"ticks\":\"\",\"zerolinecolor\":\"white\"},\"yaxis\":{\"backgroundcolor\":\"#E5ECF6\",\"gridcolor\":\"white\",\"gridwidth\":2,\"linecolor\":\"white\",\"showbackground\":true,\"ticks\":\"\",\"zerolinecolor\":\"white\"},\"zaxis\":{\"backgroundcolor\":\"#E5ECF6\",\"gridcolor\":\"white\",\"gridwidth\":2,\"linecolor\":\"white\",\"showbackground\":true,\"ticks\":\"\",\"zerolinecolor\":\"white\"}},\"shapedefaults\":{\"line\":{\"color\":\"#2a3f5f\"}},\"ternary\":{\"aaxis\":{\"gridcolor\":\"white\",\"linecolor\":\"white\",\"ticks\":\"\"},\"baxis\":{\"gridcolor\":\"white\",\"linecolor\":\"white\",\"ticks\":\"\"},\"bgcolor\":\"#E5ECF6\",\"caxis\":{\"gridcolor\":\"white\",\"linecolor\":\"white\",\"ticks\":\"\"}},\"title\":{\"x\":0.05},\"xaxis\":{\"automargin\":true,\"gridcolor\":\"white\",\"linecolor\":\"white\",\"ticks\":\"\",\"title\":{\"standoff\":15},\"zerolinecolor\":\"white\",\"zerolinewidth\":2},\"yaxis\":{\"automargin\":true,\"gridcolor\":\"white\",\"linecolor\":\"white\",\"ticks\":\"\",\"title\":{\"standoff\":15},\"zerolinecolor\":\"white\",\"zerolinewidth\":2}}},\"title\":{\"text\":\"perplexity=10\"},\"width\":400},                        {\"responsive\": true}                    ).then(function(){\n",
       "                            \n",
       "var gd = document.getElementById('98c8eec3-e193-41ae-914d-3c0439cbfcc5');\n",
       "var x = new MutationObserver(function (mutations, observer) {{\n",
       "        var display = window.getComputedStyle(gd).display;\n",
       "        if (!display || display === 'none') {{\n",
       "            console.log([gd, 'removed!']);\n",
       "            Plotly.purge(gd);\n",
       "            observer.disconnect();\n",
       "        }}\n",
       "}});\n",
       "\n",
       "// Listen for the removal of the full notebook cells\n",
       "var notebookContainer = gd.closest('#notebook-container');\n",
       "if (notebookContainer) {{\n",
       "    x.observe(notebookContainer, {childList: true});\n",
       "}}\n",
       "\n",
       "// Listen for the clearing of the current output cell\n",
       "var outputEl = gd.closest('.output');\n",
       "if (outputEl) {{\n",
       "    x.observe(outputEl, {childList: true});\n",
       "}}\n",
       "\n",
       "                        })                };                });            </script>        </div>"
      ]
     },
     "metadata": {},
     "output_type": "display_data"
    }
   ],
   "source": [
    "X,y=dat_wine.iloc[:,1:].values, dat_wine.iloc[:,0].values\n",
    "\n",
    "from sklearn.manifold import TSNE\n",
    "t_sne=TSNE(n_components=2, perplexity=10, random_state=1) # n_components 4 이상으로 하면 오류 생긴다. 왜지\n",
    "sne_out=t_sne.fit_transform(X)\n",
    "\n",
    "import plotly.graph_objects as go\n",
    "# scatter plot\n",
    "fig=go.Figure() \n",
    "fig.add_trace(go.Scatter(x=sne_out[:,0],y=sne_out[:,1],mode='markers',\n",
    "                                           marker=dict(size=5, color=y,colorscale='Viridis'))) \n",
    "fig.update_layout(title='perplexity=10')\n",
    "fig.update_layout(height=400,width=400)\n",
    "fig.show()"
   ]
  },
  {
   "cell_type": "code",
   "execution_count": 82,
   "id": "cb798948",
   "metadata": {},
   "outputs": [
    {
     "data": {
      "application/vnd.plotly.v1+json": {
       "config": {
        "plotlyServerURL": "https://plot.ly"
       },
       "data": [
        {
         "marker": {
          "color": [
           1,
           1,
           1,
           1,
           1,
           1,
           1,
           1,
           1,
           1,
           1,
           1,
           1,
           1,
           1,
           1,
           1,
           1,
           1,
           1,
           1,
           1,
           1,
           1,
           1,
           1,
           1,
           1,
           1,
           1,
           1,
           1,
           1,
           1,
           1,
           1,
           1,
           1,
           1,
           1,
           1,
           1,
           1,
           1,
           1,
           1,
           1,
           1,
           1,
           1,
           1,
           1,
           1,
           1,
           1,
           1,
           1,
           1,
           1,
           2,
           2,
           2,
           2,
           2,
           2,
           2,
           2,
           2,
           2,
           2,
           2,
           2,
           2,
           2,
           2,
           2,
           2,
           2,
           2,
           2,
           2,
           2,
           2,
           2,
           2,
           2,
           2,
           2,
           2,
           2,
           2,
           2,
           2,
           2,
           2,
           2,
           2,
           2,
           2,
           2,
           2,
           2,
           2,
           2,
           2,
           2,
           2,
           2,
           2,
           2,
           2,
           2,
           2,
           2,
           2,
           2,
           2,
           2,
           2,
           2,
           2,
           2,
           2,
           2,
           2,
           2,
           2,
           2,
           2,
           2,
           3,
           3,
           3,
           3,
           3,
           3,
           3,
           3,
           3,
           3,
           3,
           3,
           3,
           3,
           3,
           3,
           3,
           3,
           3,
           3,
           3,
           3,
           3,
           3,
           3,
           3,
           3,
           3,
           3,
           3,
           3,
           3,
           3,
           3,
           3,
           3,
           3,
           3,
           3,
           3,
           3,
           3,
           3,
           3,
           3,
           3,
           3,
           3
          ],
          "colorscale": [
           [
            0,
            "#440154"
           ],
           [
            0.1111111111111111,
            "#482878"
           ],
           [
            0.2222222222222222,
            "#3e4989"
           ],
           [
            0.3333333333333333,
            "#31688e"
           ],
           [
            0.4444444444444444,
            "#26828e"
           ],
           [
            0.5555555555555556,
            "#1f9e89"
           ],
           [
            0.6666666666666666,
            "#35b779"
           ],
           [
            0.7777777777777778,
            "#6ece58"
           ],
           [
            0.8888888888888888,
            "#b5de2b"
           ],
           [
            1,
            "#fde725"
           ]
          ],
          "size": 5
         },
         "mode": "markers",
         "type": "scatter",
         "x": [
          9.018366813659668,
          9.370024681091309,
          12.056967735290527,
          15.591933250427246,
          1.2622305154800415,
          15.218794822692871,
          13.670029640197754,
          14.430892944335938,
          9.133788108825684,
          8.611486434936523,
          15.715081214904785,
          13.264102935791016,
          14.06325626373291,
          11.375940322875977,
          15.646242141723633,
          14.37546443939209,
          14.113686561584473,
          10.883095741271973,
          15.668326377868652,
          3.736079216003418,
          2.2396249771118164,
          1.5141570568084717,
          8.293196678161621,
          8.035109519958496,
          3.4991064071655273,
          3.4515795707702637,
          12.281810760498047,
          13.398799896240234,
          5.146564483642578,
          8.536381721496582,
          13.796923637390137,
          15.347755432128906,
          7.6941022872924805,
          13.142592430114746,
          9.858105659484863,
          5.239319324493408,
          4.225432395935059,
          10.413616180419922,
          8.444478034973145,
          1.9462255239486694,
          2.485196113586426,
          8.968117713928223,
          10.264857292175293,
          -1.5757004022598267,
          4.782555103302002,
          9.698028564453125,
          9.7180757522583,
          7.680049419403076,
          9.3392915725708,
          13.2828369140625,
          11.36988639831543,
          13.065093040466309,
          12.221610069274902,
          14.807065963745117,
          8.933239936828613,
          10.546201705932617,
          7.129179954528809,
          13.686033248901367,
          14.082330703735352,
          -6.194694519042969,
          -1.3644473552703857,
          -8.795354843139648,
          -2.9523375034332275,
          -9.263566017150879,
          -10.489481925964355,
          -1.4548940658569336,
          -6.501906394958496,
          -6.357962608337402,
          1.3161181211471558,
          1.9412765502929688,
          4.067203521728516,
          -9.6591796875,
          -7.721007823944092,
          7.190056800842285,
          4.486378192901611,
          -9.237043380737305,
          -9.719780921936035,
          -8.4295015335083,
          1.9711629152297974,
          -8.481440544128418,
          -10.151997566223145,
          -0.10224003344774246,
          -3.9021270275115967,
          -6.740411281585693,
          -6.945892810821533,
          -8.7442045211792,
          -7.383016109466553,
          -5.850411415100098,
          -0.7809810042381287,
          -4.28396463394165,
          -7.220859050750732,
          -8.29327392578125,
          -6.769464492797852,
          -9.892702102661133,
          -10.284232139587402,
          6.057683944702148,
          -2.2785069942474365,
          -8.8042631149292,
          -1.8583533763885498,
          -9.56191635131836,
          -0.20778341591358185,
          -5.83418607711792,
          -8.969542503356934,
          -9.342538833618164,
          -1.2880693674087524,
          -10.223978996276855,
          -6.559575080871582,
          -7.207981586456299,
          -10.455872535705566,
          -1.0433986186981201,
          -5.049638271331787,
          -9.81287670135498,
          -3.9125163555145264,
          -8.741082191467285,
          -9.561927795410156,
          -9.212080955505371,
          -7.1387038230896,
          -10.64802360534668,
          -9.577844619750977,
          -5.6524248123168945,
          -3.458427906036377,
          -9.086124420166016,
          -10.428403854370117,
          -10.074055671691895,
          -9.495509147644043,
          -9.982354164123535,
          -9.792769432067871,
          -8.05745792388916,
          -9.789939880371094,
          -5.3655900955200195,
          -2.3973259925842285,
          -6.718601226806641,
          -5.436592102050781,
          -4.133979320526123,
          -2.5064849853515625,
          -0.6171190142631531,
          0.0834081768989563,
          -7.3991594314575195,
          -5.088566303253174,
          -4.605522155761719,
          -4.405657768249512,
          1.6017173528671265,
          -7.219613075256348,
          -6.006968975067139,
          4.248152256011963,
          3.1936585903167725,
          -8.918989181518555,
          -3.862380027770996,
          -2.456757068634033,
          -5.481762409210205,
          -8.793938636779785,
          -8.777360916137695,
          -9.789158821105957,
          -1.794037938117981,
          -2.816281318664551,
          0.2671162188053131,
          -7.661507606506348,
          4.736573219299316,
          -2.330307722091675,
          -3.9853708744049072,
          -6.587986946105957,
          -1.7812649011611938,
          -4.904216289520264,
          -2.0614054203033447,
          -4.070336818695068,
          -6.665253162384033,
          -1.1029795408248901,
          -0.6606160998344421,
          1.0177487134933472,
          -2.7295145988464355,
          -7.417708396911621,
          -7.681670188903809,
          -2.072455644607544,
          0.5703955292701721,
          0.9177559614181519,
          3.716252088546753,
          4.000597953796387,
          -5.557581424713135
         ],
         "y": [
          -15.312214851379395,
          -14.15099048614502,
          -17.76363754272461,
          -21.235050201416016,
          -3.775531530380249,
          -21.18743324279785,
          -20.081584930419922,
          -19.484270095825195,
          -14.063286781311035,
          -14.51368522644043,
          -21.49148941040039,
          -19.839468002319336,
          -20.37374496459961,
          -17.03955078125,
          -21.792179107666016,
          -19.90437889099121,
          -19.042253494262695,
          -16.47449493408203,
          -22.2386474609375,
          -8.285616874694824,
          -5.48087739944458,
          -5.2884297370910645,
          -14.250802040100098,
          -13.57371711730957,
          -8.562458038330078,
          -7.556202411651611,
          -18.060455322265625,
          -20.063316345214844,
          -9.89604663848877,
          -14.02249526977539,
          -19.66077423095703,
          -21.69881248474121,
          -12.92181396484375,
          -18.6246395111084,
          -15.80955982208252,
          -10.006369590759277,
          -9.257041931152344,
          -15.806158065795898,
          -13.403424263000488,
          -4.702517032623291,
          -6.270149230957031,
          -13.629369735717773,
          -15.409649848937988,
          -0.6241253614425659,
          -9.08829402923584,
          -15.282222747802734,
          -14.623732566833496,
          -12.736477851867676,
          -14.683595657348633,
          -19.11844825744629,
          -17.041017532348633,
          -19.46468734741211,
          -17.902557373046875,
          -20.53422737121582,
          -15.0443754196167,
          -16.330602645874023,
          -12.201598167419434,
          -19.063213348388672,
          -19.365114212036133,
          13.874204635620117,
          -0.5151481628417969,
          19.693832397460938,
          3.8382303714752197,
          22.014116287231445,
          25.61642074584961,
          -0.0482545867562294,
          15.467105865478516,
          14.891358375549316,
          -4.454826354980469,
          -3.211733341217041,
          -8.943115234375,
          22.651248931884766,
          17.86726951599121,
          -12.489176750183105,
          -9.40450382232666,
          21.315771102905273,
          23.731420516967773,
          15.114147186279297,
          -4.181835174560547,
          18.70686149597168,
          27.534393310546875,
          -2.5247178077697754,
          3.6690845489501953,
          14.398303985595703,
          13.569499015808105,
          19.71025848388672,
          15.864083290100098,
          8.934261322021484,
          0.2598761320114136,
          3.8200924396514893,
          17.17269515991211,
          19.87468147277832,
          16.02923011779785,
          27.35323143005371,
          26.01237678527832,
          -10.990982055664062,
          5.338295936584473,
          21.660303115844727,
          1.36869215965271,
          22.991741180419922,
          -2.23088002204895,
          8.921618461608887,
          20.58649444580078,
          22.33991241455078,
          0.7072306871414185,
          26.867029190063477,
          14.857953071594238,
          16.56996726989746,
          26.939687728881836,
          -0.08345355093479156,
          9.468056678771973,
          26.62630844116211,
          5.835311412811279,
          21.109134674072266,
          24.155683517456055,
          23.02219009399414,
          15.916268348693848,
          26.04073143005371,
          24.94062042236328,
          8.72430419921875,
          4.613753795623779,
          18.250898361206055,
          25.204782485961914,
          24.391836166381836,
          24.51529312133789,
          24.553184509277344,
          25.693422317504883,
          18.474580764770508,
          26.11212921142578,
          7.916070461273193,
          5.066308498382568,
          12.69629192352295,
          9.411782264709473,
          6.361812591552734,
          2.122586727142334,
          -1.2010670900344849,
          -2.9097230434417725,
          14.032543182373047,
          7.997549057006836,
          7.124305248260498,
          6.255049705505371,
          -5.756969928741455,
          13.525885581970215,
          9.846503257751465,
          -8.318191528320312,
          -7.950203895568848,
          22.529773712158203,
          4.262642860412598,
          2.067741870880127,
          10.261011123657227,
          15.239463806152344,
          17.180500030517578,
          21.02904510498047,
          0.1640947461128235,
          3.7469208240509033,
          -3.235708475112915,
          17.205371856689453,
          -8.841537475585938,
          1.0146912336349487,
          4.7061076164245605,
          13.838592529296875,
          -0.7718567252159119,
          8.856444358825684,
          -0.2510988414287567,
          5.063469409942627,
          13.837136268615723,
          -1.4979608058929443,
          -0.4156894087791443,
          -4.534677505493164,
          4.816223621368408,
          14.4943208694458,
          18.009761810302734,
          1.2503117322921753,
          -3.9584062099456787,
          -4.542585849761963,
          -7.723755359649658,
          -7.853213310241699,
          9.402665138244629
         ]
        }
       ],
       "layout": {
        "height": 400,
        "template": {
         "data": {
          "bar": [
           {
            "error_x": {
             "color": "#2a3f5f"
            },
            "error_y": {
             "color": "#2a3f5f"
            },
            "marker": {
             "line": {
              "color": "#E5ECF6",
              "width": 0.5
             },
             "pattern": {
              "fillmode": "overlay",
              "size": 10,
              "solidity": 0.2
             }
            },
            "type": "bar"
           }
          ],
          "barpolar": [
           {
            "marker": {
             "line": {
              "color": "#E5ECF6",
              "width": 0.5
             },
             "pattern": {
              "fillmode": "overlay",
              "size": 10,
              "solidity": 0.2
             }
            },
            "type": "barpolar"
           }
          ],
          "carpet": [
           {
            "aaxis": {
             "endlinecolor": "#2a3f5f",
             "gridcolor": "white",
             "linecolor": "white",
             "minorgridcolor": "white",
             "startlinecolor": "#2a3f5f"
            },
            "baxis": {
             "endlinecolor": "#2a3f5f",
             "gridcolor": "white",
             "linecolor": "white",
             "minorgridcolor": "white",
             "startlinecolor": "#2a3f5f"
            },
            "type": "carpet"
           }
          ],
          "choropleth": [
           {
            "colorbar": {
             "outlinewidth": 0,
             "ticks": ""
            },
            "type": "choropleth"
           }
          ],
          "contour": [
           {
            "colorbar": {
             "outlinewidth": 0,
             "ticks": ""
            },
            "colorscale": [
             [
              0,
              "#0d0887"
             ],
             [
              0.1111111111111111,
              "#46039f"
             ],
             [
              0.2222222222222222,
              "#7201a8"
             ],
             [
              0.3333333333333333,
              "#9c179e"
             ],
             [
              0.4444444444444444,
              "#bd3786"
             ],
             [
              0.5555555555555556,
              "#d8576b"
             ],
             [
              0.6666666666666666,
              "#ed7953"
             ],
             [
              0.7777777777777778,
              "#fb9f3a"
             ],
             [
              0.8888888888888888,
              "#fdca26"
             ],
             [
              1,
              "#f0f921"
             ]
            ],
            "type": "contour"
           }
          ],
          "contourcarpet": [
           {
            "colorbar": {
             "outlinewidth": 0,
             "ticks": ""
            },
            "type": "contourcarpet"
           }
          ],
          "heatmap": [
           {
            "colorbar": {
             "outlinewidth": 0,
             "ticks": ""
            },
            "colorscale": [
             [
              0,
              "#0d0887"
             ],
             [
              0.1111111111111111,
              "#46039f"
             ],
             [
              0.2222222222222222,
              "#7201a8"
             ],
             [
              0.3333333333333333,
              "#9c179e"
             ],
             [
              0.4444444444444444,
              "#bd3786"
             ],
             [
              0.5555555555555556,
              "#d8576b"
             ],
             [
              0.6666666666666666,
              "#ed7953"
             ],
             [
              0.7777777777777778,
              "#fb9f3a"
             ],
             [
              0.8888888888888888,
              "#fdca26"
             ],
             [
              1,
              "#f0f921"
             ]
            ],
            "type": "heatmap"
           }
          ],
          "heatmapgl": [
           {
            "colorbar": {
             "outlinewidth": 0,
             "ticks": ""
            },
            "colorscale": [
             [
              0,
              "#0d0887"
             ],
             [
              0.1111111111111111,
              "#46039f"
             ],
             [
              0.2222222222222222,
              "#7201a8"
             ],
             [
              0.3333333333333333,
              "#9c179e"
             ],
             [
              0.4444444444444444,
              "#bd3786"
             ],
             [
              0.5555555555555556,
              "#d8576b"
             ],
             [
              0.6666666666666666,
              "#ed7953"
             ],
             [
              0.7777777777777778,
              "#fb9f3a"
             ],
             [
              0.8888888888888888,
              "#fdca26"
             ],
             [
              1,
              "#f0f921"
             ]
            ],
            "type": "heatmapgl"
           }
          ],
          "histogram": [
           {
            "marker": {
             "pattern": {
              "fillmode": "overlay",
              "size": 10,
              "solidity": 0.2
             }
            },
            "type": "histogram"
           }
          ],
          "histogram2d": [
           {
            "colorbar": {
             "outlinewidth": 0,
             "ticks": ""
            },
            "colorscale": [
             [
              0,
              "#0d0887"
             ],
             [
              0.1111111111111111,
              "#46039f"
             ],
             [
              0.2222222222222222,
              "#7201a8"
             ],
             [
              0.3333333333333333,
              "#9c179e"
             ],
             [
              0.4444444444444444,
              "#bd3786"
             ],
             [
              0.5555555555555556,
              "#d8576b"
             ],
             [
              0.6666666666666666,
              "#ed7953"
             ],
             [
              0.7777777777777778,
              "#fb9f3a"
             ],
             [
              0.8888888888888888,
              "#fdca26"
             ],
             [
              1,
              "#f0f921"
             ]
            ],
            "type": "histogram2d"
           }
          ],
          "histogram2dcontour": [
           {
            "colorbar": {
             "outlinewidth": 0,
             "ticks": ""
            },
            "colorscale": [
             [
              0,
              "#0d0887"
             ],
             [
              0.1111111111111111,
              "#46039f"
             ],
             [
              0.2222222222222222,
              "#7201a8"
             ],
             [
              0.3333333333333333,
              "#9c179e"
             ],
             [
              0.4444444444444444,
              "#bd3786"
             ],
             [
              0.5555555555555556,
              "#d8576b"
             ],
             [
              0.6666666666666666,
              "#ed7953"
             ],
             [
              0.7777777777777778,
              "#fb9f3a"
             ],
             [
              0.8888888888888888,
              "#fdca26"
             ],
             [
              1,
              "#f0f921"
             ]
            ],
            "type": "histogram2dcontour"
           }
          ],
          "mesh3d": [
           {
            "colorbar": {
             "outlinewidth": 0,
             "ticks": ""
            },
            "type": "mesh3d"
           }
          ],
          "parcoords": [
           {
            "line": {
             "colorbar": {
              "outlinewidth": 0,
              "ticks": ""
             }
            },
            "type": "parcoords"
           }
          ],
          "pie": [
           {
            "automargin": true,
            "type": "pie"
           }
          ],
          "scatter": [
           {
            "marker": {
             "colorbar": {
              "outlinewidth": 0,
              "ticks": ""
             }
            },
            "type": "scatter"
           }
          ],
          "scatter3d": [
           {
            "line": {
             "colorbar": {
              "outlinewidth": 0,
              "ticks": ""
             }
            },
            "marker": {
             "colorbar": {
              "outlinewidth": 0,
              "ticks": ""
             }
            },
            "type": "scatter3d"
           }
          ],
          "scattercarpet": [
           {
            "marker": {
             "colorbar": {
              "outlinewidth": 0,
              "ticks": ""
             }
            },
            "type": "scattercarpet"
           }
          ],
          "scattergeo": [
           {
            "marker": {
             "colorbar": {
              "outlinewidth": 0,
              "ticks": ""
             }
            },
            "type": "scattergeo"
           }
          ],
          "scattergl": [
           {
            "marker": {
             "colorbar": {
              "outlinewidth": 0,
              "ticks": ""
             }
            },
            "type": "scattergl"
           }
          ],
          "scattermapbox": [
           {
            "marker": {
             "colorbar": {
              "outlinewidth": 0,
              "ticks": ""
             }
            },
            "type": "scattermapbox"
           }
          ],
          "scatterpolar": [
           {
            "marker": {
             "colorbar": {
              "outlinewidth": 0,
              "ticks": ""
             }
            },
            "type": "scatterpolar"
           }
          ],
          "scatterpolargl": [
           {
            "marker": {
             "colorbar": {
              "outlinewidth": 0,
              "ticks": ""
             }
            },
            "type": "scatterpolargl"
           }
          ],
          "scatterternary": [
           {
            "marker": {
             "colorbar": {
              "outlinewidth": 0,
              "ticks": ""
             }
            },
            "type": "scatterternary"
           }
          ],
          "surface": [
           {
            "colorbar": {
             "outlinewidth": 0,
             "ticks": ""
            },
            "colorscale": [
             [
              0,
              "#0d0887"
             ],
             [
              0.1111111111111111,
              "#46039f"
             ],
             [
              0.2222222222222222,
              "#7201a8"
             ],
             [
              0.3333333333333333,
              "#9c179e"
             ],
             [
              0.4444444444444444,
              "#bd3786"
             ],
             [
              0.5555555555555556,
              "#d8576b"
             ],
             [
              0.6666666666666666,
              "#ed7953"
             ],
             [
              0.7777777777777778,
              "#fb9f3a"
             ],
             [
              0.8888888888888888,
              "#fdca26"
             ],
             [
              1,
              "#f0f921"
             ]
            ],
            "type": "surface"
           }
          ],
          "table": [
           {
            "cells": {
             "fill": {
              "color": "#EBF0F8"
             },
             "line": {
              "color": "white"
             }
            },
            "header": {
             "fill": {
              "color": "#C8D4E3"
             },
             "line": {
              "color": "white"
             }
            },
            "type": "table"
           }
          ]
         },
         "layout": {
          "annotationdefaults": {
           "arrowcolor": "#2a3f5f",
           "arrowhead": 0,
           "arrowwidth": 1
          },
          "autotypenumbers": "strict",
          "coloraxis": {
           "colorbar": {
            "outlinewidth": 0,
            "ticks": ""
           }
          },
          "colorscale": {
           "diverging": [
            [
             0,
             "#8e0152"
            ],
            [
             0.1,
             "#c51b7d"
            ],
            [
             0.2,
             "#de77ae"
            ],
            [
             0.3,
             "#f1b6da"
            ],
            [
             0.4,
             "#fde0ef"
            ],
            [
             0.5,
             "#f7f7f7"
            ],
            [
             0.6,
             "#e6f5d0"
            ],
            [
             0.7,
             "#b8e186"
            ],
            [
             0.8,
             "#7fbc41"
            ],
            [
             0.9,
             "#4d9221"
            ],
            [
             1,
             "#276419"
            ]
           ],
           "sequential": [
            [
             0,
             "#0d0887"
            ],
            [
             0.1111111111111111,
             "#46039f"
            ],
            [
             0.2222222222222222,
             "#7201a8"
            ],
            [
             0.3333333333333333,
             "#9c179e"
            ],
            [
             0.4444444444444444,
             "#bd3786"
            ],
            [
             0.5555555555555556,
             "#d8576b"
            ],
            [
             0.6666666666666666,
             "#ed7953"
            ],
            [
             0.7777777777777778,
             "#fb9f3a"
            ],
            [
             0.8888888888888888,
             "#fdca26"
            ],
            [
             1,
             "#f0f921"
            ]
           ],
           "sequentialminus": [
            [
             0,
             "#0d0887"
            ],
            [
             0.1111111111111111,
             "#46039f"
            ],
            [
             0.2222222222222222,
             "#7201a8"
            ],
            [
             0.3333333333333333,
             "#9c179e"
            ],
            [
             0.4444444444444444,
             "#bd3786"
            ],
            [
             0.5555555555555556,
             "#d8576b"
            ],
            [
             0.6666666666666666,
             "#ed7953"
            ],
            [
             0.7777777777777778,
             "#fb9f3a"
            ],
            [
             0.8888888888888888,
             "#fdca26"
            ],
            [
             1,
             "#f0f921"
            ]
           ]
          },
          "colorway": [
           "#636efa",
           "#EF553B",
           "#00cc96",
           "#ab63fa",
           "#FFA15A",
           "#19d3f3",
           "#FF6692",
           "#B6E880",
           "#FF97FF",
           "#FECB52"
          ],
          "font": {
           "color": "#2a3f5f"
          },
          "geo": {
           "bgcolor": "white",
           "lakecolor": "white",
           "landcolor": "#E5ECF6",
           "showlakes": true,
           "showland": true,
           "subunitcolor": "white"
          },
          "hoverlabel": {
           "align": "left"
          },
          "hovermode": "closest",
          "mapbox": {
           "style": "light"
          },
          "paper_bgcolor": "white",
          "plot_bgcolor": "#E5ECF6",
          "polar": {
           "angularaxis": {
            "gridcolor": "white",
            "linecolor": "white",
            "ticks": ""
           },
           "bgcolor": "#E5ECF6",
           "radialaxis": {
            "gridcolor": "white",
            "linecolor": "white",
            "ticks": ""
           }
          },
          "scene": {
           "xaxis": {
            "backgroundcolor": "#E5ECF6",
            "gridcolor": "white",
            "gridwidth": 2,
            "linecolor": "white",
            "showbackground": true,
            "ticks": "",
            "zerolinecolor": "white"
           },
           "yaxis": {
            "backgroundcolor": "#E5ECF6",
            "gridcolor": "white",
            "gridwidth": 2,
            "linecolor": "white",
            "showbackground": true,
            "ticks": "",
            "zerolinecolor": "white"
           },
           "zaxis": {
            "backgroundcolor": "#E5ECF6",
            "gridcolor": "white",
            "gridwidth": 2,
            "linecolor": "white",
            "showbackground": true,
            "ticks": "",
            "zerolinecolor": "white"
           }
          },
          "shapedefaults": {
           "line": {
            "color": "#2a3f5f"
           }
          },
          "ternary": {
           "aaxis": {
            "gridcolor": "white",
            "linecolor": "white",
            "ticks": ""
           },
           "baxis": {
            "gridcolor": "white",
            "linecolor": "white",
            "ticks": ""
           },
           "bgcolor": "#E5ECF6",
           "caxis": {
            "gridcolor": "white",
            "linecolor": "white",
            "ticks": ""
           }
          },
          "title": {
           "x": 0.05
          },
          "xaxis": {
           "automargin": true,
           "gridcolor": "white",
           "linecolor": "white",
           "ticks": "",
           "title": {
            "standoff": 15
           },
           "zerolinecolor": "white",
           "zerolinewidth": 2
          },
          "yaxis": {
           "automargin": true,
           "gridcolor": "white",
           "linecolor": "white",
           "ticks": "",
           "title": {
            "standoff": 15
           },
           "zerolinecolor": "white",
           "zerolinewidth": 2
          }
         }
        },
        "title": {
         "text": "perplexity=20"
        },
        "width": 400
       }
      },
      "text/html": [
       "<div>                            <div id=\"4a6ff03f-78ff-4fbc-883b-42ef51f93cc6\" class=\"plotly-graph-div\" style=\"height:400px; width:400px;\"></div>            <script type=\"text/javascript\">                require([\"plotly\"], function(Plotly) {                    window.PLOTLYENV=window.PLOTLYENV || {};                                    if (document.getElementById(\"4a6ff03f-78ff-4fbc-883b-42ef51f93cc6\")) {                    Plotly.newPlot(                        \"4a6ff03f-78ff-4fbc-883b-42ef51f93cc6\",                        [{\"marker\":{\"color\":[1,1,1,1,1,1,1,1,1,1,1,1,1,1,1,1,1,1,1,1,1,1,1,1,1,1,1,1,1,1,1,1,1,1,1,1,1,1,1,1,1,1,1,1,1,1,1,1,1,1,1,1,1,1,1,1,1,1,1,2,2,2,2,2,2,2,2,2,2,2,2,2,2,2,2,2,2,2,2,2,2,2,2,2,2,2,2,2,2,2,2,2,2,2,2,2,2,2,2,2,2,2,2,2,2,2,2,2,2,2,2,2,2,2,2,2,2,2,2,2,2,2,2,2,2,2,2,2,2,2,3,3,3,3,3,3,3,3,3,3,3,3,3,3,3,3,3,3,3,3,3,3,3,3,3,3,3,3,3,3,3,3,3,3,3,3,3,3,3,3,3,3,3,3,3,3,3,3],\"colorscale\":[[0.0,\"#440154\"],[0.1111111111111111,\"#482878\"],[0.2222222222222222,\"#3e4989\"],[0.3333333333333333,\"#31688e\"],[0.4444444444444444,\"#26828e\"],[0.5555555555555556,\"#1f9e89\"],[0.6666666666666666,\"#35b779\"],[0.7777777777777778,\"#6ece58\"],[0.8888888888888888,\"#b5de2b\"],[1.0,\"#fde725\"]],\"size\":5},\"mode\":\"markers\",\"type\":\"scatter\",\"x\":[9.018366813659668,9.370024681091309,12.056967735290527,15.591933250427246,1.2622305154800415,15.218794822692871,13.670029640197754,14.430892944335938,9.133788108825684,8.611486434936523,15.715081214904785,13.264102935791016,14.06325626373291,11.375940322875977,15.646242141723633,14.37546443939209,14.113686561584473,10.883095741271973,15.668326377868652,3.736079216003418,2.2396249771118164,1.5141570568084717,8.293196678161621,8.035109519958496,3.4991064071655273,3.4515795707702637,12.281810760498047,13.398799896240234,5.146564483642578,8.536381721496582,13.796923637390137,15.347755432128906,7.6941022872924805,13.142592430114746,9.858105659484863,5.239319324493408,4.225432395935059,10.413616180419922,8.444478034973145,1.9462255239486694,2.485196113586426,8.968117713928223,10.264857292175293,-1.5757004022598267,4.782555103302002,9.698028564453125,9.7180757522583,7.680049419403076,9.3392915725708,13.2828369140625,11.36988639831543,13.065093040466309,12.221610069274902,14.807065963745117,8.933239936828613,10.546201705932617,7.129179954528809,13.686033248901367,14.082330703735352,-6.194694519042969,-1.3644473552703857,-8.795354843139648,-2.9523375034332275,-9.263566017150879,-10.489481925964355,-1.4548940658569336,-6.501906394958496,-6.357962608337402,1.3161181211471558,1.9412765502929688,4.067203521728516,-9.6591796875,-7.721007823944092,7.190056800842285,4.486378192901611,-9.237043380737305,-9.719780921936035,-8.4295015335083,1.9711629152297974,-8.481440544128418,-10.151997566223145,-0.10224003344774246,-3.9021270275115967,-6.740411281585693,-6.945892810821533,-8.7442045211792,-7.383016109466553,-5.850411415100098,-0.7809810042381287,-4.28396463394165,-7.220859050750732,-8.29327392578125,-6.769464492797852,-9.892702102661133,-10.284232139587402,6.057683944702148,-2.2785069942474365,-8.8042631149292,-1.8583533763885498,-9.56191635131836,-0.20778341591358185,-5.83418607711792,-8.969542503356934,-9.342538833618164,-1.2880693674087524,-10.223978996276855,-6.559575080871582,-7.207981586456299,-10.455872535705566,-1.0433986186981201,-5.049638271331787,-9.81287670135498,-3.9125163555145264,-8.741082191467285,-9.561927795410156,-9.212080955505371,-7.1387038230896,-10.64802360534668,-9.577844619750977,-5.6524248123168945,-3.458427906036377,-9.086124420166016,-10.428403854370117,-10.074055671691895,-9.495509147644043,-9.982354164123535,-9.792769432067871,-8.05745792388916,-9.789939880371094,-5.3655900955200195,-2.3973259925842285,-6.718601226806641,-5.436592102050781,-4.133979320526123,-2.5064849853515625,-0.6171190142631531,0.0834081768989563,-7.3991594314575195,-5.088566303253174,-4.605522155761719,-4.405657768249512,1.6017173528671265,-7.219613075256348,-6.006968975067139,4.248152256011963,3.1936585903167725,-8.918989181518555,-3.862380027770996,-2.456757068634033,-5.481762409210205,-8.793938636779785,-8.777360916137695,-9.789158821105957,-1.794037938117981,-2.816281318664551,0.2671162188053131,-7.661507606506348,4.736573219299316,-2.330307722091675,-3.9853708744049072,-6.587986946105957,-1.7812649011611938,-4.904216289520264,-2.0614054203033447,-4.070336818695068,-6.665253162384033,-1.1029795408248901,-0.6606160998344421,1.0177487134933472,-2.7295145988464355,-7.417708396911621,-7.681670188903809,-2.072455644607544,0.5703955292701721,0.9177559614181519,3.716252088546753,4.000597953796387,-5.557581424713135],\"y\":[-15.312214851379395,-14.15099048614502,-17.76363754272461,-21.235050201416016,-3.775531530380249,-21.18743324279785,-20.081584930419922,-19.484270095825195,-14.063286781311035,-14.51368522644043,-21.49148941040039,-19.839468002319336,-20.37374496459961,-17.03955078125,-21.792179107666016,-19.90437889099121,-19.042253494262695,-16.47449493408203,-22.2386474609375,-8.285616874694824,-5.48087739944458,-5.2884297370910645,-14.250802040100098,-13.57371711730957,-8.562458038330078,-7.556202411651611,-18.060455322265625,-20.063316345214844,-9.89604663848877,-14.02249526977539,-19.66077423095703,-21.69881248474121,-12.92181396484375,-18.6246395111084,-15.80955982208252,-10.006369590759277,-9.257041931152344,-15.806158065795898,-13.403424263000488,-4.702517032623291,-6.270149230957031,-13.629369735717773,-15.409649848937988,-0.6241253614425659,-9.08829402923584,-15.282222747802734,-14.623732566833496,-12.736477851867676,-14.683595657348633,-19.11844825744629,-17.041017532348633,-19.46468734741211,-17.902557373046875,-20.53422737121582,-15.0443754196167,-16.330602645874023,-12.201598167419434,-19.063213348388672,-19.365114212036133,13.874204635620117,-0.5151481628417969,19.693832397460938,3.8382303714752197,22.014116287231445,25.61642074584961,-0.0482545867562294,15.467105865478516,14.891358375549316,-4.454826354980469,-3.211733341217041,-8.943115234375,22.651248931884766,17.86726951599121,-12.489176750183105,-9.40450382232666,21.315771102905273,23.731420516967773,15.114147186279297,-4.181835174560547,18.70686149597168,27.534393310546875,-2.5247178077697754,3.6690845489501953,14.398303985595703,13.569499015808105,19.71025848388672,15.864083290100098,8.934261322021484,0.2598761320114136,3.8200924396514893,17.17269515991211,19.87468147277832,16.02923011779785,27.35323143005371,26.01237678527832,-10.990982055664062,5.338295936584473,21.660303115844727,1.36869215965271,22.991741180419922,-2.23088002204895,8.921618461608887,20.58649444580078,22.33991241455078,0.7072306871414185,26.867029190063477,14.857953071594238,16.56996726989746,26.939687728881836,-0.08345355093479156,9.468056678771973,26.62630844116211,5.835311412811279,21.109134674072266,24.155683517456055,23.02219009399414,15.916268348693848,26.04073143005371,24.94062042236328,8.72430419921875,4.613753795623779,18.250898361206055,25.204782485961914,24.391836166381836,24.51529312133789,24.553184509277344,25.693422317504883,18.474580764770508,26.11212921142578,7.916070461273193,5.066308498382568,12.69629192352295,9.411782264709473,6.361812591552734,2.122586727142334,-1.2010670900344849,-2.9097230434417725,14.032543182373047,7.997549057006836,7.124305248260498,6.255049705505371,-5.756969928741455,13.525885581970215,9.846503257751465,-8.318191528320312,-7.950203895568848,22.529773712158203,4.262642860412598,2.067741870880127,10.261011123657227,15.239463806152344,17.180500030517578,21.02904510498047,0.1640947461128235,3.7469208240509033,-3.235708475112915,17.205371856689453,-8.841537475585938,1.0146912336349487,4.7061076164245605,13.838592529296875,-0.7718567252159119,8.856444358825684,-0.2510988414287567,5.063469409942627,13.837136268615723,-1.4979608058929443,-0.4156894087791443,-4.534677505493164,4.816223621368408,14.4943208694458,18.009761810302734,1.2503117322921753,-3.9584062099456787,-4.542585849761963,-7.723755359649658,-7.853213310241699,9.402665138244629]}],                        {\"height\":400,\"template\":{\"data\":{\"bar\":[{\"error_x\":{\"color\":\"#2a3f5f\"},\"error_y\":{\"color\":\"#2a3f5f\"},\"marker\":{\"line\":{\"color\":\"#E5ECF6\",\"width\":0.5},\"pattern\":{\"fillmode\":\"overlay\",\"size\":10,\"solidity\":0.2}},\"type\":\"bar\"}],\"barpolar\":[{\"marker\":{\"line\":{\"color\":\"#E5ECF6\",\"width\":0.5},\"pattern\":{\"fillmode\":\"overlay\",\"size\":10,\"solidity\":0.2}},\"type\":\"barpolar\"}],\"carpet\":[{\"aaxis\":{\"endlinecolor\":\"#2a3f5f\",\"gridcolor\":\"white\",\"linecolor\":\"white\",\"minorgridcolor\":\"white\",\"startlinecolor\":\"#2a3f5f\"},\"baxis\":{\"endlinecolor\":\"#2a3f5f\",\"gridcolor\":\"white\",\"linecolor\":\"white\",\"minorgridcolor\":\"white\",\"startlinecolor\":\"#2a3f5f\"},\"type\":\"carpet\"}],\"choropleth\":[{\"colorbar\":{\"outlinewidth\":0,\"ticks\":\"\"},\"type\":\"choropleth\"}],\"contour\":[{\"colorbar\":{\"outlinewidth\":0,\"ticks\":\"\"},\"colorscale\":[[0.0,\"#0d0887\"],[0.1111111111111111,\"#46039f\"],[0.2222222222222222,\"#7201a8\"],[0.3333333333333333,\"#9c179e\"],[0.4444444444444444,\"#bd3786\"],[0.5555555555555556,\"#d8576b\"],[0.6666666666666666,\"#ed7953\"],[0.7777777777777778,\"#fb9f3a\"],[0.8888888888888888,\"#fdca26\"],[1.0,\"#f0f921\"]],\"type\":\"contour\"}],\"contourcarpet\":[{\"colorbar\":{\"outlinewidth\":0,\"ticks\":\"\"},\"type\":\"contourcarpet\"}],\"heatmap\":[{\"colorbar\":{\"outlinewidth\":0,\"ticks\":\"\"},\"colorscale\":[[0.0,\"#0d0887\"],[0.1111111111111111,\"#46039f\"],[0.2222222222222222,\"#7201a8\"],[0.3333333333333333,\"#9c179e\"],[0.4444444444444444,\"#bd3786\"],[0.5555555555555556,\"#d8576b\"],[0.6666666666666666,\"#ed7953\"],[0.7777777777777778,\"#fb9f3a\"],[0.8888888888888888,\"#fdca26\"],[1.0,\"#f0f921\"]],\"type\":\"heatmap\"}],\"heatmapgl\":[{\"colorbar\":{\"outlinewidth\":0,\"ticks\":\"\"},\"colorscale\":[[0.0,\"#0d0887\"],[0.1111111111111111,\"#46039f\"],[0.2222222222222222,\"#7201a8\"],[0.3333333333333333,\"#9c179e\"],[0.4444444444444444,\"#bd3786\"],[0.5555555555555556,\"#d8576b\"],[0.6666666666666666,\"#ed7953\"],[0.7777777777777778,\"#fb9f3a\"],[0.8888888888888888,\"#fdca26\"],[1.0,\"#f0f921\"]],\"type\":\"heatmapgl\"}],\"histogram\":[{\"marker\":{\"pattern\":{\"fillmode\":\"overlay\",\"size\":10,\"solidity\":0.2}},\"type\":\"histogram\"}],\"histogram2d\":[{\"colorbar\":{\"outlinewidth\":0,\"ticks\":\"\"},\"colorscale\":[[0.0,\"#0d0887\"],[0.1111111111111111,\"#46039f\"],[0.2222222222222222,\"#7201a8\"],[0.3333333333333333,\"#9c179e\"],[0.4444444444444444,\"#bd3786\"],[0.5555555555555556,\"#d8576b\"],[0.6666666666666666,\"#ed7953\"],[0.7777777777777778,\"#fb9f3a\"],[0.8888888888888888,\"#fdca26\"],[1.0,\"#f0f921\"]],\"type\":\"histogram2d\"}],\"histogram2dcontour\":[{\"colorbar\":{\"outlinewidth\":0,\"ticks\":\"\"},\"colorscale\":[[0.0,\"#0d0887\"],[0.1111111111111111,\"#46039f\"],[0.2222222222222222,\"#7201a8\"],[0.3333333333333333,\"#9c179e\"],[0.4444444444444444,\"#bd3786\"],[0.5555555555555556,\"#d8576b\"],[0.6666666666666666,\"#ed7953\"],[0.7777777777777778,\"#fb9f3a\"],[0.8888888888888888,\"#fdca26\"],[1.0,\"#f0f921\"]],\"type\":\"histogram2dcontour\"}],\"mesh3d\":[{\"colorbar\":{\"outlinewidth\":0,\"ticks\":\"\"},\"type\":\"mesh3d\"}],\"parcoords\":[{\"line\":{\"colorbar\":{\"outlinewidth\":0,\"ticks\":\"\"}},\"type\":\"parcoords\"}],\"pie\":[{\"automargin\":true,\"type\":\"pie\"}],\"scatter\":[{\"marker\":{\"colorbar\":{\"outlinewidth\":0,\"ticks\":\"\"}},\"type\":\"scatter\"}],\"scatter3d\":[{\"line\":{\"colorbar\":{\"outlinewidth\":0,\"ticks\":\"\"}},\"marker\":{\"colorbar\":{\"outlinewidth\":0,\"ticks\":\"\"}},\"type\":\"scatter3d\"}],\"scattercarpet\":[{\"marker\":{\"colorbar\":{\"outlinewidth\":0,\"ticks\":\"\"}},\"type\":\"scattercarpet\"}],\"scattergeo\":[{\"marker\":{\"colorbar\":{\"outlinewidth\":0,\"ticks\":\"\"}},\"type\":\"scattergeo\"}],\"scattergl\":[{\"marker\":{\"colorbar\":{\"outlinewidth\":0,\"ticks\":\"\"}},\"type\":\"scattergl\"}],\"scattermapbox\":[{\"marker\":{\"colorbar\":{\"outlinewidth\":0,\"ticks\":\"\"}},\"type\":\"scattermapbox\"}],\"scatterpolar\":[{\"marker\":{\"colorbar\":{\"outlinewidth\":0,\"ticks\":\"\"}},\"type\":\"scatterpolar\"}],\"scatterpolargl\":[{\"marker\":{\"colorbar\":{\"outlinewidth\":0,\"ticks\":\"\"}},\"type\":\"scatterpolargl\"}],\"scatterternary\":[{\"marker\":{\"colorbar\":{\"outlinewidth\":0,\"ticks\":\"\"}},\"type\":\"scatterternary\"}],\"surface\":[{\"colorbar\":{\"outlinewidth\":0,\"ticks\":\"\"},\"colorscale\":[[0.0,\"#0d0887\"],[0.1111111111111111,\"#46039f\"],[0.2222222222222222,\"#7201a8\"],[0.3333333333333333,\"#9c179e\"],[0.4444444444444444,\"#bd3786\"],[0.5555555555555556,\"#d8576b\"],[0.6666666666666666,\"#ed7953\"],[0.7777777777777778,\"#fb9f3a\"],[0.8888888888888888,\"#fdca26\"],[1.0,\"#f0f921\"]],\"type\":\"surface\"}],\"table\":[{\"cells\":{\"fill\":{\"color\":\"#EBF0F8\"},\"line\":{\"color\":\"white\"}},\"header\":{\"fill\":{\"color\":\"#C8D4E3\"},\"line\":{\"color\":\"white\"}},\"type\":\"table\"}]},\"layout\":{\"annotationdefaults\":{\"arrowcolor\":\"#2a3f5f\",\"arrowhead\":0,\"arrowwidth\":1},\"autotypenumbers\":\"strict\",\"coloraxis\":{\"colorbar\":{\"outlinewidth\":0,\"ticks\":\"\"}},\"colorscale\":{\"diverging\":[[0,\"#8e0152\"],[0.1,\"#c51b7d\"],[0.2,\"#de77ae\"],[0.3,\"#f1b6da\"],[0.4,\"#fde0ef\"],[0.5,\"#f7f7f7\"],[0.6,\"#e6f5d0\"],[0.7,\"#b8e186\"],[0.8,\"#7fbc41\"],[0.9,\"#4d9221\"],[1,\"#276419\"]],\"sequential\":[[0.0,\"#0d0887\"],[0.1111111111111111,\"#46039f\"],[0.2222222222222222,\"#7201a8\"],[0.3333333333333333,\"#9c179e\"],[0.4444444444444444,\"#bd3786\"],[0.5555555555555556,\"#d8576b\"],[0.6666666666666666,\"#ed7953\"],[0.7777777777777778,\"#fb9f3a\"],[0.8888888888888888,\"#fdca26\"],[1.0,\"#f0f921\"]],\"sequentialminus\":[[0.0,\"#0d0887\"],[0.1111111111111111,\"#46039f\"],[0.2222222222222222,\"#7201a8\"],[0.3333333333333333,\"#9c179e\"],[0.4444444444444444,\"#bd3786\"],[0.5555555555555556,\"#d8576b\"],[0.6666666666666666,\"#ed7953\"],[0.7777777777777778,\"#fb9f3a\"],[0.8888888888888888,\"#fdca26\"],[1.0,\"#f0f921\"]]},\"colorway\":[\"#636efa\",\"#EF553B\",\"#00cc96\",\"#ab63fa\",\"#FFA15A\",\"#19d3f3\",\"#FF6692\",\"#B6E880\",\"#FF97FF\",\"#FECB52\"],\"font\":{\"color\":\"#2a3f5f\"},\"geo\":{\"bgcolor\":\"white\",\"lakecolor\":\"white\",\"landcolor\":\"#E5ECF6\",\"showlakes\":true,\"showland\":true,\"subunitcolor\":\"white\"},\"hoverlabel\":{\"align\":\"left\"},\"hovermode\":\"closest\",\"mapbox\":{\"style\":\"light\"},\"paper_bgcolor\":\"white\",\"plot_bgcolor\":\"#E5ECF6\",\"polar\":{\"angularaxis\":{\"gridcolor\":\"white\",\"linecolor\":\"white\",\"ticks\":\"\"},\"bgcolor\":\"#E5ECF6\",\"radialaxis\":{\"gridcolor\":\"white\",\"linecolor\":\"white\",\"ticks\":\"\"}},\"scene\":{\"xaxis\":{\"backgroundcolor\":\"#E5ECF6\",\"gridcolor\":\"white\",\"gridwidth\":2,\"linecolor\":\"white\",\"showbackground\":true,\"ticks\":\"\",\"zerolinecolor\":\"white\"},\"yaxis\":{\"backgroundcolor\":\"#E5ECF6\",\"gridcolor\":\"white\",\"gridwidth\":2,\"linecolor\":\"white\",\"showbackground\":true,\"ticks\":\"\",\"zerolinecolor\":\"white\"},\"zaxis\":{\"backgroundcolor\":\"#E5ECF6\",\"gridcolor\":\"white\",\"gridwidth\":2,\"linecolor\":\"white\",\"showbackground\":true,\"ticks\":\"\",\"zerolinecolor\":\"white\"}},\"shapedefaults\":{\"line\":{\"color\":\"#2a3f5f\"}},\"ternary\":{\"aaxis\":{\"gridcolor\":\"white\",\"linecolor\":\"white\",\"ticks\":\"\"},\"baxis\":{\"gridcolor\":\"white\",\"linecolor\":\"white\",\"ticks\":\"\"},\"bgcolor\":\"#E5ECF6\",\"caxis\":{\"gridcolor\":\"white\",\"linecolor\":\"white\",\"ticks\":\"\"}},\"title\":{\"x\":0.05},\"xaxis\":{\"automargin\":true,\"gridcolor\":\"white\",\"linecolor\":\"white\",\"ticks\":\"\",\"title\":{\"standoff\":15},\"zerolinecolor\":\"white\",\"zerolinewidth\":2},\"yaxis\":{\"automargin\":true,\"gridcolor\":\"white\",\"linecolor\":\"white\",\"ticks\":\"\",\"title\":{\"standoff\":15},\"zerolinecolor\":\"white\",\"zerolinewidth\":2}}},\"title\":{\"text\":\"perplexity=20\"},\"width\":400},                        {\"responsive\": true}                    ).then(function(){\n",
       "                            \n",
       "var gd = document.getElementById('4a6ff03f-78ff-4fbc-883b-42ef51f93cc6');\n",
       "var x = new MutationObserver(function (mutations, observer) {{\n",
       "        var display = window.getComputedStyle(gd).display;\n",
       "        if (!display || display === 'none') {{\n",
       "            console.log([gd, 'removed!']);\n",
       "            Plotly.purge(gd);\n",
       "            observer.disconnect();\n",
       "        }}\n",
       "}});\n",
       "\n",
       "// Listen for the removal of the full notebook cells\n",
       "var notebookContainer = gd.closest('#notebook-container');\n",
       "if (notebookContainer) {{\n",
       "    x.observe(notebookContainer, {childList: true});\n",
       "}}\n",
       "\n",
       "// Listen for the clearing of the current output cell\n",
       "var outputEl = gd.closest('.output');\n",
       "if (outputEl) {{\n",
       "    x.observe(outputEl, {childList: true});\n",
       "}}\n",
       "\n",
       "                        })                };                });            </script>        </div>"
      ]
     },
     "metadata": {},
     "output_type": "display_data"
    }
   ],
   "source": [
    "X,y=dat_wine.iloc[:,1:].values, dat_wine.iloc[:,0].values\n",
    "\n",
    "from sklearn.manifold import TSNE\n",
    "t_sne=TSNE(n_components=2, perplexity=20, random_state=1) # n_components 4 이상으로 하면 오류 생긴다. 왜지\n",
    "sne_out=t_sne.fit_transform(X)\n",
    "\n",
    "import plotly.graph_objects as go\n",
    "# scatter plot\n",
    "fig=go.Figure() \n",
    "fig.add_trace(go.Scatter(x=sne_out[:,0],y=sne_out[:,1],mode='markers',\n",
    "                                           marker=dict(size=5, color=y,colorscale='Viridis'))) \n",
    "fig.update_layout(title='perplexity=20')\n",
    "fig.update_layout(height=400,width=400)\n",
    "fig.show()"
   ]
  },
  {
   "cell_type": "code",
   "execution_count": 84,
   "id": "da83b905",
   "metadata": {},
   "outputs": [
    {
     "data": {
      "application/vnd.plotly.v1+json": {
       "config": {
        "plotlyServerURL": "https://plot.ly"
       },
       "data": [
        {
         "marker": {
          "color": [
           1,
           1,
           1,
           1,
           1,
           1,
           1,
           1,
           1,
           1,
           1,
           1,
           1,
           1,
           1,
           1,
           1,
           1,
           1,
           1,
           1,
           1,
           1,
           1,
           1,
           1,
           1,
           1,
           1,
           1,
           1,
           1,
           1,
           1,
           1,
           1,
           1,
           1,
           1,
           1,
           1,
           1,
           1,
           1,
           1,
           1,
           1,
           1,
           1,
           1,
           1,
           1,
           1,
           1,
           1,
           1,
           1,
           1,
           1,
           2,
           2,
           2,
           2,
           2,
           2,
           2,
           2,
           2,
           2,
           2,
           2,
           2,
           2,
           2,
           2,
           2,
           2,
           2,
           2,
           2,
           2,
           2,
           2,
           2,
           2,
           2,
           2,
           2,
           2,
           2,
           2,
           2,
           2,
           2,
           2,
           2,
           2,
           2,
           2,
           2,
           2,
           2,
           2,
           2,
           2,
           2,
           2,
           2,
           2,
           2,
           2,
           2,
           2,
           2,
           2,
           2,
           2,
           2,
           2,
           2,
           2,
           2,
           2,
           2,
           2,
           2,
           2,
           2,
           2,
           2,
           3,
           3,
           3,
           3,
           3,
           3,
           3,
           3,
           3,
           3,
           3,
           3,
           3,
           3,
           3,
           3,
           3,
           3,
           3,
           3,
           3,
           3,
           3,
           3,
           3,
           3,
           3,
           3,
           3,
           3,
           3,
           3,
           3,
           3,
           3,
           3,
           3,
           3,
           3,
           3,
           3,
           3,
           3,
           3,
           3,
           3,
           3,
           3
          ],
          "colorscale": [
           [
            0,
            "#440154"
           ],
           [
            0.1111111111111111,
            "#482878"
           ],
           [
            0.2222222222222222,
            "#3e4989"
           ],
           [
            0.3333333333333333,
            "#31688e"
           ],
           [
            0.4444444444444444,
            "#26828e"
           ],
           [
            0.5555555555555556,
            "#1f9e89"
           ],
           [
            0.6666666666666666,
            "#35b779"
           ],
           [
            0.7777777777777778,
            "#6ece58"
           ],
           [
            0.8888888888888888,
            "#b5de2b"
           ],
           [
            1,
            "#fde725"
           ]
          ],
          "size": 5
         },
         "mode": "markers",
         "type": "scatter",
         "x": [
          -8.009047508239746,
          -7.309716701507568,
          -9.516712188720703,
          -11.679855346679688,
          -1.2410310506820679,
          -11.720243453979492,
          -10.496909141540527,
          -10.912476539611816,
          -7.626071929931641,
          -7.214121341705322,
          -11.880280494689941,
          -10.352958679199219,
          -10.852069854736328,
          -9.01342487335205,
          -11.994892120361328,
          -10.996380805969238,
          -10.373897552490234,
          -8.716314315795898,
          -12.173242568969727,
          -3.7065186500549316,
          -2.315354585647583,
          -1.8833445310592651,
          -7.37565279006958,
          -7.002756595611572,
          -3.5462653636932373,
          -3.349038600921631,
          -9.644172668457031,
          -10.417455673217773,
          -4.903977870941162,
          -7.055391788482666,
          -10.799838066101074,
          -11.91822338104248,
          -6.574391841888428,
          -10.0195894241333,
          -8.316339492797852,
          -4.993581295013428,
          -4.339326858520508,
          -8.234001159667969,
          -6.89656400680542,
          -1.9259952306747437,
          -2.6288950443267822,
          -7.409205436706543,
          -8.30714225769043,
          0.9471628665924072,
          -4.402967929840088,
          -7.857468605041504,
          -7.6550798416137695,
          -6.489745616912842,
          -7.878684043884277,
          -10.420119285583496,
          -9.018877983093262,
          -10.174606323242188,
          -9.579527854919434,
          -11.286625862121582,
          -7.5003790855407715,
          -8.568177223205566,
          -6.126286506652832,
          -10.575604438781738,
          -10.80252742767334,
          7.422311305999756,
          0.9141446948051453,
          10.839187622070312,
          2.501227617263794,
          12.023982048034668,
          13.5281400680542,
          0.8551227450370789,
          8.155877113342285,
          7.863912582397461,
          -1.4697580337524414,
          -1.4203476905822754,
          -4.058248996734619,
          12.24657917022705,
          9.672345161437988,
          -6.369716167449951,
          -4.400844573974609,
          11.607934951782227,
          12.917522430419922,
          8.915857315063477,
          -1.821373462677002,
          10.304780006408691,
          14.7139310836792,
          -0.24140609800815582,
          3.072885274887085,
          7.793989658355713,
          7.709695339202881,
          10.832833290100098,
          8.754091262817383,
          5.800675392150879,
          0.6302077174186707,
          3.3925156593322754,
          9.165393829345703,
          10.772233963012695,
          8.50459098815918,
          14.635926246643066,
          13.815953254699707,
          -5.474194526672363,
          2.6420280933380127,
          11.84214973449707,
          1.570962905883789,
          12.378808975219727,
          -0.20414572954177856,
          5.804836273193359,
          11.269917488098145,
          12.158949851989746,
          1.038179636001587,
          14.273637771606445,
          7.904272556304932,
          8.904962539672852,
          14.289071083068848,
          0.6868535280227661,
          5.581883430480957,
          14.326784133911133,
          3.7428090572357178,
          11.536078453063965,
          12.899752616882324,
          12.524519920349121,
          8.644956588745117,
          13.712329864501953,
          13.508363723754883,
          5.689846038818359,
          3.1182355880737305,
          10.476351737976074,
          13.322190284729004,
          13.013737678527832,
          13.283188819885254,
          13.261761665344238,
          13.891026496887207,
          10.045255661010742,
          14.06313419342041,
          5.088461399078369,
          2.568812847137451,
          7.154621124267578,
          5.805942535400391,
          4.031646251678467,
          2.1355013847351074,
          0.238370880484581,
          -0.43495580554008484,
          8.06973934173584,
          5.03334379196167,
          4.542810440063477,
          4.146335601806641,
          -2.0910441875457764,
          7.771966457366943,
          6.306742191314697,
          -3.9431445598602295,
          -3.26587176322937,
          12.369000434875488,
          3.2435600757598877,
          2.0434658527374268,
          6.251504421234131,
          9.143924713134766,
          9.80458927154541,
          11.405560493469238,
          1.207256555557251,
          2.3991587162017822,
          -0.594529926776886,
          9.366466522216797,
          -4.2268476486206055,
          1.6930238008499146,
          3.4367830753326416,
          7.539216995239258,
          0.9707120656967163,
          5.263376235961914,
          1.2625586986541748,
          3.604210376739502,
          7.549964427947998,
          0.3069462776184082,
          0.4479980170726776,
          -1.3625651597976685,
          2.696601390838623,
          8.258326530456543,
          9.73211669921875,
          1.6293963193893433,
          -0.9652769565582275,
          -1.3228814601898193,
          -3.4835147857666016,
          -3.6685400009155273,
          5.824306964874268
         ],
         "y": [
          -6.176640510559082,
          -6.479503631591797,
          -7.771810531616211,
          -9.559576034545898,
          -1.0314692258834839,
          -9.234630584716797,
          -8.881563186645508,
          -8.42385482788086,
          -5.921285629272461,
          -6.398449420928955,
          -9.550212860107422,
          -8.82796573638916,
          -8.994516372680664,
          -7.408212184906006,
          -9.643702507019043,
          -8.626667976379395,
          -8.805585861206055,
          -7.1762237548828125,
          -9.822497367858887,
          -3.2004570960998535,
          -1.9490773677825928,
          -1.9354885816574097,
          -5.830783843994141,
          -5.7098774909973145,
          -3.4331412315368652,
          -2.8832857608795166,
          -7.888944625854492,
          -8.86181926727295,
          -4.183959007263184,
          -6.2240471839904785,
          -8.33194351196289,
          -9.538368225097656,
          -5.496456623077393,
          -8.256481170654297,
          -6.642518520355225,
          -4.2591376304626465,
          -3.630640983581543,
          -7.055907249450684,
          -5.965719223022461,
          -1.522613763809204,
          -2.340174436569214,
          -5.80172872543335,
          -6.656551837921143,
          0.08257515728473663,
          -3.756291627883911,
          -6.801050662994385,
          -6.626200199127197,
          -5.437957286834717,
          -6.163356781005859,
          -8.18502426147461,
          -7.400757789611816,
          -8.618814468383789,
          -7.848003387451172,
          -9.0447416305542,
          -6.638692378997803,
          -7.072394847869873,
          -5.155123710632324,
          -8.208236694335938,
          -8.324217796325684,
          6.460491180419922,
          0.14077043533325195,
          8.507710456848145,
          2.130645751953125,
          9.309895515441895,
          10.836080551147461,
          0.5156536102294922,
          7.224943161010742,
          6.983705520629883,
          -1.4667296409606934,
          -0.4442714750766754,
          -3.611468553543091,
          9.740846633911133,
          7.951069355010986,
          -5.325008392333984,
          -3.792959451675415,
          9.197673797607422,
          9.810704231262207,
          6.4178571701049805,
          -1.2060437202453613,
          8.087738990783691,
          11.083771705627441,
          -0.6094135046005249,
          1.7274413108825684,
          6.62367582321167,
          6.081879615783691,
          8.519583702087402,
          7.055294990539551,
          4.426551342010498,
          0.73677659034729,
          1.7714828252792358,
          7.795670509338379,
          8.630331039428711,
          7.369927883148193,
          11.024889945983887,
          10.768325805664062,
          -4.624592304229736,
          3.110914945602417,
          9.019532203674316,
          1.0726548433303833,
          9.790488243103027,
          -0.4551655650138855,
          4.432054042816162,
          8.881635665893555,
          9.501734733581543,
          0.9193415641784668,
          11.051523208618164,
          6.923521041870117,
          7.496699810028076,
          11.102680206298828,
          0.5361198782920837,
          4.795870780944824,
          10.637218475341797,
          3.036320924758911,
          8.926462173461914,
          10.200040817260742,
          9.533458709716797,
          7.177814960479736,
          10.99051284790039,
          10.02104377746582,
          4.346811771392822,
          2.3381218910217285,
          7.651333808898926,
          10.691654205322266,
          10.325098991394043,
          9.934456825256348,
          10.08750057220459,
          10.349483489990234,
          8.111059188842773,
          10.469861030578613,
          3.8827295303344727,
          2.8178694248199463,
          5.695655345916748,
          4.727886199951172,
          3.296308994293213,
          1.2643990516662598,
          -0.04081441089510918,
          -0.8123077154159546,
          6.190818786621094,
          3.946354627609253,
          3.6330037117004395,
          3.189361333847046,
          -2.1635329723358154,
          5.982812881469727,
          5.029539108276367,
          -3.265766143798828,
          -3.042304277420044,
          9.266366958618164,
          2.0940146446228027,
          1.3468124866485596,
          5.123924255371094,
          6.247989177703857,
          7.168463706970215,
          9.534536361694336,
          0.4149022102355957,
          2.122577428817749,
          -0.9537394046783447,
          7.614996433258057,
          -3.7772092819213867,
          0.88056880235672,
          2.36413836479187,
          6.324743747711182,
          0.003079751506447792,
          4.425387859344482,
          0.22390331327915192,
          2.5658411979675293,
          6.308785915374756,
          -0.24316993355751038,
          0.3962962031364441,
          -1.5421795845031738,
          2.5847537517547607,
          6.406988143920898,
          8.045973777770996,
          0.9881490468978882,
          -1.3472901582717896,
          -1.562843918800354,
          -2.972106456756592,
          -3.003500461578369,
          4.711432456970215
         ]
        }
       ],
       "layout": {
        "height": 400,
        "template": {
         "data": {
          "bar": [
           {
            "error_x": {
             "color": "#2a3f5f"
            },
            "error_y": {
             "color": "#2a3f5f"
            },
            "marker": {
             "line": {
              "color": "#E5ECF6",
              "width": 0.5
             },
             "pattern": {
              "fillmode": "overlay",
              "size": 10,
              "solidity": 0.2
             }
            },
            "type": "bar"
           }
          ],
          "barpolar": [
           {
            "marker": {
             "line": {
              "color": "#E5ECF6",
              "width": 0.5
             },
             "pattern": {
              "fillmode": "overlay",
              "size": 10,
              "solidity": 0.2
             }
            },
            "type": "barpolar"
           }
          ],
          "carpet": [
           {
            "aaxis": {
             "endlinecolor": "#2a3f5f",
             "gridcolor": "white",
             "linecolor": "white",
             "minorgridcolor": "white",
             "startlinecolor": "#2a3f5f"
            },
            "baxis": {
             "endlinecolor": "#2a3f5f",
             "gridcolor": "white",
             "linecolor": "white",
             "minorgridcolor": "white",
             "startlinecolor": "#2a3f5f"
            },
            "type": "carpet"
           }
          ],
          "choropleth": [
           {
            "colorbar": {
             "outlinewidth": 0,
             "ticks": ""
            },
            "type": "choropleth"
           }
          ],
          "contour": [
           {
            "colorbar": {
             "outlinewidth": 0,
             "ticks": ""
            },
            "colorscale": [
             [
              0,
              "#0d0887"
             ],
             [
              0.1111111111111111,
              "#46039f"
             ],
             [
              0.2222222222222222,
              "#7201a8"
             ],
             [
              0.3333333333333333,
              "#9c179e"
             ],
             [
              0.4444444444444444,
              "#bd3786"
             ],
             [
              0.5555555555555556,
              "#d8576b"
             ],
             [
              0.6666666666666666,
              "#ed7953"
             ],
             [
              0.7777777777777778,
              "#fb9f3a"
             ],
             [
              0.8888888888888888,
              "#fdca26"
             ],
             [
              1,
              "#f0f921"
             ]
            ],
            "type": "contour"
           }
          ],
          "contourcarpet": [
           {
            "colorbar": {
             "outlinewidth": 0,
             "ticks": ""
            },
            "type": "contourcarpet"
           }
          ],
          "heatmap": [
           {
            "colorbar": {
             "outlinewidth": 0,
             "ticks": ""
            },
            "colorscale": [
             [
              0,
              "#0d0887"
             ],
             [
              0.1111111111111111,
              "#46039f"
             ],
             [
              0.2222222222222222,
              "#7201a8"
             ],
             [
              0.3333333333333333,
              "#9c179e"
             ],
             [
              0.4444444444444444,
              "#bd3786"
             ],
             [
              0.5555555555555556,
              "#d8576b"
             ],
             [
              0.6666666666666666,
              "#ed7953"
             ],
             [
              0.7777777777777778,
              "#fb9f3a"
             ],
             [
              0.8888888888888888,
              "#fdca26"
             ],
             [
              1,
              "#f0f921"
             ]
            ],
            "type": "heatmap"
           }
          ],
          "heatmapgl": [
           {
            "colorbar": {
             "outlinewidth": 0,
             "ticks": ""
            },
            "colorscale": [
             [
              0,
              "#0d0887"
             ],
             [
              0.1111111111111111,
              "#46039f"
             ],
             [
              0.2222222222222222,
              "#7201a8"
             ],
             [
              0.3333333333333333,
              "#9c179e"
             ],
             [
              0.4444444444444444,
              "#bd3786"
             ],
             [
              0.5555555555555556,
              "#d8576b"
             ],
             [
              0.6666666666666666,
              "#ed7953"
             ],
             [
              0.7777777777777778,
              "#fb9f3a"
             ],
             [
              0.8888888888888888,
              "#fdca26"
             ],
             [
              1,
              "#f0f921"
             ]
            ],
            "type": "heatmapgl"
           }
          ],
          "histogram": [
           {
            "marker": {
             "pattern": {
              "fillmode": "overlay",
              "size": 10,
              "solidity": 0.2
             }
            },
            "type": "histogram"
           }
          ],
          "histogram2d": [
           {
            "colorbar": {
             "outlinewidth": 0,
             "ticks": ""
            },
            "colorscale": [
             [
              0,
              "#0d0887"
             ],
             [
              0.1111111111111111,
              "#46039f"
             ],
             [
              0.2222222222222222,
              "#7201a8"
             ],
             [
              0.3333333333333333,
              "#9c179e"
             ],
             [
              0.4444444444444444,
              "#bd3786"
             ],
             [
              0.5555555555555556,
              "#d8576b"
             ],
             [
              0.6666666666666666,
              "#ed7953"
             ],
             [
              0.7777777777777778,
              "#fb9f3a"
             ],
             [
              0.8888888888888888,
              "#fdca26"
             ],
             [
              1,
              "#f0f921"
             ]
            ],
            "type": "histogram2d"
           }
          ],
          "histogram2dcontour": [
           {
            "colorbar": {
             "outlinewidth": 0,
             "ticks": ""
            },
            "colorscale": [
             [
              0,
              "#0d0887"
             ],
             [
              0.1111111111111111,
              "#46039f"
             ],
             [
              0.2222222222222222,
              "#7201a8"
             ],
             [
              0.3333333333333333,
              "#9c179e"
             ],
             [
              0.4444444444444444,
              "#bd3786"
             ],
             [
              0.5555555555555556,
              "#d8576b"
             ],
             [
              0.6666666666666666,
              "#ed7953"
             ],
             [
              0.7777777777777778,
              "#fb9f3a"
             ],
             [
              0.8888888888888888,
              "#fdca26"
             ],
             [
              1,
              "#f0f921"
             ]
            ],
            "type": "histogram2dcontour"
           }
          ],
          "mesh3d": [
           {
            "colorbar": {
             "outlinewidth": 0,
             "ticks": ""
            },
            "type": "mesh3d"
           }
          ],
          "parcoords": [
           {
            "line": {
             "colorbar": {
              "outlinewidth": 0,
              "ticks": ""
             }
            },
            "type": "parcoords"
           }
          ],
          "pie": [
           {
            "automargin": true,
            "type": "pie"
           }
          ],
          "scatter": [
           {
            "marker": {
             "colorbar": {
              "outlinewidth": 0,
              "ticks": ""
             }
            },
            "type": "scatter"
           }
          ],
          "scatter3d": [
           {
            "line": {
             "colorbar": {
              "outlinewidth": 0,
              "ticks": ""
             }
            },
            "marker": {
             "colorbar": {
              "outlinewidth": 0,
              "ticks": ""
             }
            },
            "type": "scatter3d"
           }
          ],
          "scattercarpet": [
           {
            "marker": {
             "colorbar": {
              "outlinewidth": 0,
              "ticks": ""
             }
            },
            "type": "scattercarpet"
           }
          ],
          "scattergeo": [
           {
            "marker": {
             "colorbar": {
              "outlinewidth": 0,
              "ticks": ""
             }
            },
            "type": "scattergeo"
           }
          ],
          "scattergl": [
           {
            "marker": {
             "colorbar": {
              "outlinewidth": 0,
              "ticks": ""
             }
            },
            "type": "scattergl"
           }
          ],
          "scattermapbox": [
           {
            "marker": {
             "colorbar": {
              "outlinewidth": 0,
              "ticks": ""
             }
            },
            "type": "scattermapbox"
           }
          ],
          "scatterpolar": [
           {
            "marker": {
             "colorbar": {
              "outlinewidth": 0,
              "ticks": ""
             }
            },
            "type": "scatterpolar"
           }
          ],
          "scatterpolargl": [
           {
            "marker": {
             "colorbar": {
              "outlinewidth": 0,
              "ticks": ""
             }
            },
            "type": "scatterpolargl"
           }
          ],
          "scatterternary": [
           {
            "marker": {
             "colorbar": {
              "outlinewidth": 0,
              "ticks": ""
             }
            },
            "type": "scatterternary"
           }
          ],
          "surface": [
           {
            "colorbar": {
             "outlinewidth": 0,
             "ticks": ""
            },
            "colorscale": [
             [
              0,
              "#0d0887"
             ],
             [
              0.1111111111111111,
              "#46039f"
             ],
             [
              0.2222222222222222,
              "#7201a8"
             ],
             [
              0.3333333333333333,
              "#9c179e"
             ],
             [
              0.4444444444444444,
              "#bd3786"
             ],
             [
              0.5555555555555556,
              "#d8576b"
             ],
             [
              0.6666666666666666,
              "#ed7953"
             ],
             [
              0.7777777777777778,
              "#fb9f3a"
             ],
             [
              0.8888888888888888,
              "#fdca26"
             ],
             [
              1,
              "#f0f921"
             ]
            ],
            "type": "surface"
           }
          ],
          "table": [
           {
            "cells": {
             "fill": {
              "color": "#EBF0F8"
             },
             "line": {
              "color": "white"
             }
            },
            "header": {
             "fill": {
              "color": "#C8D4E3"
             },
             "line": {
              "color": "white"
             }
            },
            "type": "table"
           }
          ]
         },
         "layout": {
          "annotationdefaults": {
           "arrowcolor": "#2a3f5f",
           "arrowhead": 0,
           "arrowwidth": 1
          },
          "autotypenumbers": "strict",
          "coloraxis": {
           "colorbar": {
            "outlinewidth": 0,
            "ticks": ""
           }
          },
          "colorscale": {
           "diverging": [
            [
             0,
             "#8e0152"
            ],
            [
             0.1,
             "#c51b7d"
            ],
            [
             0.2,
             "#de77ae"
            ],
            [
             0.3,
             "#f1b6da"
            ],
            [
             0.4,
             "#fde0ef"
            ],
            [
             0.5,
             "#f7f7f7"
            ],
            [
             0.6,
             "#e6f5d0"
            ],
            [
             0.7,
             "#b8e186"
            ],
            [
             0.8,
             "#7fbc41"
            ],
            [
             0.9,
             "#4d9221"
            ],
            [
             1,
             "#276419"
            ]
           ],
           "sequential": [
            [
             0,
             "#0d0887"
            ],
            [
             0.1111111111111111,
             "#46039f"
            ],
            [
             0.2222222222222222,
             "#7201a8"
            ],
            [
             0.3333333333333333,
             "#9c179e"
            ],
            [
             0.4444444444444444,
             "#bd3786"
            ],
            [
             0.5555555555555556,
             "#d8576b"
            ],
            [
             0.6666666666666666,
             "#ed7953"
            ],
            [
             0.7777777777777778,
             "#fb9f3a"
            ],
            [
             0.8888888888888888,
             "#fdca26"
            ],
            [
             1,
             "#f0f921"
            ]
           ],
           "sequentialminus": [
            [
             0,
             "#0d0887"
            ],
            [
             0.1111111111111111,
             "#46039f"
            ],
            [
             0.2222222222222222,
             "#7201a8"
            ],
            [
             0.3333333333333333,
             "#9c179e"
            ],
            [
             0.4444444444444444,
             "#bd3786"
            ],
            [
             0.5555555555555556,
             "#d8576b"
            ],
            [
             0.6666666666666666,
             "#ed7953"
            ],
            [
             0.7777777777777778,
             "#fb9f3a"
            ],
            [
             0.8888888888888888,
             "#fdca26"
            ],
            [
             1,
             "#f0f921"
            ]
           ]
          },
          "colorway": [
           "#636efa",
           "#EF553B",
           "#00cc96",
           "#ab63fa",
           "#FFA15A",
           "#19d3f3",
           "#FF6692",
           "#B6E880",
           "#FF97FF",
           "#FECB52"
          ],
          "font": {
           "color": "#2a3f5f"
          },
          "geo": {
           "bgcolor": "white",
           "lakecolor": "white",
           "landcolor": "#E5ECF6",
           "showlakes": true,
           "showland": true,
           "subunitcolor": "white"
          },
          "hoverlabel": {
           "align": "left"
          },
          "hovermode": "closest",
          "mapbox": {
           "style": "light"
          },
          "paper_bgcolor": "white",
          "plot_bgcolor": "#E5ECF6",
          "polar": {
           "angularaxis": {
            "gridcolor": "white",
            "linecolor": "white",
            "ticks": ""
           },
           "bgcolor": "#E5ECF6",
           "radialaxis": {
            "gridcolor": "white",
            "linecolor": "white",
            "ticks": ""
           }
          },
          "scene": {
           "xaxis": {
            "backgroundcolor": "#E5ECF6",
            "gridcolor": "white",
            "gridwidth": 2,
            "linecolor": "white",
            "showbackground": true,
            "ticks": "",
            "zerolinecolor": "white"
           },
           "yaxis": {
            "backgroundcolor": "#E5ECF6",
            "gridcolor": "white",
            "gridwidth": 2,
            "linecolor": "white",
            "showbackground": true,
            "ticks": "",
            "zerolinecolor": "white"
           },
           "zaxis": {
            "backgroundcolor": "#E5ECF6",
            "gridcolor": "white",
            "gridwidth": 2,
            "linecolor": "white",
            "showbackground": true,
            "ticks": "",
            "zerolinecolor": "white"
           }
          },
          "shapedefaults": {
           "line": {
            "color": "#2a3f5f"
           }
          },
          "ternary": {
           "aaxis": {
            "gridcolor": "white",
            "linecolor": "white",
            "ticks": ""
           },
           "baxis": {
            "gridcolor": "white",
            "linecolor": "white",
            "ticks": ""
           },
           "bgcolor": "#E5ECF6",
           "caxis": {
            "gridcolor": "white",
            "linecolor": "white",
            "ticks": ""
           }
          },
          "title": {
           "x": 0.05
          },
          "xaxis": {
           "automargin": true,
           "gridcolor": "white",
           "linecolor": "white",
           "ticks": "",
           "title": {
            "standoff": 15
           },
           "zerolinecolor": "white",
           "zerolinewidth": 2
          },
          "yaxis": {
           "automargin": true,
           "gridcolor": "white",
           "linecolor": "white",
           "ticks": "",
           "title": {
            "standoff": 15
           },
           "zerolinecolor": "white",
           "zerolinewidth": 2
          }
         }
        },
        "title": {
         "text": "perplexity=30"
        },
        "width": 400
       }
      },
      "text/html": [
       "<div>                            <div id=\"ea6703e2-5748-4d08-9b58-d80c239adc2c\" class=\"plotly-graph-div\" style=\"height:400px; width:400px;\"></div>            <script type=\"text/javascript\">                require([\"plotly\"], function(Plotly) {                    window.PLOTLYENV=window.PLOTLYENV || {};                                    if (document.getElementById(\"ea6703e2-5748-4d08-9b58-d80c239adc2c\")) {                    Plotly.newPlot(                        \"ea6703e2-5748-4d08-9b58-d80c239adc2c\",                        [{\"marker\":{\"color\":[1,1,1,1,1,1,1,1,1,1,1,1,1,1,1,1,1,1,1,1,1,1,1,1,1,1,1,1,1,1,1,1,1,1,1,1,1,1,1,1,1,1,1,1,1,1,1,1,1,1,1,1,1,1,1,1,1,1,1,2,2,2,2,2,2,2,2,2,2,2,2,2,2,2,2,2,2,2,2,2,2,2,2,2,2,2,2,2,2,2,2,2,2,2,2,2,2,2,2,2,2,2,2,2,2,2,2,2,2,2,2,2,2,2,2,2,2,2,2,2,2,2,2,2,2,2,2,2,2,2,3,3,3,3,3,3,3,3,3,3,3,3,3,3,3,3,3,3,3,3,3,3,3,3,3,3,3,3,3,3,3,3,3,3,3,3,3,3,3,3,3,3,3,3,3,3,3,3],\"colorscale\":[[0.0,\"#440154\"],[0.1111111111111111,\"#482878\"],[0.2222222222222222,\"#3e4989\"],[0.3333333333333333,\"#31688e\"],[0.4444444444444444,\"#26828e\"],[0.5555555555555556,\"#1f9e89\"],[0.6666666666666666,\"#35b779\"],[0.7777777777777778,\"#6ece58\"],[0.8888888888888888,\"#b5de2b\"],[1.0,\"#fde725\"]],\"size\":5},\"mode\":\"markers\",\"type\":\"scatter\",\"x\":[-8.009047508239746,-7.309716701507568,-9.516712188720703,-11.679855346679688,-1.2410310506820679,-11.720243453979492,-10.496909141540527,-10.912476539611816,-7.626071929931641,-7.214121341705322,-11.880280494689941,-10.352958679199219,-10.852069854736328,-9.01342487335205,-11.994892120361328,-10.996380805969238,-10.373897552490234,-8.716314315795898,-12.173242568969727,-3.7065186500549316,-2.315354585647583,-1.8833445310592651,-7.37565279006958,-7.002756595611572,-3.5462653636932373,-3.349038600921631,-9.644172668457031,-10.417455673217773,-4.903977870941162,-7.055391788482666,-10.799838066101074,-11.91822338104248,-6.574391841888428,-10.0195894241333,-8.316339492797852,-4.993581295013428,-4.339326858520508,-8.234001159667969,-6.89656400680542,-1.9259952306747437,-2.6288950443267822,-7.409205436706543,-8.30714225769043,0.9471628665924072,-4.402967929840088,-7.857468605041504,-7.6550798416137695,-6.489745616912842,-7.878684043884277,-10.420119285583496,-9.018877983093262,-10.174606323242188,-9.579527854919434,-11.286625862121582,-7.5003790855407715,-8.568177223205566,-6.126286506652832,-10.575604438781738,-10.80252742767334,7.422311305999756,0.9141446948051453,10.839187622070312,2.501227617263794,12.023982048034668,13.5281400680542,0.8551227450370789,8.155877113342285,7.863912582397461,-1.4697580337524414,-1.4203476905822754,-4.058248996734619,12.24657917022705,9.672345161437988,-6.369716167449951,-4.400844573974609,11.607934951782227,12.917522430419922,8.915857315063477,-1.821373462677002,10.304780006408691,14.7139310836792,-0.24140609800815582,3.072885274887085,7.793989658355713,7.709695339202881,10.832833290100098,8.754091262817383,5.800675392150879,0.6302077174186707,3.3925156593322754,9.165393829345703,10.772233963012695,8.50459098815918,14.635926246643066,13.815953254699707,-5.474194526672363,2.6420280933380127,11.84214973449707,1.570962905883789,12.378808975219727,-0.20414572954177856,5.804836273193359,11.269917488098145,12.158949851989746,1.038179636001587,14.273637771606445,7.904272556304932,8.904962539672852,14.289071083068848,0.6868535280227661,5.581883430480957,14.326784133911133,3.7428090572357178,11.536078453063965,12.899752616882324,12.524519920349121,8.644956588745117,13.712329864501953,13.508363723754883,5.689846038818359,3.1182355880737305,10.476351737976074,13.322190284729004,13.013737678527832,13.283188819885254,13.261761665344238,13.891026496887207,10.045255661010742,14.06313419342041,5.088461399078369,2.568812847137451,7.154621124267578,5.805942535400391,4.031646251678467,2.1355013847351074,0.238370880484581,-0.43495580554008484,8.06973934173584,5.03334379196167,4.542810440063477,4.146335601806641,-2.0910441875457764,7.771966457366943,6.306742191314697,-3.9431445598602295,-3.26587176322937,12.369000434875488,3.2435600757598877,2.0434658527374268,6.251504421234131,9.143924713134766,9.80458927154541,11.405560493469238,1.207256555557251,2.3991587162017822,-0.594529926776886,9.366466522216797,-4.2268476486206055,1.6930238008499146,3.4367830753326416,7.539216995239258,0.9707120656967163,5.263376235961914,1.2625586986541748,3.604210376739502,7.549964427947998,0.3069462776184082,0.4479980170726776,-1.3625651597976685,2.696601390838623,8.258326530456543,9.73211669921875,1.6293963193893433,-0.9652769565582275,-1.3228814601898193,-3.4835147857666016,-3.6685400009155273,5.824306964874268],\"y\":[-6.176640510559082,-6.479503631591797,-7.771810531616211,-9.559576034545898,-1.0314692258834839,-9.234630584716797,-8.881563186645508,-8.42385482788086,-5.921285629272461,-6.398449420928955,-9.550212860107422,-8.82796573638916,-8.994516372680664,-7.408212184906006,-9.643702507019043,-8.626667976379395,-8.805585861206055,-7.1762237548828125,-9.822497367858887,-3.2004570960998535,-1.9490773677825928,-1.9354885816574097,-5.830783843994141,-5.7098774909973145,-3.4331412315368652,-2.8832857608795166,-7.888944625854492,-8.86181926727295,-4.183959007263184,-6.2240471839904785,-8.33194351196289,-9.538368225097656,-5.496456623077393,-8.256481170654297,-6.642518520355225,-4.2591376304626465,-3.630640983581543,-7.055907249450684,-5.965719223022461,-1.522613763809204,-2.340174436569214,-5.80172872543335,-6.656551837921143,0.08257515728473663,-3.756291627883911,-6.801050662994385,-6.626200199127197,-5.437957286834717,-6.163356781005859,-8.18502426147461,-7.400757789611816,-8.618814468383789,-7.848003387451172,-9.0447416305542,-6.638692378997803,-7.072394847869873,-5.155123710632324,-8.208236694335938,-8.324217796325684,6.460491180419922,0.14077043533325195,8.507710456848145,2.130645751953125,9.309895515441895,10.836080551147461,0.5156536102294922,7.224943161010742,6.983705520629883,-1.4667296409606934,-0.4442714750766754,-3.611468553543091,9.740846633911133,7.951069355010986,-5.325008392333984,-3.792959451675415,9.197673797607422,9.810704231262207,6.4178571701049805,-1.2060437202453613,8.087738990783691,11.083771705627441,-0.6094135046005249,1.7274413108825684,6.62367582321167,6.081879615783691,8.519583702087402,7.055294990539551,4.426551342010498,0.73677659034729,1.7714828252792358,7.795670509338379,8.630331039428711,7.369927883148193,11.024889945983887,10.768325805664062,-4.624592304229736,3.110914945602417,9.019532203674316,1.0726548433303833,9.790488243103027,-0.4551655650138855,4.432054042816162,8.881635665893555,9.501734733581543,0.9193415641784668,11.051523208618164,6.923521041870117,7.496699810028076,11.102680206298828,0.5361198782920837,4.795870780944824,10.637218475341797,3.036320924758911,8.926462173461914,10.200040817260742,9.533458709716797,7.177814960479736,10.99051284790039,10.02104377746582,4.346811771392822,2.3381218910217285,7.651333808898926,10.691654205322266,10.325098991394043,9.934456825256348,10.08750057220459,10.349483489990234,8.111059188842773,10.469861030578613,3.8827295303344727,2.8178694248199463,5.695655345916748,4.727886199951172,3.296308994293213,1.2643990516662598,-0.04081441089510918,-0.8123077154159546,6.190818786621094,3.946354627609253,3.6330037117004395,3.189361333847046,-2.1635329723358154,5.982812881469727,5.029539108276367,-3.265766143798828,-3.042304277420044,9.266366958618164,2.0940146446228027,1.3468124866485596,5.123924255371094,6.247989177703857,7.168463706970215,9.534536361694336,0.4149022102355957,2.122577428817749,-0.9537394046783447,7.614996433258057,-3.7772092819213867,0.88056880235672,2.36413836479187,6.324743747711182,0.003079751506447792,4.425387859344482,0.22390331327915192,2.5658411979675293,6.308785915374756,-0.24316993355751038,0.3962962031364441,-1.5421795845031738,2.5847537517547607,6.406988143920898,8.045973777770996,0.9881490468978882,-1.3472901582717896,-1.562843918800354,-2.972106456756592,-3.003500461578369,4.711432456970215]}],                        {\"height\":400,\"template\":{\"data\":{\"bar\":[{\"error_x\":{\"color\":\"#2a3f5f\"},\"error_y\":{\"color\":\"#2a3f5f\"},\"marker\":{\"line\":{\"color\":\"#E5ECF6\",\"width\":0.5},\"pattern\":{\"fillmode\":\"overlay\",\"size\":10,\"solidity\":0.2}},\"type\":\"bar\"}],\"barpolar\":[{\"marker\":{\"line\":{\"color\":\"#E5ECF6\",\"width\":0.5},\"pattern\":{\"fillmode\":\"overlay\",\"size\":10,\"solidity\":0.2}},\"type\":\"barpolar\"}],\"carpet\":[{\"aaxis\":{\"endlinecolor\":\"#2a3f5f\",\"gridcolor\":\"white\",\"linecolor\":\"white\",\"minorgridcolor\":\"white\",\"startlinecolor\":\"#2a3f5f\"},\"baxis\":{\"endlinecolor\":\"#2a3f5f\",\"gridcolor\":\"white\",\"linecolor\":\"white\",\"minorgridcolor\":\"white\",\"startlinecolor\":\"#2a3f5f\"},\"type\":\"carpet\"}],\"choropleth\":[{\"colorbar\":{\"outlinewidth\":0,\"ticks\":\"\"},\"type\":\"choropleth\"}],\"contour\":[{\"colorbar\":{\"outlinewidth\":0,\"ticks\":\"\"},\"colorscale\":[[0.0,\"#0d0887\"],[0.1111111111111111,\"#46039f\"],[0.2222222222222222,\"#7201a8\"],[0.3333333333333333,\"#9c179e\"],[0.4444444444444444,\"#bd3786\"],[0.5555555555555556,\"#d8576b\"],[0.6666666666666666,\"#ed7953\"],[0.7777777777777778,\"#fb9f3a\"],[0.8888888888888888,\"#fdca26\"],[1.0,\"#f0f921\"]],\"type\":\"contour\"}],\"contourcarpet\":[{\"colorbar\":{\"outlinewidth\":0,\"ticks\":\"\"},\"type\":\"contourcarpet\"}],\"heatmap\":[{\"colorbar\":{\"outlinewidth\":0,\"ticks\":\"\"},\"colorscale\":[[0.0,\"#0d0887\"],[0.1111111111111111,\"#46039f\"],[0.2222222222222222,\"#7201a8\"],[0.3333333333333333,\"#9c179e\"],[0.4444444444444444,\"#bd3786\"],[0.5555555555555556,\"#d8576b\"],[0.6666666666666666,\"#ed7953\"],[0.7777777777777778,\"#fb9f3a\"],[0.8888888888888888,\"#fdca26\"],[1.0,\"#f0f921\"]],\"type\":\"heatmap\"}],\"heatmapgl\":[{\"colorbar\":{\"outlinewidth\":0,\"ticks\":\"\"},\"colorscale\":[[0.0,\"#0d0887\"],[0.1111111111111111,\"#46039f\"],[0.2222222222222222,\"#7201a8\"],[0.3333333333333333,\"#9c179e\"],[0.4444444444444444,\"#bd3786\"],[0.5555555555555556,\"#d8576b\"],[0.6666666666666666,\"#ed7953\"],[0.7777777777777778,\"#fb9f3a\"],[0.8888888888888888,\"#fdca26\"],[1.0,\"#f0f921\"]],\"type\":\"heatmapgl\"}],\"histogram\":[{\"marker\":{\"pattern\":{\"fillmode\":\"overlay\",\"size\":10,\"solidity\":0.2}},\"type\":\"histogram\"}],\"histogram2d\":[{\"colorbar\":{\"outlinewidth\":0,\"ticks\":\"\"},\"colorscale\":[[0.0,\"#0d0887\"],[0.1111111111111111,\"#46039f\"],[0.2222222222222222,\"#7201a8\"],[0.3333333333333333,\"#9c179e\"],[0.4444444444444444,\"#bd3786\"],[0.5555555555555556,\"#d8576b\"],[0.6666666666666666,\"#ed7953\"],[0.7777777777777778,\"#fb9f3a\"],[0.8888888888888888,\"#fdca26\"],[1.0,\"#f0f921\"]],\"type\":\"histogram2d\"}],\"histogram2dcontour\":[{\"colorbar\":{\"outlinewidth\":0,\"ticks\":\"\"},\"colorscale\":[[0.0,\"#0d0887\"],[0.1111111111111111,\"#46039f\"],[0.2222222222222222,\"#7201a8\"],[0.3333333333333333,\"#9c179e\"],[0.4444444444444444,\"#bd3786\"],[0.5555555555555556,\"#d8576b\"],[0.6666666666666666,\"#ed7953\"],[0.7777777777777778,\"#fb9f3a\"],[0.8888888888888888,\"#fdca26\"],[1.0,\"#f0f921\"]],\"type\":\"histogram2dcontour\"}],\"mesh3d\":[{\"colorbar\":{\"outlinewidth\":0,\"ticks\":\"\"},\"type\":\"mesh3d\"}],\"parcoords\":[{\"line\":{\"colorbar\":{\"outlinewidth\":0,\"ticks\":\"\"}},\"type\":\"parcoords\"}],\"pie\":[{\"automargin\":true,\"type\":\"pie\"}],\"scatter\":[{\"marker\":{\"colorbar\":{\"outlinewidth\":0,\"ticks\":\"\"}},\"type\":\"scatter\"}],\"scatter3d\":[{\"line\":{\"colorbar\":{\"outlinewidth\":0,\"ticks\":\"\"}},\"marker\":{\"colorbar\":{\"outlinewidth\":0,\"ticks\":\"\"}},\"type\":\"scatter3d\"}],\"scattercarpet\":[{\"marker\":{\"colorbar\":{\"outlinewidth\":0,\"ticks\":\"\"}},\"type\":\"scattercarpet\"}],\"scattergeo\":[{\"marker\":{\"colorbar\":{\"outlinewidth\":0,\"ticks\":\"\"}},\"type\":\"scattergeo\"}],\"scattergl\":[{\"marker\":{\"colorbar\":{\"outlinewidth\":0,\"ticks\":\"\"}},\"type\":\"scattergl\"}],\"scattermapbox\":[{\"marker\":{\"colorbar\":{\"outlinewidth\":0,\"ticks\":\"\"}},\"type\":\"scattermapbox\"}],\"scatterpolar\":[{\"marker\":{\"colorbar\":{\"outlinewidth\":0,\"ticks\":\"\"}},\"type\":\"scatterpolar\"}],\"scatterpolargl\":[{\"marker\":{\"colorbar\":{\"outlinewidth\":0,\"ticks\":\"\"}},\"type\":\"scatterpolargl\"}],\"scatterternary\":[{\"marker\":{\"colorbar\":{\"outlinewidth\":0,\"ticks\":\"\"}},\"type\":\"scatterternary\"}],\"surface\":[{\"colorbar\":{\"outlinewidth\":0,\"ticks\":\"\"},\"colorscale\":[[0.0,\"#0d0887\"],[0.1111111111111111,\"#46039f\"],[0.2222222222222222,\"#7201a8\"],[0.3333333333333333,\"#9c179e\"],[0.4444444444444444,\"#bd3786\"],[0.5555555555555556,\"#d8576b\"],[0.6666666666666666,\"#ed7953\"],[0.7777777777777778,\"#fb9f3a\"],[0.8888888888888888,\"#fdca26\"],[1.0,\"#f0f921\"]],\"type\":\"surface\"}],\"table\":[{\"cells\":{\"fill\":{\"color\":\"#EBF0F8\"},\"line\":{\"color\":\"white\"}},\"header\":{\"fill\":{\"color\":\"#C8D4E3\"},\"line\":{\"color\":\"white\"}},\"type\":\"table\"}]},\"layout\":{\"annotationdefaults\":{\"arrowcolor\":\"#2a3f5f\",\"arrowhead\":0,\"arrowwidth\":1},\"autotypenumbers\":\"strict\",\"coloraxis\":{\"colorbar\":{\"outlinewidth\":0,\"ticks\":\"\"}},\"colorscale\":{\"diverging\":[[0,\"#8e0152\"],[0.1,\"#c51b7d\"],[0.2,\"#de77ae\"],[0.3,\"#f1b6da\"],[0.4,\"#fde0ef\"],[0.5,\"#f7f7f7\"],[0.6,\"#e6f5d0\"],[0.7,\"#b8e186\"],[0.8,\"#7fbc41\"],[0.9,\"#4d9221\"],[1,\"#276419\"]],\"sequential\":[[0.0,\"#0d0887\"],[0.1111111111111111,\"#46039f\"],[0.2222222222222222,\"#7201a8\"],[0.3333333333333333,\"#9c179e\"],[0.4444444444444444,\"#bd3786\"],[0.5555555555555556,\"#d8576b\"],[0.6666666666666666,\"#ed7953\"],[0.7777777777777778,\"#fb9f3a\"],[0.8888888888888888,\"#fdca26\"],[1.0,\"#f0f921\"]],\"sequentialminus\":[[0.0,\"#0d0887\"],[0.1111111111111111,\"#46039f\"],[0.2222222222222222,\"#7201a8\"],[0.3333333333333333,\"#9c179e\"],[0.4444444444444444,\"#bd3786\"],[0.5555555555555556,\"#d8576b\"],[0.6666666666666666,\"#ed7953\"],[0.7777777777777778,\"#fb9f3a\"],[0.8888888888888888,\"#fdca26\"],[1.0,\"#f0f921\"]]},\"colorway\":[\"#636efa\",\"#EF553B\",\"#00cc96\",\"#ab63fa\",\"#FFA15A\",\"#19d3f3\",\"#FF6692\",\"#B6E880\",\"#FF97FF\",\"#FECB52\"],\"font\":{\"color\":\"#2a3f5f\"},\"geo\":{\"bgcolor\":\"white\",\"lakecolor\":\"white\",\"landcolor\":\"#E5ECF6\",\"showlakes\":true,\"showland\":true,\"subunitcolor\":\"white\"},\"hoverlabel\":{\"align\":\"left\"},\"hovermode\":\"closest\",\"mapbox\":{\"style\":\"light\"},\"paper_bgcolor\":\"white\",\"plot_bgcolor\":\"#E5ECF6\",\"polar\":{\"angularaxis\":{\"gridcolor\":\"white\",\"linecolor\":\"white\",\"ticks\":\"\"},\"bgcolor\":\"#E5ECF6\",\"radialaxis\":{\"gridcolor\":\"white\",\"linecolor\":\"white\",\"ticks\":\"\"}},\"scene\":{\"xaxis\":{\"backgroundcolor\":\"#E5ECF6\",\"gridcolor\":\"white\",\"gridwidth\":2,\"linecolor\":\"white\",\"showbackground\":true,\"ticks\":\"\",\"zerolinecolor\":\"white\"},\"yaxis\":{\"backgroundcolor\":\"#E5ECF6\",\"gridcolor\":\"white\",\"gridwidth\":2,\"linecolor\":\"white\",\"showbackground\":true,\"ticks\":\"\",\"zerolinecolor\":\"white\"},\"zaxis\":{\"backgroundcolor\":\"#E5ECF6\",\"gridcolor\":\"white\",\"gridwidth\":2,\"linecolor\":\"white\",\"showbackground\":true,\"ticks\":\"\",\"zerolinecolor\":\"white\"}},\"shapedefaults\":{\"line\":{\"color\":\"#2a3f5f\"}},\"ternary\":{\"aaxis\":{\"gridcolor\":\"white\",\"linecolor\":\"white\",\"ticks\":\"\"},\"baxis\":{\"gridcolor\":\"white\",\"linecolor\":\"white\",\"ticks\":\"\"},\"bgcolor\":\"#E5ECF6\",\"caxis\":{\"gridcolor\":\"white\",\"linecolor\":\"white\",\"ticks\":\"\"}},\"title\":{\"x\":0.05},\"xaxis\":{\"automargin\":true,\"gridcolor\":\"white\",\"linecolor\":\"white\",\"ticks\":\"\",\"title\":{\"standoff\":15},\"zerolinecolor\":\"white\",\"zerolinewidth\":2},\"yaxis\":{\"automargin\":true,\"gridcolor\":\"white\",\"linecolor\":\"white\",\"ticks\":\"\",\"title\":{\"standoff\":15},\"zerolinecolor\":\"white\",\"zerolinewidth\":2}}},\"title\":{\"text\":\"perplexity=30\"},\"width\":400},                        {\"responsive\": true}                    ).then(function(){\n",
       "                            \n",
       "var gd = document.getElementById('ea6703e2-5748-4d08-9b58-d80c239adc2c');\n",
       "var x = new MutationObserver(function (mutations, observer) {{\n",
       "        var display = window.getComputedStyle(gd).display;\n",
       "        if (!display || display === 'none') {{\n",
       "            console.log([gd, 'removed!']);\n",
       "            Plotly.purge(gd);\n",
       "            observer.disconnect();\n",
       "        }}\n",
       "}});\n",
       "\n",
       "// Listen for the removal of the full notebook cells\n",
       "var notebookContainer = gd.closest('#notebook-container');\n",
       "if (notebookContainer) {{\n",
       "    x.observe(notebookContainer, {childList: true});\n",
       "}}\n",
       "\n",
       "// Listen for the clearing of the current output cell\n",
       "var outputEl = gd.closest('.output');\n",
       "if (outputEl) {{\n",
       "    x.observe(outputEl, {childList: true});\n",
       "}}\n",
       "\n",
       "                        })                };                });            </script>        </div>"
      ]
     },
     "metadata": {},
     "output_type": "display_data"
    }
   ],
   "source": [
    "X,y=dat_wine.iloc[:,1:].values, dat_wine.iloc[:,0].values\n",
    "\n",
    "from sklearn.manifold import TSNE\n",
    "t_sne=TSNE(n_components=2, perplexity=30, random_state=1) # n_components 4 이상으로 하면 오류 생긴다. 왜지\n",
    "sne_out=t_sne.fit_transform(X)\n",
    "\n",
    "import plotly.graph_objects as go\n",
    "# scatter plot\n",
    "fig=go.Figure() \n",
    "fig.add_trace(go.Scatter(x=sne_out[:,0],y=sne_out[:,1],mode='markers',\n",
    "                                           marker=dict(size=5, color=y,colorscale='Viridis'))) \n",
    "fig.update_layout(title='perplexity=30')\n",
    "fig.update_layout(height=400,width=400)\n",
    "fig.show()"
   ]
  },
  {
   "cell_type": "code",
   "execution_count": 86,
   "id": "3c0413fa",
   "metadata": {},
   "outputs": [
    {
     "data": {
      "application/vnd.plotly.v1+json": {
       "config": {
        "plotlyServerURL": "https://plot.ly"
       },
       "data": [
        {
         "marker": {
          "color": [
           1,
           1,
           1,
           1,
           1,
           1,
           1,
           1,
           1,
           1,
           1,
           1,
           1,
           1,
           1,
           1,
           1,
           1,
           1,
           1,
           1,
           1,
           1,
           1,
           1,
           1,
           1,
           1,
           1,
           1,
           1,
           1,
           1,
           1,
           1,
           1,
           1,
           1,
           1,
           1,
           1,
           1,
           1,
           1,
           1,
           1,
           1,
           1,
           1,
           1,
           1,
           1,
           1,
           1,
           1,
           1,
           1,
           1,
           1,
           2,
           2,
           2,
           2,
           2,
           2,
           2,
           2,
           2,
           2,
           2,
           2,
           2,
           2,
           2,
           2,
           2,
           2,
           2,
           2,
           2,
           2,
           2,
           2,
           2,
           2,
           2,
           2,
           2,
           2,
           2,
           2,
           2,
           2,
           2,
           2,
           2,
           2,
           2,
           2,
           2,
           2,
           2,
           2,
           2,
           2,
           2,
           2,
           2,
           2,
           2,
           2,
           2,
           2,
           2,
           2,
           2,
           2,
           2,
           2,
           2,
           2,
           2,
           2,
           2,
           2,
           2,
           2,
           2,
           2,
           2,
           3,
           3,
           3,
           3,
           3,
           3,
           3,
           3,
           3,
           3,
           3,
           3,
           3,
           3,
           3,
           3,
           3,
           3,
           3,
           3,
           3,
           3,
           3,
           3,
           3,
           3,
           3,
           3,
           3,
           3,
           3,
           3,
           3,
           3,
           3,
           3,
           3,
           3,
           3,
           3,
           3,
           3,
           3,
           3,
           3,
           3,
           3,
           3
          ],
          "colorscale": [
           [
            0,
            "#440154"
           ],
           [
            0.1111111111111111,
            "#482878"
           ],
           [
            0.2222222222222222,
            "#3e4989"
           ],
           [
            0.3333333333333333,
            "#31688e"
           ],
           [
            0.4444444444444444,
            "#26828e"
           ],
           [
            0.5555555555555556,
            "#1f9e89"
           ],
           [
            0.6666666666666666,
            "#35b779"
           ],
           [
            0.7777777777777778,
            "#6ece58"
           ],
           [
            0.8888888888888888,
            "#b5de2b"
           ],
           [
            1,
            "#fde725"
           ]
          ],
          "size": 5
         },
         "mode": "markers",
         "type": "scatter",
         "x": [
          -4.8763747215271,
          -5.096065521240234,
          -5.793935775756836,
          -6.6234517097473145,
          -1.9159235954284668,
          -6.575586795806885,
          -6.006022930145264,
          -5.977809429168701,
          -4.756070613861084,
          -4.760587215423584,
          -6.681405544281006,
          -6.302975654602051,
          -6.407788276672363,
          -5.382456302642822,
          -6.7345991134643555,
          -6.381423473358154,
          -6.306035041809082,
          -5.549440860748291,
          -6.872570514678955,
          -3.1575968265533447,
          -2.4622292518615723,
          -2.2969982624053955,
          -4.933411598205566,
          -4.747914791107178,
          -3.155076265335083,
          -2.9856834411621094,
          -5.873569965362549,
          -5.931535720825195,
          -3.864135503768921,
          -4.938343524932861,
          -5.9368696212768555,
          -6.687027454376221,
          -4.498334884643555,
          -5.704799175262451,
          -5.366668701171875,
          -3.9151723384857178,
          -3.519977331161499,
          -5.17824125289917,
          -4.666852951049805,
          -2.2677102088928223,
          -2.613553762435913,
          -4.6943488121032715,
          -5.107555866241455,
          -1.2075661420822144,
          -3.5714871883392334,
          -5.3020734786987305,
          -5.212047576904297,
          -4.459362983703613,
          -4.859049320220947,
          -5.81471061706543,
          -5.380241870880127,
          -6.241431713104248,
          -5.84032678604126,
          -6.3673882484436035,
          -5.188048362731934,
          -5.495002746582031,
          -4.331789493560791,
          -5.864648818969727,
          -6.322079658508301,
          2.212874412536621,
          -1.1953797340393066,
          3.223726987838745,
          -0.6937106847763062,
          3.552631378173828,
          4.5333251953125,
          -0.8737123012542725,
          2.7050721645355225,
          2.5593502521514893,
          -2.027829647064209,
          -2.048156499862671,
          -3.422016143798828,
          3.9733548164367676,
          3.0830206871032715,
          -4.453585624694824,
          -3.580007314682007,
          3.435396432876587,
          3.8715784549713135,
          2.213796854019165,
          -2.2292323112487793,
          3.013657808303833,
          4.68766975402832,
          -1.398156762123108,
          -0.26028573513031006,
          2.319061517715454,
          2.018734931945801,
          3.259676456451416,
          2.5345752239227295,
          1.2966845035552979,
          -0.8001492619514465,
          -0.2212783247232437,
          3.014542818069458,
          3.455730438232422,
          2.7726798057556152,
          4.635240077972412,
          4.566876411437988,
          -4.075405597686768,
          0.2393130511045456,
          3.704805850982666,
          -0.6572513580322266,
          3.7145040035247803,
          -1.4720585346221924,
          1.3018988370895386,
          3.359266519546509,
          3.882859945297241,
          -0.6876329779624939,
          4.587072849273682,
          2.5360195636749268,
          2.791699171066284,
          4.592403411865234,
          -0.8738213181495667,
          1.2600042819976807,
          4.60567569732666,
          0.32614004611968994,
          3.5776665210723877,
          4.260521411895752,
          4.022373676300049,
          2.6516313552856445,
          4.200000286102295,
          3.9754128456115723,
          1.2411454916000366,
          -0.06786351650953293,
          2.760495901107788,
          4.467235088348389,
          4.291282653808594,
          3.9296493530273438,
          3.9614760875701904,
          4.141514301300049,
          3.0906906127929688,
          4.231821060180664,
          0.8564532399177551,
          0.04738885164260864,
          1.8165911436080933,
          1.3327933549880981,
          0.46561744809150696,
          -0.5297597646713257,
          -1.2109545469284058,
          -1.5068070888519287,
          2.0485434532165527,
          0.8573024272918701,
          0.6503045558929443,
          0.4456421732902527,
          -2.3936455249786377,
          1.9706616401672363,
          1.5754013061523438,
          -3.2650251388549805,
          -2.978001594543457,
          3.598811626434326,
          -0.12458309531211853,
          -0.5106931328773499,
          1.5049662590026855,
          2.1095430850982666,
          2.561927556991577,
          3.849435806274414,
          -1.0744740962982178,
          -0.8123823404312134,
          -1.6008731126785278,
          2.8402066230773926,
          -3.521265745162964,
          -0.6643843054771423,
          0.009056663140654564,
          2.149573564529419,
          -1.2380781173706055,
          1.072117805480957,
          -1.1438827514648438,
          0.12223628163337708,
          2.135397434234619,
          -1.448512315750122,
          -0.9261062741279602,
          -1.9850471019744873,
          -0.04959237575531006,
          2.1646063327789307,
          3.140881299972534,
          -0.6773655414581299,
          -1.7819182872772217,
          -1.9701838493347168,
          -3.0387160778045654,
          -3.0967092514038086,
          1.3386157751083374
         ],
         "y": [
          6.459461688995361,
          6.055149555206299,
          7.030908107757568,
          8.304765701293945,
          2.4848077297210693,
          8.232169151306152,
          7.804600715637207,
          7.860908508300781,
          6.26061487197876,
          6.2556586265563965,
          8.365012168884277,
          7.460608959197998,
          7.714615821838379,
          7.0341477394104,
          8.429303169250488,
          7.65792989730835,
          7.468686103820801,
          6.696416854858398,
          8.58968734741211,
          4.085689544677734,
          3.270308494567871,
          3.1222188472747803,
          5.946204662322998,
          5.809816360473633,
          4.097999572753906,
          3.8763434886932373,
          7.058058738708496,
          7.809783458709717,
          4.908665657043457,
          5.943671703338623,
          7.813735485076904,
          8.374205589294434,
          5.641494274139404,
          7.53383731842041,
          6.4522929191589355,
          4.962203502655029,
          4.508184432983398,
          6.722658157348633,
          5.947504043579102,
          2.9296810626983643,
          3.451387405395508,
          6.150038719177246,
          6.65883731842041,
          1.45011305809021,
          4.564687728881836,
          6.316166400909424,
          6.1822967529296875,
          5.595799446105957,
          6.4038615226745605,
          7.657822132110596,
          7.034825801849365,
          7.378115177154541,
          7.040945053100586,
          8.067626953125,
          6.127338409423828,
          6.633597373962402,
          5.453474521636963,
          7.72273588180542,
          7.489744663238525,
          -2.127892017364502,
          1.4569100141525269,
          -3.8486716747283936,
          0.219605952501297,
          -4.453083038330078,
          -5.087871551513672,
          1.6284360885620117,
          -2.5226783752441406,
          -2.3277785778045654,
          2.786480665206909,
          2.103843927383423,
          4.39370584487915,
          -4.418310165405273,
          -3.2666399478912354,
          5.5691328048706055,
          4.576752662658691,
          -4.3169474601745605,
          -4.888159275054932,
          -2.9720304012298584,
          2.721383571624756,
          -3.608367443084717,
          -5.77531623840332,
          2.2365832328796387,
          0.47990843653678894,
          -2.2774441242218018,
          -2.2786054611206055,
          -3.827147960662842,
          -2.9003255367279053,
          -1.217376708984375,
          1.7221450805664062,
          0.26415279507637024,
          -3.0376198291778564,
          -3.6907155513763428,
          -2.7130727767944336,
          -5.739758014678955,
          -5.201714038848877,
          5.130388259887695,
          0.6784495711326599,
          -4.142029285430908,
          1.147172451019287,
          -4.693645477294922,
          2.1120970249176025,
          -1.2199500799179077,
          -4.091709136962891,
          -4.356378078460693,
          1.523871898651123,
          -5.569186210632324,
          -2.341500997543335,
          -2.951974630355835,
          -5.591795921325684,
          1.6925201416015625,
          -1.2304829359054565,
          -5.440732955932617,
          -0.05519934743642807,
          -4.05900764465332,
          -4.754807949066162,
          -4.4669623374938965,
          -2.8072566986083984,
          -5.494905948638916,
          -5.191906452178955,
          -1.1561726331710815,
          0.403270959854126,
          -3.7401881217956543,
          -4.975802421569824,
          -4.826643943786621,
          -5.0730743408203125,
          -5.088421821594238,
          -5.413186550140381,
          -3.456912040710449,
          -5.495388507843018,
          -0.7343568801879883,
          0.7501605749130249,
          -2.0387816429138184,
          -1.2918400764465332,
          -0.21291258931159973,
          0.9448915719985962,
          1.9067940711975098,
          2.3176205158233643,
          -2.4784326553344727,
          -0.7303845882415771,
          -0.4650096893310547,
          -0.23695331811904907,
          3.271015167236328,
          -2.3110265731811523,
          -1.5568456649780273,
          4.207104206085205,
          3.887699842453003,
          -4.567722797393799,
          0.35339412093162537,
          0.9607182145118713,
          -1.5902138948440552,
          -3.065620183944702,
          -3.3972716331481934,
          -4.090635776519775,
          1.3375600576400757,
          0.17519617080688477,
          2.388205051422119,
          -3.1763930320739746,
          4.509283542633057,
          1.1496286392211914,
          0.22490817308425903,
          -2.168811321258545,
          1.4441311359405518,
          -0.9756877422332764,
          1.3221423625946045,
          0.10012759268283844,
          -2.1877009868621826,
          1.7752621173858643,
          1.8024553060531616,
          2.8083457946777344,
          0.6610903143882751,
          -2.6145293712615967,
          -3.286442756652832,
          1.1337954998016357,
          2.643054485321045,
          2.8137500286102295,
          3.949185848236084,
          4.016180992126465,
          -1.2912328243255615
         ]
        }
       ],
       "layout": {
        "height": 400,
        "template": {
         "data": {
          "bar": [
           {
            "error_x": {
             "color": "#2a3f5f"
            },
            "error_y": {
             "color": "#2a3f5f"
            },
            "marker": {
             "line": {
              "color": "#E5ECF6",
              "width": 0.5
             },
             "pattern": {
              "fillmode": "overlay",
              "size": 10,
              "solidity": 0.2
             }
            },
            "type": "bar"
           }
          ],
          "barpolar": [
           {
            "marker": {
             "line": {
              "color": "#E5ECF6",
              "width": 0.5
             },
             "pattern": {
              "fillmode": "overlay",
              "size": 10,
              "solidity": 0.2
             }
            },
            "type": "barpolar"
           }
          ],
          "carpet": [
           {
            "aaxis": {
             "endlinecolor": "#2a3f5f",
             "gridcolor": "white",
             "linecolor": "white",
             "minorgridcolor": "white",
             "startlinecolor": "#2a3f5f"
            },
            "baxis": {
             "endlinecolor": "#2a3f5f",
             "gridcolor": "white",
             "linecolor": "white",
             "minorgridcolor": "white",
             "startlinecolor": "#2a3f5f"
            },
            "type": "carpet"
           }
          ],
          "choropleth": [
           {
            "colorbar": {
             "outlinewidth": 0,
             "ticks": ""
            },
            "type": "choropleth"
           }
          ],
          "contour": [
           {
            "colorbar": {
             "outlinewidth": 0,
             "ticks": ""
            },
            "colorscale": [
             [
              0,
              "#0d0887"
             ],
             [
              0.1111111111111111,
              "#46039f"
             ],
             [
              0.2222222222222222,
              "#7201a8"
             ],
             [
              0.3333333333333333,
              "#9c179e"
             ],
             [
              0.4444444444444444,
              "#bd3786"
             ],
             [
              0.5555555555555556,
              "#d8576b"
             ],
             [
              0.6666666666666666,
              "#ed7953"
             ],
             [
              0.7777777777777778,
              "#fb9f3a"
             ],
             [
              0.8888888888888888,
              "#fdca26"
             ],
             [
              1,
              "#f0f921"
             ]
            ],
            "type": "contour"
           }
          ],
          "contourcarpet": [
           {
            "colorbar": {
             "outlinewidth": 0,
             "ticks": ""
            },
            "type": "contourcarpet"
           }
          ],
          "heatmap": [
           {
            "colorbar": {
             "outlinewidth": 0,
             "ticks": ""
            },
            "colorscale": [
             [
              0,
              "#0d0887"
             ],
             [
              0.1111111111111111,
              "#46039f"
             ],
             [
              0.2222222222222222,
              "#7201a8"
             ],
             [
              0.3333333333333333,
              "#9c179e"
             ],
             [
              0.4444444444444444,
              "#bd3786"
             ],
             [
              0.5555555555555556,
              "#d8576b"
             ],
             [
              0.6666666666666666,
              "#ed7953"
             ],
             [
              0.7777777777777778,
              "#fb9f3a"
             ],
             [
              0.8888888888888888,
              "#fdca26"
             ],
             [
              1,
              "#f0f921"
             ]
            ],
            "type": "heatmap"
           }
          ],
          "heatmapgl": [
           {
            "colorbar": {
             "outlinewidth": 0,
             "ticks": ""
            },
            "colorscale": [
             [
              0,
              "#0d0887"
             ],
             [
              0.1111111111111111,
              "#46039f"
             ],
             [
              0.2222222222222222,
              "#7201a8"
             ],
             [
              0.3333333333333333,
              "#9c179e"
             ],
             [
              0.4444444444444444,
              "#bd3786"
             ],
             [
              0.5555555555555556,
              "#d8576b"
             ],
             [
              0.6666666666666666,
              "#ed7953"
             ],
             [
              0.7777777777777778,
              "#fb9f3a"
             ],
             [
              0.8888888888888888,
              "#fdca26"
             ],
             [
              1,
              "#f0f921"
             ]
            ],
            "type": "heatmapgl"
           }
          ],
          "histogram": [
           {
            "marker": {
             "pattern": {
              "fillmode": "overlay",
              "size": 10,
              "solidity": 0.2
             }
            },
            "type": "histogram"
           }
          ],
          "histogram2d": [
           {
            "colorbar": {
             "outlinewidth": 0,
             "ticks": ""
            },
            "colorscale": [
             [
              0,
              "#0d0887"
             ],
             [
              0.1111111111111111,
              "#46039f"
             ],
             [
              0.2222222222222222,
              "#7201a8"
             ],
             [
              0.3333333333333333,
              "#9c179e"
             ],
             [
              0.4444444444444444,
              "#bd3786"
             ],
             [
              0.5555555555555556,
              "#d8576b"
             ],
             [
              0.6666666666666666,
              "#ed7953"
             ],
             [
              0.7777777777777778,
              "#fb9f3a"
             ],
             [
              0.8888888888888888,
              "#fdca26"
             ],
             [
              1,
              "#f0f921"
             ]
            ],
            "type": "histogram2d"
           }
          ],
          "histogram2dcontour": [
           {
            "colorbar": {
             "outlinewidth": 0,
             "ticks": ""
            },
            "colorscale": [
             [
              0,
              "#0d0887"
             ],
             [
              0.1111111111111111,
              "#46039f"
             ],
             [
              0.2222222222222222,
              "#7201a8"
             ],
             [
              0.3333333333333333,
              "#9c179e"
             ],
             [
              0.4444444444444444,
              "#bd3786"
             ],
             [
              0.5555555555555556,
              "#d8576b"
             ],
             [
              0.6666666666666666,
              "#ed7953"
             ],
             [
              0.7777777777777778,
              "#fb9f3a"
             ],
             [
              0.8888888888888888,
              "#fdca26"
             ],
             [
              1,
              "#f0f921"
             ]
            ],
            "type": "histogram2dcontour"
           }
          ],
          "mesh3d": [
           {
            "colorbar": {
             "outlinewidth": 0,
             "ticks": ""
            },
            "type": "mesh3d"
           }
          ],
          "parcoords": [
           {
            "line": {
             "colorbar": {
              "outlinewidth": 0,
              "ticks": ""
             }
            },
            "type": "parcoords"
           }
          ],
          "pie": [
           {
            "automargin": true,
            "type": "pie"
           }
          ],
          "scatter": [
           {
            "marker": {
             "colorbar": {
              "outlinewidth": 0,
              "ticks": ""
             }
            },
            "type": "scatter"
           }
          ],
          "scatter3d": [
           {
            "line": {
             "colorbar": {
              "outlinewidth": 0,
              "ticks": ""
             }
            },
            "marker": {
             "colorbar": {
              "outlinewidth": 0,
              "ticks": ""
             }
            },
            "type": "scatter3d"
           }
          ],
          "scattercarpet": [
           {
            "marker": {
             "colorbar": {
              "outlinewidth": 0,
              "ticks": ""
             }
            },
            "type": "scattercarpet"
           }
          ],
          "scattergeo": [
           {
            "marker": {
             "colorbar": {
              "outlinewidth": 0,
              "ticks": ""
             }
            },
            "type": "scattergeo"
           }
          ],
          "scattergl": [
           {
            "marker": {
             "colorbar": {
              "outlinewidth": 0,
              "ticks": ""
             }
            },
            "type": "scattergl"
           }
          ],
          "scattermapbox": [
           {
            "marker": {
             "colorbar": {
              "outlinewidth": 0,
              "ticks": ""
             }
            },
            "type": "scattermapbox"
           }
          ],
          "scatterpolar": [
           {
            "marker": {
             "colorbar": {
              "outlinewidth": 0,
              "ticks": ""
             }
            },
            "type": "scatterpolar"
           }
          ],
          "scatterpolargl": [
           {
            "marker": {
             "colorbar": {
              "outlinewidth": 0,
              "ticks": ""
             }
            },
            "type": "scatterpolargl"
           }
          ],
          "scatterternary": [
           {
            "marker": {
             "colorbar": {
              "outlinewidth": 0,
              "ticks": ""
             }
            },
            "type": "scatterternary"
           }
          ],
          "surface": [
           {
            "colorbar": {
             "outlinewidth": 0,
             "ticks": ""
            },
            "colorscale": [
             [
              0,
              "#0d0887"
             ],
             [
              0.1111111111111111,
              "#46039f"
             ],
             [
              0.2222222222222222,
              "#7201a8"
             ],
             [
              0.3333333333333333,
              "#9c179e"
             ],
             [
              0.4444444444444444,
              "#bd3786"
             ],
             [
              0.5555555555555556,
              "#d8576b"
             ],
             [
              0.6666666666666666,
              "#ed7953"
             ],
             [
              0.7777777777777778,
              "#fb9f3a"
             ],
             [
              0.8888888888888888,
              "#fdca26"
             ],
             [
              1,
              "#f0f921"
             ]
            ],
            "type": "surface"
           }
          ],
          "table": [
           {
            "cells": {
             "fill": {
              "color": "#EBF0F8"
             },
             "line": {
              "color": "white"
             }
            },
            "header": {
             "fill": {
              "color": "#C8D4E3"
             },
             "line": {
              "color": "white"
             }
            },
            "type": "table"
           }
          ]
         },
         "layout": {
          "annotationdefaults": {
           "arrowcolor": "#2a3f5f",
           "arrowhead": 0,
           "arrowwidth": 1
          },
          "autotypenumbers": "strict",
          "coloraxis": {
           "colorbar": {
            "outlinewidth": 0,
            "ticks": ""
           }
          },
          "colorscale": {
           "diverging": [
            [
             0,
             "#8e0152"
            ],
            [
             0.1,
             "#c51b7d"
            ],
            [
             0.2,
             "#de77ae"
            ],
            [
             0.3,
             "#f1b6da"
            ],
            [
             0.4,
             "#fde0ef"
            ],
            [
             0.5,
             "#f7f7f7"
            ],
            [
             0.6,
             "#e6f5d0"
            ],
            [
             0.7,
             "#b8e186"
            ],
            [
             0.8,
             "#7fbc41"
            ],
            [
             0.9,
             "#4d9221"
            ],
            [
             1,
             "#276419"
            ]
           ],
           "sequential": [
            [
             0,
             "#0d0887"
            ],
            [
             0.1111111111111111,
             "#46039f"
            ],
            [
             0.2222222222222222,
             "#7201a8"
            ],
            [
             0.3333333333333333,
             "#9c179e"
            ],
            [
             0.4444444444444444,
             "#bd3786"
            ],
            [
             0.5555555555555556,
             "#d8576b"
            ],
            [
             0.6666666666666666,
             "#ed7953"
            ],
            [
             0.7777777777777778,
             "#fb9f3a"
            ],
            [
             0.8888888888888888,
             "#fdca26"
            ],
            [
             1,
             "#f0f921"
            ]
           ],
           "sequentialminus": [
            [
             0,
             "#0d0887"
            ],
            [
             0.1111111111111111,
             "#46039f"
            ],
            [
             0.2222222222222222,
             "#7201a8"
            ],
            [
             0.3333333333333333,
             "#9c179e"
            ],
            [
             0.4444444444444444,
             "#bd3786"
            ],
            [
             0.5555555555555556,
             "#d8576b"
            ],
            [
             0.6666666666666666,
             "#ed7953"
            ],
            [
             0.7777777777777778,
             "#fb9f3a"
            ],
            [
             0.8888888888888888,
             "#fdca26"
            ],
            [
             1,
             "#f0f921"
            ]
           ]
          },
          "colorway": [
           "#636efa",
           "#EF553B",
           "#00cc96",
           "#ab63fa",
           "#FFA15A",
           "#19d3f3",
           "#FF6692",
           "#B6E880",
           "#FF97FF",
           "#FECB52"
          ],
          "font": {
           "color": "#2a3f5f"
          },
          "geo": {
           "bgcolor": "white",
           "lakecolor": "white",
           "landcolor": "#E5ECF6",
           "showlakes": true,
           "showland": true,
           "subunitcolor": "white"
          },
          "hoverlabel": {
           "align": "left"
          },
          "hovermode": "closest",
          "mapbox": {
           "style": "light"
          },
          "paper_bgcolor": "white",
          "plot_bgcolor": "#E5ECF6",
          "polar": {
           "angularaxis": {
            "gridcolor": "white",
            "linecolor": "white",
            "ticks": ""
           },
           "bgcolor": "#E5ECF6",
           "radialaxis": {
            "gridcolor": "white",
            "linecolor": "white",
            "ticks": ""
           }
          },
          "scene": {
           "xaxis": {
            "backgroundcolor": "#E5ECF6",
            "gridcolor": "white",
            "gridwidth": 2,
            "linecolor": "white",
            "showbackground": true,
            "ticks": "",
            "zerolinecolor": "white"
           },
           "yaxis": {
            "backgroundcolor": "#E5ECF6",
            "gridcolor": "white",
            "gridwidth": 2,
            "linecolor": "white",
            "showbackground": true,
            "ticks": "",
            "zerolinecolor": "white"
           },
           "zaxis": {
            "backgroundcolor": "#E5ECF6",
            "gridcolor": "white",
            "gridwidth": 2,
            "linecolor": "white",
            "showbackground": true,
            "ticks": "",
            "zerolinecolor": "white"
           }
          },
          "shapedefaults": {
           "line": {
            "color": "#2a3f5f"
           }
          },
          "ternary": {
           "aaxis": {
            "gridcolor": "white",
            "linecolor": "white",
            "ticks": ""
           },
           "baxis": {
            "gridcolor": "white",
            "linecolor": "white",
            "ticks": ""
           },
           "bgcolor": "#E5ECF6",
           "caxis": {
            "gridcolor": "white",
            "linecolor": "white",
            "ticks": ""
           }
          },
          "title": {
           "x": 0.05
          },
          "xaxis": {
           "automargin": true,
           "gridcolor": "white",
           "linecolor": "white",
           "ticks": "",
           "title": {
            "standoff": 15
           },
           "zerolinecolor": "white",
           "zerolinewidth": 2
          },
          "yaxis": {
           "automargin": true,
           "gridcolor": "white",
           "linecolor": "white",
           "ticks": "",
           "title": {
            "standoff": 15
           },
           "zerolinecolor": "white",
           "zerolinewidth": 2
          }
         }
        },
        "title": {
         "text": "perplexity=50"
        },
        "width": 400
       }
      },
      "text/html": [
       "<div>                            <div id=\"e1071f8f-efb9-4a54-bafb-5095c2293566\" class=\"plotly-graph-div\" style=\"height:400px; width:400px;\"></div>            <script type=\"text/javascript\">                require([\"plotly\"], function(Plotly) {                    window.PLOTLYENV=window.PLOTLYENV || {};                                    if (document.getElementById(\"e1071f8f-efb9-4a54-bafb-5095c2293566\")) {                    Plotly.newPlot(                        \"e1071f8f-efb9-4a54-bafb-5095c2293566\",                        [{\"marker\":{\"color\":[1,1,1,1,1,1,1,1,1,1,1,1,1,1,1,1,1,1,1,1,1,1,1,1,1,1,1,1,1,1,1,1,1,1,1,1,1,1,1,1,1,1,1,1,1,1,1,1,1,1,1,1,1,1,1,1,1,1,1,2,2,2,2,2,2,2,2,2,2,2,2,2,2,2,2,2,2,2,2,2,2,2,2,2,2,2,2,2,2,2,2,2,2,2,2,2,2,2,2,2,2,2,2,2,2,2,2,2,2,2,2,2,2,2,2,2,2,2,2,2,2,2,2,2,2,2,2,2,2,2,3,3,3,3,3,3,3,3,3,3,3,3,3,3,3,3,3,3,3,3,3,3,3,3,3,3,3,3,3,3,3,3,3,3,3,3,3,3,3,3,3,3,3,3,3,3,3,3],\"colorscale\":[[0.0,\"#440154\"],[0.1111111111111111,\"#482878\"],[0.2222222222222222,\"#3e4989\"],[0.3333333333333333,\"#31688e\"],[0.4444444444444444,\"#26828e\"],[0.5555555555555556,\"#1f9e89\"],[0.6666666666666666,\"#35b779\"],[0.7777777777777778,\"#6ece58\"],[0.8888888888888888,\"#b5de2b\"],[1.0,\"#fde725\"]],\"size\":5},\"mode\":\"markers\",\"type\":\"scatter\",\"x\":[-4.8763747215271,-5.096065521240234,-5.793935775756836,-6.6234517097473145,-1.9159235954284668,-6.575586795806885,-6.006022930145264,-5.977809429168701,-4.756070613861084,-4.760587215423584,-6.681405544281006,-6.302975654602051,-6.407788276672363,-5.382456302642822,-6.7345991134643555,-6.381423473358154,-6.306035041809082,-5.549440860748291,-6.872570514678955,-3.1575968265533447,-2.4622292518615723,-2.2969982624053955,-4.933411598205566,-4.747914791107178,-3.155076265335083,-2.9856834411621094,-5.873569965362549,-5.931535720825195,-3.864135503768921,-4.938343524932861,-5.9368696212768555,-6.687027454376221,-4.498334884643555,-5.704799175262451,-5.366668701171875,-3.9151723384857178,-3.519977331161499,-5.17824125289917,-4.666852951049805,-2.2677102088928223,-2.613553762435913,-4.6943488121032715,-5.107555866241455,-1.2075661420822144,-3.5714871883392334,-5.3020734786987305,-5.212047576904297,-4.459362983703613,-4.859049320220947,-5.81471061706543,-5.380241870880127,-6.241431713104248,-5.84032678604126,-6.3673882484436035,-5.188048362731934,-5.495002746582031,-4.331789493560791,-5.864648818969727,-6.322079658508301,2.212874412536621,-1.1953797340393066,3.223726987838745,-0.6937106847763062,3.552631378173828,4.5333251953125,-0.8737123012542725,2.7050721645355225,2.5593502521514893,-2.027829647064209,-2.048156499862671,-3.422016143798828,3.9733548164367676,3.0830206871032715,-4.453585624694824,-3.580007314682007,3.435396432876587,3.8715784549713135,2.213796854019165,-2.2292323112487793,3.013657808303833,4.68766975402832,-1.398156762123108,-0.26028573513031006,2.319061517715454,2.018734931945801,3.259676456451416,2.5345752239227295,1.2966845035552979,-0.8001492619514465,-0.2212783247232437,3.014542818069458,3.455730438232422,2.7726798057556152,4.635240077972412,4.566876411437988,-4.075405597686768,0.2393130511045456,3.704805850982666,-0.6572513580322266,3.7145040035247803,-1.4720585346221924,1.3018988370895386,3.359266519546509,3.882859945297241,-0.6876329779624939,4.587072849273682,2.5360195636749268,2.791699171066284,4.592403411865234,-0.8738213181495667,1.2600042819976807,4.60567569732666,0.32614004611968994,3.5776665210723877,4.260521411895752,4.022373676300049,2.6516313552856445,4.200000286102295,3.9754128456115723,1.2411454916000366,-0.06786351650953293,2.760495901107788,4.467235088348389,4.291282653808594,3.9296493530273438,3.9614760875701904,4.141514301300049,3.0906906127929688,4.231821060180664,0.8564532399177551,0.04738885164260864,1.8165911436080933,1.3327933549880981,0.46561744809150696,-0.5297597646713257,-1.2109545469284058,-1.5068070888519287,2.0485434532165527,0.8573024272918701,0.6503045558929443,0.4456421732902527,-2.3936455249786377,1.9706616401672363,1.5754013061523438,-3.2650251388549805,-2.978001594543457,3.598811626434326,-0.12458309531211853,-0.5106931328773499,1.5049662590026855,2.1095430850982666,2.561927556991577,3.849435806274414,-1.0744740962982178,-0.8123823404312134,-1.6008731126785278,2.8402066230773926,-3.521265745162964,-0.6643843054771423,0.009056663140654564,2.149573564529419,-1.2380781173706055,1.072117805480957,-1.1438827514648438,0.12223628163337708,2.135397434234619,-1.448512315750122,-0.9261062741279602,-1.9850471019744873,-0.04959237575531006,2.1646063327789307,3.140881299972534,-0.6773655414581299,-1.7819182872772217,-1.9701838493347168,-3.0387160778045654,-3.0967092514038086,1.3386157751083374],\"y\":[6.459461688995361,6.055149555206299,7.030908107757568,8.304765701293945,2.4848077297210693,8.232169151306152,7.804600715637207,7.860908508300781,6.26061487197876,6.2556586265563965,8.365012168884277,7.460608959197998,7.714615821838379,7.0341477394104,8.429303169250488,7.65792989730835,7.468686103820801,6.696416854858398,8.58968734741211,4.085689544677734,3.270308494567871,3.1222188472747803,5.946204662322998,5.809816360473633,4.097999572753906,3.8763434886932373,7.058058738708496,7.809783458709717,4.908665657043457,5.943671703338623,7.813735485076904,8.374205589294434,5.641494274139404,7.53383731842041,6.4522929191589355,4.962203502655029,4.508184432983398,6.722658157348633,5.947504043579102,2.9296810626983643,3.451387405395508,6.150038719177246,6.65883731842041,1.45011305809021,4.564687728881836,6.316166400909424,6.1822967529296875,5.595799446105957,6.4038615226745605,7.657822132110596,7.034825801849365,7.378115177154541,7.040945053100586,8.067626953125,6.127338409423828,6.633597373962402,5.453474521636963,7.72273588180542,7.489744663238525,-2.127892017364502,1.4569100141525269,-3.8486716747283936,0.219605952501297,-4.453083038330078,-5.087871551513672,1.6284360885620117,-2.5226783752441406,-2.3277785778045654,2.786480665206909,2.103843927383423,4.39370584487915,-4.418310165405273,-3.2666399478912354,5.5691328048706055,4.576752662658691,-4.3169474601745605,-4.888159275054932,-2.9720304012298584,2.721383571624756,-3.608367443084717,-5.77531623840332,2.2365832328796387,0.47990843653678894,-2.2774441242218018,-2.2786054611206055,-3.827147960662842,-2.9003255367279053,-1.217376708984375,1.7221450805664062,0.26415279507637024,-3.0376198291778564,-3.6907155513763428,-2.7130727767944336,-5.739758014678955,-5.201714038848877,5.130388259887695,0.6784495711326599,-4.142029285430908,1.147172451019287,-4.693645477294922,2.1120970249176025,-1.2199500799179077,-4.091709136962891,-4.356378078460693,1.523871898651123,-5.569186210632324,-2.341500997543335,-2.951974630355835,-5.591795921325684,1.6925201416015625,-1.2304829359054565,-5.440732955932617,-0.05519934743642807,-4.05900764465332,-4.754807949066162,-4.4669623374938965,-2.8072566986083984,-5.494905948638916,-5.191906452178955,-1.1561726331710815,0.403270959854126,-3.7401881217956543,-4.975802421569824,-4.826643943786621,-5.0730743408203125,-5.088421821594238,-5.413186550140381,-3.456912040710449,-5.495388507843018,-0.7343568801879883,0.7501605749130249,-2.0387816429138184,-1.2918400764465332,-0.21291258931159973,0.9448915719985962,1.9067940711975098,2.3176205158233643,-2.4784326553344727,-0.7303845882415771,-0.4650096893310547,-0.23695331811904907,3.271015167236328,-2.3110265731811523,-1.5568456649780273,4.207104206085205,3.887699842453003,-4.567722797393799,0.35339412093162537,0.9607182145118713,-1.5902138948440552,-3.065620183944702,-3.3972716331481934,-4.090635776519775,1.3375600576400757,0.17519617080688477,2.388205051422119,-3.1763930320739746,4.509283542633057,1.1496286392211914,0.22490817308425903,-2.168811321258545,1.4441311359405518,-0.9756877422332764,1.3221423625946045,0.10012759268283844,-2.1877009868621826,1.7752621173858643,1.8024553060531616,2.8083457946777344,0.6610903143882751,-2.6145293712615967,-3.286442756652832,1.1337954998016357,2.643054485321045,2.8137500286102295,3.949185848236084,4.016180992126465,-1.2912328243255615]}],                        {\"height\":400,\"template\":{\"data\":{\"bar\":[{\"error_x\":{\"color\":\"#2a3f5f\"},\"error_y\":{\"color\":\"#2a3f5f\"},\"marker\":{\"line\":{\"color\":\"#E5ECF6\",\"width\":0.5},\"pattern\":{\"fillmode\":\"overlay\",\"size\":10,\"solidity\":0.2}},\"type\":\"bar\"}],\"barpolar\":[{\"marker\":{\"line\":{\"color\":\"#E5ECF6\",\"width\":0.5},\"pattern\":{\"fillmode\":\"overlay\",\"size\":10,\"solidity\":0.2}},\"type\":\"barpolar\"}],\"carpet\":[{\"aaxis\":{\"endlinecolor\":\"#2a3f5f\",\"gridcolor\":\"white\",\"linecolor\":\"white\",\"minorgridcolor\":\"white\",\"startlinecolor\":\"#2a3f5f\"},\"baxis\":{\"endlinecolor\":\"#2a3f5f\",\"gridcolor\":\"white\",\"linecolor\":\"white\",\"minorgridcolor\":\"white\",\"startlinecolor\":\"#2a3f5f\"},\"type\":\"carpet\"}],\"choropleth\":[{\"colorbar\":{\"outlinewidth\":0,\"ticks\":\"\"},\"type\":\"choropleth\"}],\"contour\":[{\"colorbar\":{\"outlinewidth\":0,\"ticks\":\"\"},\"colorscale\":[[0.0,\"#0d0887\"],[0.1111111111111111,\"#46039f\"],[0.2222222222222222,\"#7201a8\"],[0.3333333333333333,\"#9c179e\"],[0.4444444444444444,\"#bd3786\"],[0.5555555555555556,\"#d8576b\"],[0.6666666666666666,\"#ed7953\"],[0.7777777777777778,\"#fb9f3a\"],[0.8888888888888888,\"#fdca26\"],[1.0,\"#f0f921\"]],\"type\":\"contour\"}],\"contourcarpet\":[{\"colorbar\":{\"outlinewidth\":0,\"ticks\":\"\"},\"type\":\"contourcarpet\"}],\"heatmap\":[{\"colorbar\":{\"outlinewidth\":0,\"ticks\":\"\"},\"colorscale\":[[0.0,\"#0d0887\"],[0.1111111111111111,\"#46039f\"],[0.2222222222222222,\"#7201a8\"],[0.3333333333333333,\"#9c179e\"],[0.4444444444444444,\"#bd3786\"],[0.5555555555555556,\"#d8576b\"],[0.6666666666666666,\"#ed7953\"],[0.7777777777777778,\"#fb9f3a\"],[0.8888888888888888,\"#fdca26\"],[1.0,\"#f0f921\"]],\"type\":\"heatmap\"}],\"heatmapgl\":[{\"colorbar\":{\"outlinewidth\":0,\"ticks\":\"\"},\"colorscale\":[[0.0,\"#0d0887\"],[0.1111111111111111,\"#46039f\"],[0.2222222222222222,\"#7201a8\"],[0.3333333333333333,\"#9c179e\"],[0.4444444444444444,\"#bd3786\"],[0.5555555555555556,\"#d8576b\"],[0.6666666666666666,\"#ed7953\"],[0.7777777777777778,\"#fb9f3a\"],[0.8888888888888888,\"#fdca26\"],[1.0,\"#f0f921\"]],\"type\":\"heatmapgl\"}],\"histogram\":[{\"marker\":{\"pattern\":{\"fillmode\":\"overlay\",\"size\":10,\"solidity\":0.2}},\"type\":\"histogram\"}],\"histogram2d\":[{\"colorbar\":{\"outlinewidth\":0,\"ticks\":\"\"},\"colorscale\":[[0.0,\"#0d0887\"],[0.1111111111111111,\"#46039f\"],[0.2222222222222222,\"#7201a8\"],[0.3333333333333333,\"#9c179e\"],[0.4444444444444444,\"#bd3786\"],[0.5555555555555556,\"#d8576b\"],[0.6666666666666666,\"#ed7953\"],[0.7777777777777778,\"#fb9f3a\"],[0.8888888888888888,\"#fdca26\"],[1.0,\"#f0f921\"]],\"type\":\"histogram2d\"}],\"histogram2dcontour\":[{\"colorbar\":{\"outlinewidth\":0,\"ticks\":\"\"},\"colorscale\":[[0.0,\"#0d0887\"],[0.1111111111111111,\"#46039f\"],[0.2222222222222222,\"#7201a8\"],[0.3333333333333333,\"#9c179e\"],[0.4444444444444444,\"#bd3786\"],[0.5555555555555556,\"#d8576b\"],[0.6666666666666666,\"#ed7953\"],[0.7777777777777778,\"#fb9f3a\"],[0.8888888888888888,\"#fdca26\"],[1.0,\"#f0f921\"]],\"type\":\"histogram2dcontour\"}],\"mesh3d\":[{\"colorbar\":{\"outlinewidth\":0,\"ticks\":\"\"},\"type\":\"mesh3d\"}],\"parcoords\":[{\"line\":{\"colorbar\":{\"outlinewidth\":0,\"ticks\":\"\"}},\"type\":\"parcoords\"}],\"pie\":[{\"automargin\":true,\"type\":\"pie\"}],\"scatter\":[{\"marker\":{\"colorbar\":{\"outlinewidth\":0,\"ticks\":\"\"}},\"type\":\"scatter\"}],\"scatter3d\":[{\"line\":{\"colorbar\":{\"outlinewidth\":0,\"ticks\":\"\"}},\"marker\":{\"colorbar\":{\"outlinewidth\":0,\"ticks\":\"\"}},\"type\":\"scatter3d\"}],\"scattercarpet\":[{\"marker\":{\"colorbar\":{\"outlinewidth\":0,\"ticks\":\"\"}},\"type\":\"scattercarpet\"}],\"scattergeo\":[{\"marker\":{\"colorbar\":{\"outlinewidth\":0,\"ticks\":\"\"}},\"type\":\"scattergeo\"}],\"scattergl\":[{\"marker\":{\"colorbar\":{\"outlinewidth\":0,\"ticks\":\"\"}},\"type\":\"scattergl\"}],\"scattermapbox\":[{\"marker\":{\"colorbar\":{\"outlinewidth\":0,\"ticks\":\"\"}},\"type\":\"scattermapbox\"}],\"scatterpolar\":[{\"marker\":{\"colorbar\":{\"outlinewidth\":0,\"ticks\":\"\"}},\"type\":\"scatterpolar\"}],\"scatterpolargl\":[{\"marker\":{\"colorbar\":{\"outlinewidth\":0,\"ticks\":\"\"}},\"type\":\"scatterpolargl\"}],\"scatterternary\":[{\"marker\":{\"colorbar\":{\"outlinewidth\":0,\"ticks\":\"\"}},\"type\":\"scatterternary\"}],\"surface\":[{\"colorbar\":{\"outlinewidth\":0,\"ticks\":\"\"},\"colorscale\":[[0.0,\"#0d0887\"],[0.1111111111111111,\"#46039f\"],[0.2222222222222222,\"#7201a8\"],[0.3333333333333333,\"#9c179e\"],[0.4444444444444444,\"#bd3786\"],[0.5555555555555556,\"#d8576b\"],[0.6666666666666666,\"#ed7953\"],[0.7777777777777778,\"#fb9f3a\"],[0.8888888888888888,\"#fdca26\"],[1.0,\"#f0f921\"]],\"type\":\"surface\"}],\"table\":[{\"cells\":{\"fill\":{\"color\":\"#EBF0F8\"},\"line\":{\"color\":\"white\"}},\"header\":{\"fill\":{\"color\":\"#C8D4E3\"},\"line\":{\"color\":\"white\"}},\"type\":\"table\"}]},\"layout\":{\"annotationdefaults\":{\"arrowcolor\":\"#2a3f5f\",\"arrowhead\":0,\"arrowwidth\":1},\"autotypenumbers\":\"strict\",\"coloraxis\":{\"colorbar\":{\"outlinewidth\":0,\"ticks\":\"\"}},\"colorscale\":{\"diverging\":[[0,\"#8e0152\"],[0.1,\"#c51b7d\"],[0.2,\"#de77ae\"],[0.3,\"#f1b6da\"],[0.4,\"#fde0ef\"],[0.5,\"#f7f7f7\"],[0.6,\"#e6f5d0\"],[0.7,\"#b8e186\"],[0.8,\"#7fbc41\"],[0.9,\"#4d9221\"],[1,\"#276419\"]],\"sequential\":[[0.0,\"#0d0887\"],[0.1111111111111111,\"#46039f\"],[0.2222222222222222,\"#7201a8\"],[0.3333333333333333,\"#9c179e\"],[0.4444444444444444,\"#bd3786\"],[0.5555555555555556,\"#d8576b\"],[0.6666666666666666,\"#ed7953\"],[0.7777777777777778,\"#fb9f3a\"],[0.8888888888888888,\"#fdca26\"],[1.0,\"#f0f921\"]],\"sequentialminus\":[[0.0,\"#0d0887\"],[0.1111111111111111,\"#46039f\"],[0.2222222222222222,\"#7201a8\"],[0.3333333333333333,\"#9c179e\"],[0.4444444444444444,\"#bd3786\"],[0.5555555555555556,\"#d8576b\"],[0.6666666666666666,\"#ed7953\"],[0.7777777777777778,\"#fb9f3a\"],[0.8888888888888888,\"#fdca26\"],[1.0,\"#f0f921\"]]},\"colorway\":[\"#636efa\",\"#EF553B\",\"#00cc96\",\"#ab63fa\",\"#FFA15A\",\"#19d3f3\",\"#FF6692\",\"#B6E880\",\"#FF97FF\",\"#FECB52\"],\"font\":{\"color\":\"#2a3f5f\"},\"geo\":{\"bgcolor\":\"white\",\"lakecolor\":\"white\",\"landcolor\":\"#E5ECF6\",\"showlakes\":true,\"showland\":true,\"subunitcolor\":\"white\"},\"hoverlabel\":{\"align\":\"left\"},\"hovermode\":\"closest\",\"mapbox\":{\"style\":\"light\"},\"paper_bgcolor\":\"white\",\"plot_bgcolor\":\"#E5ECF6\",\"polar\":{\"angularaxis\":{\"gridcolor\":\"white\",\"linecolor\":\"white\",\"ticks\":\"\"},\"bgcolor\":\"#E5ECF6\",\"radialaxis\":{\"gridcolor\":\"white\",\"linecolor\":\"white\",\"ticks\":\"\"}},\"scene\":{\"xaxis\":{\"backgroundcolor\":\"#E5ECF6\",\"gridcolor\":\"white\",\"gridwidth\":2,\"linecolor\":\"white\",\"showbackground\":true,\"ticks\":\"\",\"zerolinecolor\":\"white\"},\"yaxis\":{\"backgroundcolor\":\"#E5ECF6\",\"gridcolor\":\"white\",\"gridwidth\":2,\"linecolor\":\"white\",\"showbackground\":true,\"ticks\":\"\",\"zerolinecolor\":\"white\"},\"zaxis\":{\"backgroundcolor\":\"#E5ECF6\",\"gridcolor\":\"white\",\"gridwidth\":2,\"linecolor\":\"white\",\"showbackground\":true,\"ticks\":\"\",\"zerolinecolor\":\"white\"}},\"shapedefaults\":{\"line\":{\"color\":\"#2a3f5f\"}},\"ternary\":{\"aaxis\":{\"gridcolor\":\"white\",\"linecolor\":\"white\",\"ticks\":\"\"},\"baxis\":{\"gridcolor\":\"white\",\"linecolor\":\"white\",\"ticks\":\"\"},\"bgcolor\":\"#E5ECF6\",\"caxis\":{\"gridcolor\":\"white\",\"linecolor\":\"white\",\"ticks\":\"\"}},\"title\":{\"x\":0.05},\"xaxis\":{\"automargin\":true,\"gridcolor\":\"white\",\"linecolor\":\"white\",\"ticks\":\"\",\"title\":{\"standoff\":15},\"zerolinecolor\":\"white\",\"zerolinewidth\":2},\"yaxis\":{\"automargin\":true,\"gridcolor\":\"white\",\"linecolor\":\"white\",\"ticks\":\"\",\"title\":{\"standoff\":15},\"zerolinecolor\":\"white\",\"zerolinewidth\":2}}},\"title\":{\"text\":\"perplexity=50\"},\"width\":400},                        {\"responsive\": true}                    ).then(function(){\n",
       "                            \n",
       "var gd = document.getElementById('e1071f8f-efb9-4a54-bafb-5095c2293566');\n",
       "var x = new MutationObserver(function (mutations, observer) {{\n",
       "        var display = window.getComputedStyle(gd).display;\n",
       "        if (!display || display === 'none') {{\n",
       "            console.log([gd, 'removed!']);\n",
       "            Plotly.purge(gd);\n",
       "            observer.disconnect();\n",
       "        }}\n",
       "}});\n",
       "\n",
       "// Listen for the removal of the full notebook cells\n",
       "var notebookContainer = gd.closest('#notebook-container');\n",
       "if (notebookContainer) {{\n",
       "    x.observe(notebookContainer, {childList: true});\n",
       "}}\n",
       "\n",
       "// Listen for the clearing of the current output cell\n",
       "var outputEl = gd.closest('.output');\n",
       "if (outputEl) {{\n",
       "    x.observe(outputEl, {childList: true});\n",
       "}}\n",
       "\n",
       "                        })                };                });            </script>        </div>"
      ]
     },
     "metadata": {},
     "output_type": "display_data"
    }
   ],
   "source": [
    "X,y=dat_wine.iloc[:,1:].values, dat_wine.iloc[:,0].values\n",
    "\n",
    "from sklearn.manifold import TSNE\n",
    "t_sne=TSNE(n_components=2, perplexity=50, random_state=1) # n_components 4 이상으로 하면 오류 생긴다. 왜지\n",
    "sne_out=t_sne.fit_transform(X)\n",
    "\n",
    "import plotly.graph_objects as go\n",
    "# scatter plot\n",
    "fig=go.Figure() \n",
    "fig.add_trace(go.Scatter(x=sne_out[:,0],y=sne_out[:,1],mode='markers',\n",
    "                                           marker=dict(size=5, color=y,colorscale='Viridis'))) \n",
    "fig.update_layout(title='perplexity=50')\n",
    "fig.update_layout(height=400,width=400)\n",
    "fig.show()"
   ]
  },
  {
   "cell_type": "code",
   "execution_count": null,
   "id": "33204d02",
   "metadata": {},
   "outputs": [],
   "source": []
  }
 ],
 "metadata": {
  "kernelspec": {
   "display_name": "Python 3",
   "language": "python",
   "name": "python3"
  },
  "language_info": {
   "codemirror_mode": {
    "name": "ipython",
    "version": 3
   },
   "file_extension": ".py",
   "mimetype": "text/x-python",
   "name": "python",
   "nbconvert_exporter": "python",
   "pygments_lexer": "ipython3",
   "version": "3.8.8"
  }
 },
 "nbformat": 4,
 "nbformat_minor": 5
}
