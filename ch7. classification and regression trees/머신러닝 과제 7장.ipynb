{
 "cells": [
  {
   "cell_type": "markdown",
   "id": "bfbae1bf",
   "metadata": {},
   "source": [
    "## CART"
   ]
  },
  {
   "cell_type": "code",
   "execution_count": 1,
   "id": "602f5a9f",
   "metadata": {},
   "outputs": [],
   "source": [
    "import pandas as pd\n",
    "import numpy as np"
   ]
  },
  {
   "cell_type": "code",
   "execution_count": 2,
   "id": "cb406def",
   "metadata": {},
   "outputs": [
    {
     "name": "stdout",
     "output_type": "stream",
     "text": [
      "   0      1     2     3     4    5     6     7     8     9     10    11    12  \\\n",
      "0   1  14.23  1.71  2.43  15.6  127  2.80  3.06  0.28  2.29  5.64  1.04  3.92   \n",
      "1   1  13.20  1.78  2.14  11.2  100  2.65  2.76  0.26  1.28  4.38  1.05  3.40   \n",
      "2   1  13.16  2.36  2.67  18.6  101  2.80  3.24  0.30  2.81  5.68  1.03  3.17   \n",
      "3   1  14.37  1.95  2.50  16.8  113  3.85  3.49  0.24  2.18  7.80  0.86  3.45   \n",
      "4   1  13.24  2.59  2.87  21.0  118  2.80  2.69  0.39  1.82  4.32  1.04  2.93   \n",
      "\n",
      "     13  \n",
      "0  1065  \n",
      "1  1050  \n",
      "2  1185  \n",
      "3  1480  \n",
      "4   735  \n",
      "class label: [1 2 3]\n"
     ]
    },
    {
     "data": {
      "text/html": [
       "<div>\n",
       "<style scoped>\n",
       "    .dataframe tbody tr th:only-of-type {\n",
       "        vertical-align: middle;\n",
       "    }\n",
       "\n",
       "    .dataframe tbody tr th {\n",
       "        vertical-align: top;\n",
       "    }\n",
       "\n",
       "    .dataframe thead th {\n",
       "        text-align: right;\n",
       "    }\n",
       "</style>\n",
       "<table border=\"1\" class=\"dataframe\">\n",
       "  <thead>\n",
       "    <tr style=\"text-align: right;\">\n",
       "      <th></th>\n",
       "      <th>class label</th>\n",
       "      <th>alchohol</th>\n",
       "      <th>malic acid</th>\n",
       "      <th>ash</th>\n",
       "      <th>alcalinity of ash</th>\n",
       "      <th>magnesium</th>\n",
       "      <th>total phenols</th>\n",
       "      <th>flavanoids</th>\n",
       "      <th>nonflavanoid phenols</th>\n",
       "      <th>proanthocyanins</th>\n",
       "      <th>color intensity</th>\n",
       "      <th>hue</th>\n",
       "      <th>OD208</th>\n",
       "      <th>proline</th>\n",
       "    </tr>\n",
       "  </thead>\n",
       "  <tbody>\n",
       "    <tr>\n",
       "      <th>0</th>\n",
       "      <td>1</td>\n",
       "      <td>14.23</td>\n",
       "      <td>1.71</td>\n",
       "      <td>2.43</td>\n",
       "      <td>15.6</td>\n",
       "      <td>127</td>\n",
       "      <td>2.80</td>\n",
       "      <td>3.06</td>\n",
       "      <td>0.28</td>\n",
       "      <td>2.29</td>\n",
       "      <td>5.64</td>\n",
       "      <td>1.04</td>\n",
       "      <td>3.92</td>\n",
       "      <td>1065</td>\n",
       "    </tr>\n",
       "    <tr>\n",
       "      <th>1</th>\n",
       "      <td>1</td>\n",
       "      <td>13.20</td>\n",
       "      <td>1.78</td>\n",
       "      <td>2.14</td>\n",
       "      <td>11.2</td>\n",
       "      <td>100</td>\n",
       "      <td>2.65</td>\n",
       "      <td>2.76</td>\n",
       "      <td>0.26</td>\n",
       "      <td>1.28</td>\n",
       "      <td>4.38</td>\n",
       "      <td>1.05</td>\n",
       "      <td>3.40</td>\n",
       "      <td>1050</td>\n",
       "    </tr>\n",
       "    <tr>\n",
       "      <th>2</th>\n",
       "      <td>1</td>\n",
       "      <td>13.16</td>\n",
       "      <td>2.36</td>\n",
       "      <td>2.67</td>\n",
       "      <td>18.6</td>\n",
       "      <td>101</td>\n",
       "      <td>2.80</td>\n",
       "      <td>3.24</td>\n",
       "      <td>0.30</td>\n",
       "      <td>2.81</td>\n",
       "      <td>5.68</td>\n",
       "      <td>1.03</td>\n",
       "      <td>3.17</td>\n",
       "      <td>1185</td>\n",
       "    </tr>\n",
       "    <tr>\n",
       "      <th>3</th>\n",
       "      <td>1</td>\n",
       "      <td>14.37</td>\n",
       "      <td>1.95</td>\n",
       "      <td>2.50</td>\n",
       "      <td>16.8</td>\n",
       "      <td>113</td>\n",
       "      <td>3.85</td>\n",
       "      <td>3.49</td>\n",
       "      <td>0.24</td>\n",
       "      <td>2.18</td>\n",
       "      <td>7.80</td>\n",
       "      <td>0.86</td>\n",
       "      <td>3.45</td>\n",
       "      <td>1480</td>\n",
       "    </tr>\n",
       "    <tr>\n",
       "      <th>4</th>\n",
       "      <td>1</td>\n",
       "      <td>13.24</td>\n",
       "      <td>2.59</td>\n",
       "      <td>2.87</td>\n",
       "      <td>21.0</td>\n",
       "      <td>118</td>\n",
       "      <td>2.80</td>\n",
       "      <td>2.69</td>\n",
       "      <td>0.39</td>\n",
       "      <td>1.82</td>\n",
       "      <td>4.32</td>\n",
       "      <td>1.04</td>\n",
       "      <td>2.93</td>\n",
       "      <td>735</td>\n",
       "    </tr>\n",
       "  </tbody>\n",
       "</table>\n",
       "</div>"
      ],
      "text/plain": [
       "   class label  alchohol  malic acid   ash  alcalinity of ash  magnesium  \\\n",
       "0            1     14.23        1.71  2.43               15.6        127   \n",
       "1            1     13.20        1.78  2.14               11.2        100   \n",
       "2            1     13.16        2.36  2.67               18.6        101   \n",
       "3            1     14.37        1.95  2.50               16.8        113   \n",
       "4            1     13.24        2.59  2.87               21.0        118   \n",
       "\n",
       "   total phenols  flavanoids  nonflavanoid phenols  proanthocyanins  \\\n",
       "0           2.80        3.06                  0.28             2.29   \n",
       "1           2.65        2.76                  0.26             1.28   \n",
       "2           2.80        3.24                  0.30             2.81   \n",
       "3           3.85        3.49                  0.24             2.18   \n",
       "4           2.80        2.69                  0.39             1.82   \n",
       "\n",
       "   color intensity   hue  OD208  proline  \n",
       "0             5.64  1.04   3.92     1065  \n",
       "1             4.38  1.05   3.40     1050  \n",
       "2             5.68  1.03   3.17     1185  \n",
       "3             7.80  0.86   3.45     1480  \n",
       "4             4.32  1.04   2.93      735  "
      ]
     },
     "execution_count": 2,
     "metadata": {},
     "output_type": "execute_result"
    }
   ],
   "source": [
    "# 와인 데이터\n",
    "# 데이터 불러오기. y값은 이미 범주형으로 되어있음.\n",
    "# y class (1,2,3) 3개, 특성변수 x 13개\n",
    "dat_wine=pd.read_csv('http://archive.ics.uci.edu/ml/machine-learning-databases/'\n",
    "                     'wine/wine.data',header=None)\n",
    "print(dat_wine.head())\n",
    "dat_wine.columns = ['class label', 'alchohol', 'malic acid', 'ash', \n",
    "                    'alcalinity of ash', 'magnesium', 'total phenols', \n",
    "                    'flavanoids', 'nonflavanoid phenols', \n",
    "                    'proanthocyanins', 'color intensity', 'hue', \n",
    "                    'OD208', 'proline']  # Column names\n",
    "print('class label:', np.unique(dat_wine['class label']))  # Class 출력\n",
    "dat_wine.head()"
   ]
  },
  {
   "cell_type": "code",
   "execution_count": 3,
   "id": "2a4e2850",
   "metadata": {},
   "outputs": [
    {
     "name": "stdout",
     "output_type": "stream",
     "text": [
      "(178, 14)\n"
     ]
    }
   ],
   "source": [
    "print(dat_wine.shape)"
   ]
  },
  {
   "cell_type": "code",
   "execution_count": 35,
   "id": "db538718",
   "metadata": {},
   "outputs": [],
   "source": [
    "# 전체 data를 training set과 test set으로 split\n",
    "from sklearn.model_selection import train_test_split\n",
    "X, y = dat_wine.iloc[:,1:].values, dat_wine.iloc[:,0].values\n",
    "X_train, X_test, y_train,y_test = \\\n",
    "    train_test_split(X, y, test_size=0.3, random_state=1, stratify=y)"
   ]
  },
  {
   "cell_type": "markdown",
   "id": "62e3558b",
   "metadata": {},
   "source": [
    "## gini"
   ]
  },
  {
   "cell_type": "code",
   "execution_count": 36,
   "id": "15fed6b8",
   "metadata": {},
   "outputs": [],
   "source": [
    "# 3\n",
    "from sklearn import tree  # 또는 from sklearn import DecisionTreeClassifier\n",
    "dtc = tree.DecisionTreeClassifier(criterion='gini', max_depth=3, random_state=1)\n",
    "result=dtc.fit(X_train, y_train)\n",
    "y_train_pred = dtc.predict(X_train)  # Training accuracy\n",
    "y_test_pred = dtc.predict(X_test)    # Test accuracy"
   ]
  },
  {
   "cell_type": "code",
   "execution_count": 37,
   "id": "7859eda6",
   "metadata": {},
   "outputs": [
    {
     "data": {
      "text/plain": [
       "[Text(125.55000000000001, 190.26, 'color intensity <= 3.46\\ngini = 0.657\\nsamples = 124\\nvalue = [41, 50, 33]\\nclass = 2'),\n",
       " Text(83.7, 135.9, 'gini = 0.0\\nsamples = 40\\nvalue = [0, 40, 0]\\nclass = 2'),\n",
       " Text(167.4, 135.9, 'flavanoids <= 1.58\\ngini = 0.593\\nsamples = 84\\nvalue = [41, 10, 33]\\nclass = 1'),\n",
       " Text(83.7, 81.53999999999999, 'hue <= 0.97\\ngini = 0.108\\nsamples = 35\\nvalue = [0, 2, 33]\\nclass = 3'),\n",
       " Text(41.85, 27.180000000000007, 'gini = 0.0\\nsamples = 33\\nvalue = [0, 0, 33]\\nclass = 3'),\n",
       " Text(125.55000000000001, 27.180000000000007, 'gini = 0.0\\nsamples = 2\\nvalue = [0, 2, 0]\\nclass = 2'),\n",
       " Text(251.10000000000002, 81.53999999999999, 'proline <= 706.5\\ngini = 0.273\\nsamples = 49\\nvalue = [41, 8, 0]\\nclass = 1'),\n",
       " Text(209.25, 27.180000000000007, 'gini = 0.0\\nsamples = 8\\nvalue = [0, 8, 0]\\nclass = 2'),\n",
       " Text(292.95, 27.180000000000007, 'gini = 0.0\\nsamples = 41\\nvalue = [41, 0, 0]\\nclass = 1')]"
      ]
     },
     "execution_count": 37,
     "metadata": {},
     "output_type": "execute_result"
    },
    {
     "data": {
      "image/png": "[encoded data removed]",
      "text/plain": [
       "<Figure size 432x288 with 1 Axes>"
      ]
     },
     "metadata": {
      "needs_background": "light"
     },
     "output_type": "display_data"
    }
   ],
   "source": [
    "#tree.plot_tree(dtc.fit(X_train,y_train))\n",
    "tree.plot_tree(result, class_names=['1', '2', '3'],feature_names=['alchohol', 'malic acid', 'ash', \n",
    "                    'alcalinity of ash', 'magnesium', 'total phenols', \n",
    "                    'flavanoids', 'nonflavanoid phenols', \n",
    "                    'proanthocyanins', 'color intensity', 'hue', \n",
    "                    'OD208', 'proline'])"
   ]
  },
  {
   "cell_type": "code",
   "execution_count": 39,
   "id": "87266861",
   "metadata": {},
   "outputs": [
    {
     "data": {
      "image/png": "[encoded data removed]",
      "text/plain": [
       "<IPython.core.display.Image object>"
      ]
     },
     "execution_count": 39,
     "metadata": {},
     "output_type": "execute_result"
    }
   ],
   "source": [
    "# Graphic\n",
    "from pydotplus import graph_from_dot_data  # \"pydotplus\"는 따로 설치해야 함.\n",
    "from sklearn.tree import export_graphviz\n",
    "dot_data = export_graphviz(dtc, filled=True, rounded=True,\n",
    "                           class_names=['1', '2', '3'], \n",
    "                           feature_names=['alchohol', 'malic acid', 'ash', \n",
    "                    'alcalinity of ash', 'magnesium', 'total phenols', \n",
    "                    'flavanoids', 'nonflavanoid phenols', \n",
    "                    'proanthocyanins', 'color intensity', 'hue', \n",
    "                    'OD208', 'proline'],\n",
    "                           out_file=None)\n",
    "graph = graph_from_dot_data(dot_data)\n",
    "# graph.write_png('tree.png')  # 현재경로(import os 엔터 os.getcwd()로 확인)에 저 장\n",
    "\n",
    "\n",
    "from IPython.display import Image \n",
    "Image(graph.create_png())   # Console 창에 결과 그림 출력"
   ]
  },
  {
   "cell_type": "code",
   "execution_count": 7,
   "id": "e2a2c3e9",
   "metadata": {},
   "outputs": [
    {
     "name": "stdout",
     "output_type": "stream",
     "text": [
      "1.0\n",
      "0.9629629629629629\n"
     ]
    }
   ],
   "source": [
    "# Accuracy score\n",
    "from sklearn import metrics\n",
    "print(metrics.accuracy_score(y_train, y_train_pred))\n",
    "print(metrics.accuracy_score(y_test, y_test_pred))"
   ]
  },
  {
   "cell_type": "code",
   "execution_count": 8,
   "id": "d6b88ada",
   "metadata": {},
   "outputs": [],
   "source": [
    "# 2\n",
    "from sklearn import tree  # 또는 from sklearn import DecisionTreeClassifier\n",
    "dtc = tree.DecisionTreeClassifier(criterion='gini', max_depth=2, random_state=1)\n",
    "result=dtc.fit(X_train, y_train)\n",
    "y_train_pred = dtc.predict(X_train)  # Training accuracy\n",
    "y_test_pred = dtc.predict(X_test)    # Test accuracy"
   ]
  },
  {
   "cell_type": "code",
   "execution_count": 9,
   "id": "dab276f8",
   "metadata": {},
   "outputs": [
    {
     "name": "stdout",
     "output_type": "stream",
     "text": [
      "0.9193548387096774\n",
      "0.8888888888888888\n"
     ]
    }
   ],
   "source": [
    "# Accuracy score\n",
    "from sklearn import metrics\n",
    "print(metrics.accuracy_score(y_train, y_train_pred))\n",
    "print(metrics.accuracy_score(y_test, y_test_pred))"
   ]
  },
  {
   "cell_type": "code",
   "execution_count": 14,
   "id": "877ab864",
   "metadata": {},
   "outputs": [],
   "source": [
    "# 6\n",
    "from sklearn import tree  # 또는 from sklearn import DecisionTreeClassifier\n",
    "dtc = tree.DecisionTreeClassifier(criterion='gini', max_depth=6, random_state=1)\n",
    "result=dtc.fit(X_train, y_train)\n",
    "y_train_pred = dtc.predict(X_train)  # Training accuracy\n",
    "y_test_pred = dtc.predict(X_test)    # Test accuracy"
   ]
  },
  {
   "cell_type": "code",
   "execution_count": 15,
   "id": "53869d68",
   "metadata": {},
   "outputs": [
    {
     "name": "stdout",
     "output_type": "stream",
     "text": [
      "1.0\n",
      "0.9629629629629629\n"
     ]
    }
   ],
   "source": [
    "# Accuracy score\n",
    "from sklearn import metrics\n",
    "print(metrics.accuracy_score(y_train, y_train_pred))\n",
    "print(metrics.accuracy_score(y_test, y_test_pred))"
   ]
  },
  {
   "cell_type": "markdown",
   "id": "1825a75d",
   "metadata": {},
   "source": [
    "## entropy"
   ]
  },
  {
   "cell_type": "code",
   "execution_count": 16,
   "id": "45349992",
   "metadata": {},
   "outputs": [],
   "source": [
    "# 2\n",
    "from sklearn import tree  # 또는 from sklearn import DecisionTreeClassifier\n",
    "dtc = tree.DecisionTreeClassifier(criterion='entropy', max_depth=2, random_state=1)\n",
    "result=dtc.fit(X_train, y_train)\n",
    "y_train_pred = dtc.predict(X_train)  # Training accuracy\n",
    "y_test_pred = dtc.predict(X_test)    # Test accuracy"
   ]
  },
  {
   "cell_type": "code",
   "execution_count": 17,
   "id": "c2aac65a",
   "metadata": {},
   "outputs": [
    {
     "name": "stdout",
     "output_type": "stream",
     "text": [
      "0.9354838709677419\n",
      "0.8333333333333334\n"
     ]
    }
   ],
   "source": [
    "# Accuracy score\n",
    "from sklearn import metrics\n",
    "print(metrics.accuracy_score(y_train, y_train_pred))\n",
    "print(metrics.accuracy_score(y_test, y_test_pred))"
   ]
  },
  {
   "cell_type": "code",
   "execution_count": 18,
   "id": "8bb27f78",
   "metadata": {},
   "outputs": [],
   "source": [
    "# 3\n",
    "from sklearn import tree  # 또는 from sklearn import DecisionTreeClassifier\n",
    "dtc = tree.DecisionTreeClassifier(criterion='entropy', max_depth=3, random_state=1)\n",
    "result=dtc.fit(X_train, y_train)\n",
    "y_train_pred = dtc.predict(X_train)  # Training accuracy\n",
    "y_test_pred = dtc.predict(X_test)    # Test accuracy"
   ]
  },
  {
   "cell_type": "code",
   "execution_count": 19,
   "id": "2eb66428",
   "metadata": {},
   "outputs": [
    {
     "name": "stdout",
     "output_type": "stream",
     "text": [
      "0.9919354838709677\n",
      "0.9074074074074074\n"
     ]
    }
   ],
   "source": [
    "# Accuracy score\n",
    "from sklearn import metrics\n",
    "print(metrics.accuracy_score(y_train, y_train_pred))\n",
    "print(metrics.accuracy_score(y_test, y_test_pred))"
   ]
  },
  {
   "cell_type": "code",
   "execution_count": 24,
   "id": "6e0dfca5",
   "metadata": {},
   "outputs": [],
   "source": [
    "# 5\n",
    "from sklearn import tree  # 또는 from sklearn import DecisionTreeClassifier\n",
    "dtc = tree.DecisionTreeClassifier(criterion='entropy', max_depth=5, random_state=1)\n",
    "result=dtc.fit(X_train, y_train)\n",
    "y_train_pred = dtc.predict(X_train)  # Training accuracy\n",
    "y_test_pred = dtc.predict(X_test)    # Test accuracy"
   ]
  },
  {
   "cell_type": "code",
   "execution_count": 25,
   "id": "344a98cb",
   "metadata": {},
   "outputs": [
    {
     "name": "stdout",
     "output_type": "stream",
     "text": [
      "1.0\n",
      "0.9074074074074074\n"
     ]
    }
   ],
   "source": [
    "# Accuracy score\n",
    "from sklearn import metrics\n",
    "print(metrics.accuracy_score(y_train, y_train_pred))\n",
    "print(metrics.accuracy_score(y_test, y_test_pred))"
   ]
  },
  {
   "cell_type": "markdown",
   "id": "367167d3",
   "metadata": {},
   "source": [
    "## 표준화"
   ]
  },
  {
   "cell_type": "code",
   "execution_count": 26,
   "id": "b6a1f429",
   "metadata": {},
   "outputs": [],
   "source": [
    "# 표준화\n",
    "from sklearn.preprocessing import StandardScaler\n",
    "sc = StandardScaler()\n",
    "sc.fit(X_train)\n",
    "X_train_std = sc.transform(X_train)\n",
    "X_test_std = sc.transform(X_test)"
   ]
  },
  {
   "cell_type": "code",
   "execution_count": 33,
   "id": "bdc50e90",
   "metadata": {},
   "outputs": [],
   "source": [
    "# 3\n",
    "from sklearn import tree  # 또는 from sklearn import DecisionTreeClassifier\n",
    "dtc = tree.DecisionTreeClassifier(criterion='gini', max_depth=3, random_state=1)\n",
    "result=dtc.fit(X_train_std, y_train)\n",
    "y_train_pred = dtc.predict(X_train_std)  # Training accuracy\n",
    "y_test_pred = dtc.predict(X_test_std)    # Test accuracy"
   ]
  },
  {
   "cell_type": "code",
   "execution_count": 34,
   "id": "94066aa6",
   "metadata": {},
   "outputs": [
    {
     "name": "stdout",
     "output_type": "stream",
     "text": [
      "1.0\n",
      "0.9629629629629629\n"
     ]
    }
   ],
   "source": [
    "# Accuracy score\n",
    "from sklearn import metrics\n",
    "print(metrics.accuracy_score(y_train, y_train_pred))\n",
    "print(metrics.accuracy_score(y_test, y_test_pred))"
   ]
  },
  {
   "cell_type": "code",
   "execution_count": null,
   "id": "0bb881f5",
   "metadata": {},
   "outputs": [],
   "source": []
  }
 ],
 "metadata": {
  "kernelspec": {
   "display_name": "Python 3",
   "language": "python",
   "name": "python3"
  },
  "language_info": {
   "codemirror_mode": {
    "name": "ipython",
    "version": 3
   },
   "file_extension": ".py",
   "mimetype": "text/x-python",
   "name": "python",
   "nbconvert_exporter": "python",
   "pygments_lexer": "ipython3",
   "version": "3.8.8"
  }
 },
 "nbformat": 4,
 "nbformat_minor": 5
}
