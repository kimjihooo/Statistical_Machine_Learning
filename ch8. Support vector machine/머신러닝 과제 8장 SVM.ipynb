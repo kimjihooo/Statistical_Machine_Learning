{
 "cells": [
  {
   "cell_type": "markdown",
   "id": "11fdfa0b",
   "metadata": {},
   "source": [
    "# 선형 SVM\n",
    "\n",
    "c가 크면 목적함수 커지고, 밴드 넓이 좁아짐\n",
    "\n",
    "\n",
    "c가 작으면 목적함수 작아지고, 밴드 넓이 넓어짐"
   ]
  },
  {
   "cell_type": "code",
   "execution_count": 1,
   "id": "a781588d",
   "metadata": {},
   "outputs": [],
   "source": [
    "##5장에서 사용한 iris data 사용\n",
    "\n",
    "import seaborn as sns\n",
    "iris=sns.load_dataset('iris') # iris data 불러오기\n",
    "X=iris.drop('species',axis=1) # 특성변수만으로 구성된 X data Frame 생성\n",
    "y=iris['species']             # 분류의 목적 변수만으로 구성된 y data Frame생성\n",
    "\n",
    "from sklearn.preprocessing import LabelEncoder #범주형 변수 숫자로 치환하는 함수 호출\n",
    "classle=LabelEncoder()\n",
    "y=classle.fit_transform(iris['species'].values)#범주형 변수 숫자로 치환\n",
    "\n",
    "from sklearn.model_selection import train_test_split #train set과 test set으로 데이터 나누기 위한 함수 호출\n",
    "X_train,X_test,y_train,y_test=train_test_split(X,y, test_size=0.3, random_state=123, stratify=y)\n",
    "\n",
    "from sklearn.preprocessing import StandardScaler #data의 표준화 함수 호출.\n",
    "sc=StandardScaler()\n",
    "sc.fit(X_train)\n",
    "X_train_std=sc.transform(X_train)\n",
    "X_test_std=sc.transform(X_test)"
   ]
  },
  {
   "cell_type": "code",
   "execution_count": 2,
   "id": "76b54d61",
   "metadata": {},
   "outputs": [],
   "source": [
    "# c=1\n",
    "from sklearn.svm import SVC #SVM함수의 호출\n",
    "svm=SVC(kernel='linear',C=1.0,random_state=1)\n",
    "svm.fit(X_train,y_train) #SVM추정\n",
    "y_train_pred=svm.predict(X_train) #train set의 y 예측치 구하기\n",
    "y_test_pred=svm.predict(X_test)  #test set의 y예측치 구하기"
   ]
  },
  {
   "cell_type": "code",
   "execution_count": 3,
   "id": "878abe83",
   "metadata": {},
   "outputs": [
    {
     "name": "stdout",
     "output_type": "stream",
     "text": [
      "0.9904761904761905\n",
      "0.9777777777777777\n"
     ]
    }
   ],
   "source": [
    "from sklearn import metrics\n",
    "print(metrics.accuracy_score(y_train,y_train_pred)) # train\n",
    "print(metrics.accuracy_score(y_test,y_test_pred)) # test"
   ]
  },
  {
   "cell_type": "code",
   "execution_count": 4,
   "id": "d8cab99d",
   "metadata": {},
   "outputs": [
    {
     "name": "stdout",
     "output_type": "stream",
     "text": [
      "[ 21  43 101   8  23  33  38  42  54  58  76  82  85   5  10  19  27  41\n",
      "  59  60  95]\n",
      "[ 3 10  8]\n"
     ]
    }
   ],
   "source": [
    "# support vector 수\n",
    "print(svm.support_)\n",
    "print(svm.n_support_)"
   ]
  },
  {
   "cell_type": "code",
   "execution_count": 5,
   "id": "f36b9a15",
   "metadata": {},
   "outputs": [],
   "source": [
    "# c=1000\n",
    "from sklearn.svm import SVC #SVM함수의 호출\n",
    "svm=SVC(kernel='linear',C=1000,random_state=1)\n",
    "svm.fit(X_train,y_train) #SVM추정\n",
    "y_train_pred=svm.predict(X_train) #train set의 y 예측치 구하기\n",
    "y_test_pred=svm.predict(X_test)  #test set의 y예측치 구하기"
   ]
  },
  {
   "cell_type": "code",
   "execution_count": 6,
   "id": "bb3889a5",
   "metadata": {},
   "outputs": [
    {
     "name": "stdout",
     "output_type": "stream",
     "text": [
      "0.9904761904761905\n",
      "0.9333333333333333\n"
     ]
    }
   ],
   "source": [
    "from sklearn import metrics\n",
    "print(metrics.accuracy_score(y_train,y_train_pred)) # train\n",
    "print(metrics.accuracy_score(y_test,y_test_pred)) # test"
   ]
  },
  {
   "cell_type": "code",
   "execution_count": 7,
   "id": "08dbb6cf",
   "metadata": {},
   "outputs": [
    {
     "name": "stdout",
     "output_type": "stream",
     "text": [
      "[ 21  43 101   8  23  76  85  27  41  60]\n",
      "[3 4 3]\n"
     ]
    }
   ],
   "source": [
    "# support vector 수\n",
    "print(svm.support_)\n",
    "print(svm.n_support_)"
   ]
  },
  {
   "cell_type": "markdown",
   "id": "ed560b9d",
   "metadata": {},
   "source": [
    "오버피팅이고 sv의 개수 줄어듦 "
   ]
  },
  {
   "cell_type": "code",
   "execution_count": 8,
   "id": "e39be9f8",
   "metadata": {},
   "outputs": [],
   "source": [
    "# c=0.001\n",
    "from sklearn.svm import SVC #SVM함수의 호출\n",
    "svm=SVC(kernel='linear',C=0.001,random_state=1)\n",
    "svm.fit(X_train,y_train) #SVM추정\n",
    "y_train_pred=svm.predict(X_train) #train set의 y 예측치 구하기\n",
    "y_test_pred=svm.predict(X_test)  #test set의 y예측치 구하기"
   ]
  },
  {
   "cell_type": "code",
   "execution_count": 9,
   "id": "c2f49d54",
   "metadata": {},
   "outputs": [
    {
     "name": "stdout",
     "output_type": "stream",
     "text": [
      "0.9238095238095239\n",
      "0.9111111111111111\n"
     ]
    }
   ],
   "source": [
    "from sklearn import metrics\n",
    "print(metrics.accuracy_score(y_train,y_train_pred)) # train\n",
    "print(metrics.accuracy_score(y_test,y_test_pred)) # test"
   ]
  },
  {
   "cell_type": "code",
   "execution_count": 10,
   "id": "d2ff6e12",
   "metadata": {},
   "outputs": [
    {
     "name": "stdout",
     "output_type": "stream",
     "text": [
      "[  1   4   6   9  13  14  15  16  17  18  21  24  26  35  43  44  47  50\n",
      "  52  53  61  62  66  68  73  74  75  86  87  92  93  99 101 102 103   0\n",
      "   2   8  23  25  29  33  34  36  37  38  39  40  42  46  48  54  55  56\n",
      "  58  69  70  76  77  79  82  83  84  85  88  89  94  96  98 100   3   5\n",
      "   7  10  11  12  19  20  22  27  28  30  31  32  41  45  49  51  57  59\n",
      "  60  63  64  65  67  71  72  78  80  81  90  91  95  97 104]\n",
      "[35 35 35]\n"
     ]
    }
   ],
   "source": [
    "# support vector 수\n",
    "print(svm.support_)\n",
    "print(svm.n_support_)"
   ]
  },
  {
   "cell_type": "markdown",
   "id": "cfc64135",
   "metadata": {},
   "source": [
    "# 비선형 SVM"
   ]
  },
  {
   "cell_type": "markdown",
   "id": "c2bdc5ad",
   "metadata": {},
   "source": [
    "감마가 크면 분산이 작아지고 뾰족한 형태, 비선형성이 강하고 오버피팅\n",
    "\n",
    "감마가 작으면 분산이 커지고 선형의 형태 선형이 강해진다"
   ]
  },
  {
   "cell_type": "markdown",
   "id": "e8820f58",
   "metadata": {},
   "source": [
    "## 1. rbf 방사형기저함수"
   ]
  },
  {
   "cell_type": "code",
   "execution_count": 11,
   "id": "6fa6a6b8",
   "metadata": {},
   "outputs": [],
   "source": [
    "ksvm=SVC(kernel='rbf',C=1.0,gamma=50,random_state=42)\n",
    "ksvm.fit(X_train,y_train)\n",
    "y_train_pred=ksvm.predict(X_train) # kernel SVM을 이용한 train set의 y 예측치 구하기\n",
    "y_test_pred=ksvm.predict(X_test) # kernel SVM을 이용한 #test set의 y예측치 구하기"
   ]
  },
  {
   "cell_type": "code",
   "execution_count": 12,
   "id": "26735f0d",
   "metadata": {},
   "outputs": [
    {
     "name": "stdout",
     "output_type": "stream",
     "text": [
      "1.0\n",
      "0.6888888888888889\n"
     ]
    }
   ],
   "source": [
    "from sklearn import metrics\n",
    "print(metrics.accuracy_score(y_train,y_train_pred)) # train\n",
    "print(metrics.accuracy_score(y_test,y_test_pred)) # test"
   ]
  },
  {
   "cell_type": "code",
   "execution_count": 13,
   "id": "bcbabd09",
   "metadata": {},
   "outputs": [
    {
     "name": "stdout",
     "output_type": "stream",
     "text": [
      "[  1   4   6   9  13  14  15  16  17  18  21  24  26  35  43  44  47  50\n",
      "  52  53  61  62  66  68  73  74  75  86  87  92  93  99 101 102 103   0\n",
      "   2   8  23  25  29  33  34  36  37  38  39  40  42  46  48  54  55  56\n",
      "  58  69  70  76  77  79  82  83  84  85  88  89  94  96  98 100   3   5\n",
      "   7  10  11  12  19  20  22  27  28  30  31  32  41  45  49  51  57  59\n",
      "  60  63  64  65  67  71  72  78  80  81  90  91  95  97 104]\n",
      "[35 35 35]\n"
     ]
    }
   ],
   "source": [
    "# support vector 수\n",
    "print(ksvm.support_)\n",
    "print(ksvm.n_support_)"
   ]
  },
  {
   "cell_type": "markdown",
   "id": "55afd52c",
   "metadata": {},
   "source": [
    "## 2. poly"
   ]
  },
  {
   "cell_type": "code",
   "execution_count": 20,
   "id": "2d786ea8",
   "metadata": {},
   "outputs": [],
   "source": [
    "ksvm=SVC(kernel='poly',C=1.0,gamma=0.005,random_state=42)\n",
    "ksvm.fit(X_train,y_train)\n",
    "y_train_pred=ksvm.predict(X_train) # kernel SVM을 이용한 train set의 y 예측치 구하기\n",
    "y_test_pred=ksvm.predict(X_test) # kernel SVM을 이용한 #test set의 y예측치 구하기"
   ]
  },
  {
   "cell_type": "code",
   "execution_count": 21,
   "id": "0ef785f9",
   "metadata": {
    "scrolled": true
   },
   "outputs": [
    {
     "name": "stdout",
     "output_type": "stream",
     "text": [
      "0.7714285714285715\n",
      "0.7555555555555555\n"
     ]
    }
   ],
   "source": [
    "from sklearn import metrics\n",
    "print(metrics.accuracy_score(y_train,y_train_pred)) # train\n",
    "print(metrics.accuracy_score(y_test,y_test_pred)) # test"
   ]
  },
  {
   "cell_type": "markdown",
   "id": "6d584ad8",
   "metadata": {},
   "source": [
    "## 3. sigmoid"
   ]
  },
  {
   "cell_type": "code",
   "execution_count": 34,
   "id": "5a8423ff",
   "metadata": {},
   "outputs": [],
   "source": [
    "ksvm=SVC(kernel='sigmoid',C=1.0,gamma=0.0005,random_state=42)\n",
    "ksvm.fit(X_train,y_train)\n",
    "y_train_pred=ksvm.predict(X_train) # kernel SVM을 이용한 train set의 y 예측치 구하기\n",
    "y_test_pred=ksvm.predict(X_test) # kernel SVM을 이용한 #test set의 y예측치 구하기"
   ]
  },
  {
   "cell_type": "code",
   "execution_count": 35,
   "id": "931b1bfe",
   "metadata": {},
   "outputs": [
    {
     "name": "stdout",
     "output_type": "stream",
     "text": [
      "0.9238095238095239\n",
      "0.9111111111111111\n"
     ]
    }
   ],
   "source": [
    "from sklearn import metrics\n",
    "print(metrics.accuracy_score(y_train,y_train_pred)) # train\n",
    "print(metrics.accuracy_score(y_test,y_test_pred)) # test"
   ]
  },
  {
   "cell_type": "code",
   "execution_count": null,
   "id": "0c54bda2",
   "metadata": {},
   "outputs": [],
   "source": []
  }
 ],
 "metadata": {
  "kernelspec": {
   "display_name": "Python 3",
   "language": "python",
   "name": "python3"
  },
  "language_info": {
   "codemirror_mode": {
    "name": "ipython",
    "version": 3
   },
   "file_extension": ".py",
   "mimetype": "text/x-python",
   "name": "python",
   "nbconvert_exporter": "python",
   "pygments_lexer": "ipython3",
   "version": "3.8.8"
  }
 },
 "nbformat": 4,
 "nbformat_minor": 5
}
