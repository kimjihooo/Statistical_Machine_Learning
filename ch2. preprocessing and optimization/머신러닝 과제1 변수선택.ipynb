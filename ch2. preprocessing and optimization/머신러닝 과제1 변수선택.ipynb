{
 "cells": [
  {
   "cell_type": "code",
   "execution_count": 2,
   "id": "e7a0b580",
   "metadata": {},
   "outputs": [
    {
     "data": {
      "text/plain": [
       "(1797, 64)"
      ]
     },
     "execution_count": 2,
     "metadata": {},
     "output_type": "execute_result"
    }
   ],
   "source": [
    "from sklearn.datasets import load_digits\n",
    "from sklearn.feature_selection import SelectKBest, chi2, f_classif, mutual_info_classif\n",
    "x,y=load_digits(return_X_y=True)\n",
    "x.shape"
   ]
  },
  {
   "cell_type": "code",
   "execution_count": 3,
   "id": "a3fcd015",
   "metadata": {},
   "outputs": [
    {
     "data": {
      "text/plain": [
       "(1797,)"
      ]
     },
     "execution_count": 3,
     "metadata": {},
     "output_type": "execute_result"
    }
   ],
   "source": [
    "y.shape"
   ]
  },
  {
   "cell_type": "code",
   "execution_count": 4,
   "id": "bc5e5a2a",
   "metadata": {},
   "outputs": [
    {
     "data": {
      "text/plain": [
       "array([[ 0.,  0.,  5., ...,  0.,  0.,  0.],\n",
       "       [ 0.,  0.,  0., ..., 10.,  0.,  0.],\n",
       "       [ 0.,  0.,  0., ..., 16.,  9.,  0.],\n",
       "       ...,\n",
       "       [ 0.,  0.,  1., ...,  6.,  0.,  0.],\n",
       "       [ 0.,  0.,  2., ..., 12.,  0.,  0.],\n",
       "       [ 0.,  0., 10., ..., 12.,  1.,  0.]])"
      ]
     },
     "execution_count": 4,
     "metadata": {},
     "output_type": "execute_result"
    }
   ],
   "source": [
    "x"
   ]
  },
  {
   "cell_type": "code",
   "execution_count": 5,
   "id": "6914af1f",
   "metadata": {},
   "outputs": [
    {
     "data": {
      "text/plain": [
       "array([0, 1, 2, ..., 8, 9, 8])"
      ]
     },
     "execution_count": 5,
     "metadata": {},
     "output_type": "execute_result"
    }
   ],
   "source": [
    "y"
   ]
  },
  {
   "cell_type": "code",
   "execution_count": 6,
   "id": "87bdbcc2",
   "metadata": {},
   "outputs": [
    {
     "name": "stdout",
     "output_type": "stream",
     "text": [
      "[[ 0.  0.  5. 13.  9.  1.  0.  0.  0.  0. 13. 15. 10. 15.  5.  0.  0.  3.\n",
      "  15.  2.  0. 11.  8.  0.  0.  4. 12.  0.  0.  8.  8.  0.  0.  5.  8.  0.\n",
      "   0.  9.  8.  0.  0.  4. 11.  0.  1. 12.  7.  0.  0.  2. 14.  5. 10. 12.\n",
      "   0.  0.  0.  0.  6. 13. 10.  0.  0.  0.]\n",
      " [ 0.  0.  0. 12. 13.  5.  0.  0.  0.  0.  0. 11. 16.  9.  0.  0.  0.  0.\n",
      "   3. 15. 16.  6.  0.  0.  0.  7. 15. 16. 16.  2.  0.  0.  0.  0.  1. 16.\n",
      "  16.  3.  0.  0.  0.  0.  1. 16. 16.  6.  0.  0.  0.  0.  1. 16. 16.  6.\n",
      "   0.  0.  0.  0.  0. 11. 16. 10.  0.  0.]]\n",
      "[0 1 2 3 4 5 6 7 8 9]\n"
     ]
    }
   ],
   "source": [
    "import numpy as np\n",
    "print(x[:2])\n",
    "print(np.unique(y))"
   ]
  },
  {
   "cell_type": "code",
   "execution_count": 15,
   "id": "0ce134f2",
   "metadata": {},
   "outputs": [],
   "source": [
    "import sklearn"
   ]
  },
  {
   "cell_type": "markdown",
   "id": "e57cfd69",
   "metadata": {},
   "source": [
    "1. chi2"
   ]
  },
  {
   "cell_type": "code",
   "execution_count": 13,
   "id": "1c12c9c7",
   "metadata": {},
   "outputs": [],
   "source": [
    "from sklearn.feature_selection import SelectKBest\n",
    "from sklearn.feature_selection import chi2"
   ]
  },
  {
   "cell_type": "code",
   "execution_count": 7,
   "id": "4ffa2ee1",
   "metadata": {},
   "outputs": [
    {
     "data": {
      "text/plain": [
       "(1797, 20)"
      ]
     },
     "execution_count": 7,
     "metadata": {},
     "output_type": "execute_result"
    }
   ],
   "source": [
    "sb=SelectKBest(score_func=chi2,k=20)\n",
    "x_new=sb.fit_transform(x,y)\n",
    "x_new.shape"
   ]
  },
  {
   "cell_type": "code",
   "execution_count": 23,
   "id": "f9678cf4",
   "metadata": {},
   "outputs": [
    {
     "data": {
      "text/plain": [
       "array([[ 1.,  0., 15., ...,  6.,  0.,  0.],\n",
       "       [ 5.,  0.,  9., ...,  0., 10.,  0.],\n",
       "       [12.,  0., 14., ...,  0., 16.,  9.],\n",
       "       ...,\n",
       "       [ 1.,  0.,  2., ...,  2.,  6.,  0.],\n",
       "       [ 0.,  0., 15., ...,  5., 12.,  0.],\n",
       "       [ 1.,  0.,  1., ...,  8., 12.,  1.]])"
      ]
     },
     "execution_count": 23,
     "metadata": {},
     "output_type": "execute_result"
    }
   ],
   "source": [
    "x_new"
   ]
  },
  {
   "cell_type": "code",
   "execution_count": 17,
   "id": "23532d3b",
   "metadata": {},
   "outputs": [
    {
     "data": {
      "text/plain": [
       "(array([          nan,  811.90700411, 3501.28249552,  698.9252572 ,\n",
       "         438.52969882, 3879.81925999, 3969.45823205, 1193.5608181 ,\n",
       "          24.79521396, 2953.83108764, 2583.65198939,  388.24205944,\n",
       "         824.69094853, 3676.48924765, 1983.5796061 ,  597.24198237,\n",
       "           8.95886124, 1924.21690377, 2409.27140681, 3556.31594594,\n",
       "        4871.94194551, 4782.19921618, 2155.17378998,  376.76583333,\n",
       "           7.90090158, 2471.82418401, 4515.48149826, 2986.64314847,\n",
       "        3724.09567634, 3208.64686641, 5138.07412439,   35.71270718,\n",
       "                  nan, 5688.25079535, 5262.46646904, 3165.0605867 ,\n",
       "        3231.63943369, 2532.99695611, 3288.81403655,           nan,\n",
       "         142.85082873, 3863.85787901, 6416.0867248 , 5448.25154235,\n",
       "        4079.73153383, 2134.02540236, 4486.34097862,  313.53898127,\n",
       "          70.39927392,  449.72327313, 2801.97224468, 1527.54519627,\n",
       "        1653.15892311, 3073.99803898, 5251.21748723,  683.88227339,\n",
       "           9.15254237,  851.06791492, 3800.2473108 ,  730.92975659,\n",
       "        1859.53966338, 4379.2250408 , 5059.00551511, 2281.32864013]),\n",
       " array([            nan, 5.81310493e-169, 0.00000000e+000, 1.17740541e-144,\n",
       "        8.11314242e-089, 0.00000000e+000, 0.00000000e+000, 2.97727113e-251,\n",
       "        3.20626273e-003, 0.00000000e+000, 0.00000000e+000, 4.41344943e-078,\n",
       "        1.02825052e-171, 0.00000000e+000, 0.00000000e+000, 8.18335060e-123,\n",
       "        4.41080315e-001, 0.00000000e+000, 0.00000000e+000, 0.00000000e+000,\n",
       "        0.00000000e+000, 0.00000000e+000, 0.00000000e+000, 1.23435651e-075,\n",
       "        5.44163062e-001, 0.00000000e+000, 0.00000000e+000, 0.00000000e+000,\n",
       "        0.00000000e+000, 0.00000000e+000, 0.00000000e+000, 4.45801029e-005,\n",
       "                    nan, 0.00000000e+000, 0.00000000e+000, 0.00000000e+000,\n",
       "        0.00000000e+000, 0.00000000e+000, 0.00000000e+000,             nan,\n",
       "        2.65875300e-026, 0.00000000e+000, 0.00000000e+000, 0.00000000e+000,\n",
       "        0.00000000e+000, 0.00000000e+000, 0.00000000e+000, 3.49452723e-062,\n",
       "        1.27145348e-011, 3.28604761e-091, 0.00000000e+000, 0.00000000e+000,\n",
       "        0.00000000e+000, 0.00000000e+000, 0.00000000e+000, 2.01600539e-141,\n",
       "        4.23314114e-001, 2.14859356e-177, 0.00000000e+000, 1.54562173e-151,\n",
       "        0.00000000e+000, 0.00000000e+000, 0.00000000e+000, 0.00000000e+000]))"
      ]
     },
     "execution_count": 17,
     "metadata": {},
     "output_type": "execute_result"
    }
   ],
   "source": [
    "sklearn.feature_selection.chi2(x, y)"
   ]
  },
  {
   "cell_type": "code",
   "execution_count": 9,
   "id": "36f6483e",
   "metadata": {},
   "outputs": [
    {
     "data": {
      "text/plain": [
       "array([False, False, False, False, False,  True,  True, False, False,\n",
       "       False, False, False, False,  True, False, False, False, False,\n",
       "       False,  True,  True,  True, False, False, False, False,  True,\n",
       "       False,  True, False,  True, False, False,  True,  True, False,\n",
       "       False, False, False, False, False,  True,  True,  True,  True,\n",
       "       False,  True, False, False, False, False, False, False, False,\n",
       "        True, False, False, False,  True, False, False,  True,  True,\n",
       "       False])"
      ]
     },
     "execution_count": 9,
     "metadata": {},
     "output_type": "execute_result"
    }
   ],
   "source": [
    "sb.get_support()"
   ]
  },
  {
   "cell_type": "code",
   "execution_count": 39,
   "id": "42c01f40",
   "metadata": {},
   "outputs": [
    {
     "data": {
      "text/plain": [
       "array([          nan,  811.90700411, 3501.28249552,  698.9252572 ,\n",
       "        438.52969882, 3879.81925999, 3969.45823205, 1193.5608181 ,\n",
       "         24.79521396, 2953.83108764, 2583.65198939,  388.24205944,\n",
       "        824.69094853, 3676.48924765, 1983.5796061 ,  597.24198237,\n",
       "          8.95886124, 1924.21690377, 2409.27140681, 3556.31594594,\n",
       "       4871.94194551, 4782.19921618, 2155.17378998,  376.76583333,\n",
       "          7.90090158, 2471.82418401, 4515.48149826, 2986.64314847,\n",
       "       3724.09567634, 3208.64686641, 5138.07412439,   35.71270718,\n",
       "                 nan, 5688.25079535, 5262.46646904, 3165.0605867 ,\n",
       "       3231.63943369, 2532.99695611, 3288.81403655,           nan,\n",
       "        142.85082873, 3863.85787901, 6416.0867248 , 5448.25154235,\n",
       "       4079.73153383, 2134.02540236, 4486.34097862,  313.53898127,\n",
       "         70.39927392,  449.72327313, 2801.97224468, 1527.54519627,\n",
       "       1653.15892311, 3073.99803898, 5251.21748723,  683.88227339,\n",
       "          9.15254237,  851.06791492, 3800.2473108 ,  730.92975659,\n",
       "       1859.53966338, 4379.2250408 , 5059.00551511, 2281.32864013])"
      ]
     },
     "execution_count": 39,
     "metadata": {},
     "output_type": "execute_result"
    }
   ],
   "source": [
    "sb.scores_"
   ]
  },
  {
   "cell_type": "code",
   "execution_count": 38,
   "id": "c0ccbbf5",
   "metadata": {},
   "outputs": [
    {
     "data": {
      "text/plain": [
       "array([            nan, 5.81310493e-169, 0.00000000e+000, 1.17740541e-144,\n",
       "       8.11314242e-089, 0.00000000e+000, 0.00000000e+000, 2.97727113e-251,\n",
       "       3.20626273e-003, 0.00000000e+000, 0.00000000e+000, 4.41344943e-078,\n",
       "       1.02825052e-171, 0.00000000e+000, 0.00000000e+000, 8.18335060e-123,\n",
       "       4.41080315e-001, 0.00000000e+000, 0.00000000e+000, 0.00000000e+000,\n",
       "       0.00000000e+000, 0.00000000e+000, 0.00000000e+000, 1.23435651e-075,\n",
       "       5.44163062e-001, 0.00000000e+000, 0.00000000e+000, 0.00000000e+000,\n",
       "       0.00000000e+000, 0.00000000e+000, 0.00000000e+000, 4.45801029e-005,\n",
       "                   nan, 0.00000000e+000, 0.00000000e+000, 0.00000000e+000,\n",
       "       0.00000000e+000, 0.00000000e+000, 0.00000000e+000,             nan,\n",
       "       2.65875300e-026, 0.00000000e+000, 0.00000000e+000, 0.00000000e+000,\n",
       "       0.00000000e+000, 0.00000000e+000, 0.00000000e+000, 3.49452723e-062,\n",
       "       1.27145348e-011, 3.28604761e-091, 0.00000000e+000, 0.00000000e+000,\n",
       "       0.00000000e+000, 0.00000000e+000, 0.00000000e+000, 2.01600539e-141,\n",
       "       4.23314114e-001, 2.14859356e-177, 0.00000000e+000, 1.54562173e-151,\n",
       "       0.00000000e+000, 0.00000000e+000, 0.00000000e+000, 0.00000000e+000])"
      ]
     },
     "execution_count": 38,
     "metadata": {},
     "output_type": "execute_result"
    }
   ],
   "source": [
    "sb.pvalues_"
   ]
  },
  {
   "cell_type": "markdown",
   "id": "e63cda21",
   "metadata": {},
   "source": [
    "2. F"
   ]
  },
  {
   "cell_type": "code",
   "execution_count": 30,
   "id": "2ea8017b",
   "metadata": {},
   "outputs": [
    {
     "name": "stderr",
     "output_type": "stream",
     "text": [
      "C:\\ProgramData\\Anaconda3\\lib\\site-packages\\sklearn\\feature_selection\\_univariate_selection.py:114: UserWarning: Features [ 0 32 39] are constant.\n",
      "  warnings.warn(\"Features %s are constant.\" % constant_features_idx,\n",
      "C:\\ProgramData\\Anaconda3\\lib\\site-packages\\sklearn\\feature_selection\\_univariate_selection.py:116: RuntimeWarning: invalid value encountered in true_divide\n",
      "  f = msb / msw\n"
     ]
    },
    {
     "data": {
      "text/plain": [
       "(1797, 20)"
      ]
     },
     "execution_count": 30,
     "metadata": {},
     "output_type": "execute_result"
    }
   ],
   "source": [
    "sb1=SelectKBest(score_func=f_classif,k=20)\n",
    "x_new=sb1.fit_transform(x,y)\n",
    "x_new.shape"
   ]
  },
  {
   "cell_type": "code",
   "execution_count": 31,
   "id": "4f66a4d9",
   "metadata": {},
   "outputs": [
    {
     "name": "stdout",
     "output_type": "stream",
     "text": [
      "[False False  True False False False False False False False  True False\n",
      " False  True False False False False False False  True  True False False\n",
      " False False  True False  True False  True False False  True  True False\n",
      "  True False  True False False False  True  True  True False  True False\n",
      " False False False False False False  True False False False  True False\n",
      "  True  True False False]\n"
     ]
    }
   ],
   "source": [
    "print(sb1.get_support())"
   ]
  },
  {
   "cell_type": "code",
   "execution_count": 33,
   "id": "bed4a6fa",
   "metadata": {},
   "outputs": [
    {
     "data": {
      "text/plain": [
       "array([         nan,  39.77670877, 161.66962131,  68.01284271,\n",
       "        37.085693  , 126.41541048,  74.26391138,  17.28204084,\n",
       "         1.73328376,  93.87300085, 205.13348801,  38.86089592,\n",
       "        51.62522088, 166.97247543,  37.41350206,  10.97417161,\n",
       "         0.71100904,  55.32842977, 138.10227535, 138.68433936,\n",
       "       202.43528942, 234.21960737,  50.24960622,  11.47100745,\n",
       "         0.87782927, 103.80241354, 293.09983163, 146.07649117,\n",
       "       236.7444881 , 127.5841692 , 189.18278073,   4.03517196,\n",
       "                nan, 312.78489658, 254.37524393, 136.20370677,\n",
       "       220.78357776, 110.63540569, 147.22496837,          nan,\n",
       "         6.90281305, 123.36344683, 268.76998164, 222.53295915,\n",
       "       159.07418303,  85.78384611, 169.33840921,  10.53627776,\n",
       "         1.35922709,  12.19342228, 115.41402772,  83.87060144,\n",
       "        88.50634019, 139.19382977, 162.49090456,  17.53002847,\n",
       "         1.01703597,  35.49323239, 163.49692878,  68.70759521,\n",
       "       200.35796882, 178.71033228, 106.03150882,  30.67336509])"
      ]
     },
     "execution_count": 33,
     "metadata": {},
     "output_type": "execute_result"
    }
   ],
   "source": [
    "sb1.scores_"
   ]
  },
  {
   "cell_type": "code",
   "execution_count": 36,
   "id": "6dacdba2",
   "metadata": {},
   "outputs": [
    {
     "data": {
      "text/plain": [
       "array([            nan, 4.99834376e-065, 8.12770776e-224, 7.82141288e-108,\n",
       "       1.03883191e-060, 4.56052872e-184, 9.92420373e-117, 1.15850944e-027,\n",
       "       7.66052413e-002, 2.05288354e-143, 7.83904161e-268, 1.45690786e-063,\n",
       "       1.55742413e-083, 1.84517602e-229, 3.07811154e-061, 8.70497727e-017,\n",
       "       6.99296954e-001, 3.74265221e-089, 1.07023842e-197, 2.30628015e-198,\n",
       "       3.06673207e-265, 9.82716944e-295, 1.99271799e-081, 1.21078798e-017,\n",
       "       5.44408914e-001, 2.86340363e-156, 0.00000000e+000, 9.88396955e-207,\n",
       "       5.52772524e-297, 1.88118614e-185, 2.99386945e-252, 3.92803876e-005,\n",
       "                   nan, 0.00000000e+000, 2.42398810e-312, 1.62783926e-195,\n",
       "       1.54479017e-282, 7.04478594e-165, 5.13771578e-208,             nan,\n",
       "       7.90550276e-010, 1.98515145e-180, 0.00000000e+000, 3.79380886e-284,\n",
       "       5.03935070e-221, 1.26953521e-132, 5.94324696e-232, 4.94516665e-016,\n",
       "       2.01446674e-001, 6.86214509e-019, 8.65547190e-171, 5.00690155e-130,\n",
       "       2.74648230e-136, 6.03092802e-199, 1.07275755e-224, 4.34452700e-028,\n",
       "       4.23742058e-001, 3.90693655e-058, 9.03440362e-226, 7.84684448e-109,\n",
       "       3.12158129e-263, 1.13811436e-241, 4.24275847e-159, 3.00384715e-050])"
      ]
     },
     "execution_count": 36,
     "metadata": {},
     "output_type": "execute_result"
    }
   ],
   "source": [
    "sb1.pvalues_"
   ]
  },
  {
   "cell_type": "markdown",
   "id": "81f2f56b",
   "metadata": {},
   "source": [
    "3. 비선형"
   ]
  },
  {
   "cell_type": "code",
   "execution_count": 27,
   "id": "664aadbb",
   "metadata": {},
   "outputs": [
    {
     "name": "stderr",
     "output_type": "stream",
     "text": [
      "C:\\ProgramData\\Anaconda3\\lib\\site-packages\\sklearn\\feature_selection\\_univariate_selection.py:114: UserWarning: Features [ 0 32 39] are constant.\n",
      "  warnings.warn(\"Features %s are constant.\" % constant_features_idx,\n",
      "C:\\ProgramData\\Anaconda3\\lib\\site-packages\\sklearn\\feature_selection\\_univariate_selection.py:116: RuntimeWarning: invalid value encountered in true_divide\n",
      "  f = msb / msw\n"
     ]
    },
    {
     "data": {
      "text/plain": [
       "(1797, 20)"
      ]
     },
     "execution_count": 27,
     "metadata": {},
     "output_type": "execute_result"
    }
   ],
   "source": [
    "sb2=SelectKBest(score_func=f_classif,k=20)\n",
    "x_new=sb2.fit_transform(x,y)\n",
    "x_new.shape"
   ]
  },
  {
   "cell_type": "code",
   "execution_count": 29,
   "id": "981dba07",
   "metadata": {},
   "outputs": [
    {
     "data": {
      "text/plain": [
       "array([0.03876071, 0.13080304, 0.35818876, 0.19805004, 0.14808304,\n",
       "       0.27014538, 0.19027399, 0.01954837, 0.        , 0.249466  ,\n",
       "       0.31570968, 0.12740746, 0.19684073, 0.32786444, 0.11543189,\n",
       "       0.05320948, 0.00501285, 0.18652016, 0.23541904, 0.26008413,\n",
       "       0.34681717, 0.40785766, 0.23123594, 0.        , 0.0209109 ,\n",
       "       0.24702469, 0.4105546 , 0.31659025, 0.3694494 , 0.31708752,\n",
       "       0.40329281, 0.01056592, 0.02436367, 0.41525222, 0.42581568,\n",
       "       0.29107293, 0.39564962, 0.239667  , 0.37497492, 0.00641388,\n",
       "       0.01741318, 0.25445839, 0.432436  , 0.42088279, 0.2991033 ,\n",
       "       0.18758035, 0.30985336, 0.01726463, 0.00914758, 0.05434345,\n",
       "       0.27393833, 0.23727342, 0.20202931, 0.33698868, 0.36847802,\n",
       "       0.09284238, 0.        , 0.13099908, 0.34857046, 0.20311145,\n",
       "       0.30671429, 0.35824084, 0.29120876, 0.06747553])"
      ]
     },
     "execution_count": 29,
     "metadata": {},
     "output_type": "execute_result"
    }
   ],
   "source": [
    "sklearn.feature_selection.mutual_info_classif(x, y)"
   ]
  },
  {
   "cell_type": "code",
   "execution_count": 28,
   "id": "c40c4378",
   "metadata": {},
   "outputs": [
    {
     "name": "stdout",
     "output_type": "stream",
     "text": [
      "[False False  True False False False False False False False  True False\n",
      " False  True False False False False False False  True  True False False\n",
      " False False  True False  True False  True False False  True  True False\n",
      "  True False  True False False False  True  True  True False  True False\n",
      " False False False False False False  True False False False  True False\n",
      "  True  True False False]\n"
     ]
    }
   ],
   "source": [
    "print(sb2.get_support())"
   ]
  },
  {
   "cell_type": "code",
   "execution_count": 32,
   "id": "f41e0d50",
   "metadata": {},
   "outputs": [
    {
     "data": {
      "text/plain": [
       "array([         nan,  39.77670877, 161.66962131,  68.01284271,\n",
       "        37.085693  , 126.41541048,  74.26391138,  17.28204084,\n",
       "         1.73328376,  93.87300085, 205.13348801,  38.86089592,\n",
       "        51.62522088, 166.97247543,  37.41350206,  10.97417161,\n",
       "         0.71100904,  55.32842977, 138.10227535, 138.68433936,\n",
       "       202.43528942, 234.21960737,  50.24960622,  11.47100745,\n",
       "         0.87782927, 103.80241354, 293.09983163, 146.07649117,\n",
       "       236.7444881 , 127.5841692 , 189.18278073,   4.03517196,\n",
       "                nan, 312.78489658, 254.37524393, 136.20370677,\n",
       "       220.78357776, 110.63540569, 147.22496837,          nan,\n",
       "         6.90281305, 123.36344683, 268.76998164, 222.53295915,\n",
       "       159.07418303,  85.78384611, 169.33840921,  10.53627776,\n",
       "         1.35922709,  12.19342228, 115.41402772,  83.87060144,\n",
       "        88.50634019, 139.19382977, 162.49090456,  17.53002847,\n",
       "         1.01703597,  35.49323239, 163.49692878,  68.70759521,\n",
       "       200.35796882, 178.71033228, 106.03150882,  30.67336509])"
      ]
     },
     "execution_count": 32,
     "metadata": {},
     "output_type": "execute_result"
    }
   ],
   "source": [
    "sb2.scores_"
   ]
  },
  {
   "cell_type": "code",
   "execution_count": 34,
   "id": "2aa5e320",
   "metadata": {},
   "outputs": [
    {
     "data": {
      "text/plain": [
       "array([            nan, 4.99834376e-065, 8.12770776e-224, 7.82141288e-108,\n",
       "       1.03883191e-060, 4.56052872e-184, 9.92420373e-117, 1.15850944e-027,\n",
       "       7.66052413e-002, 2.05288354e-143, 7.83904161e-268, 1.45690786e-063,\n",
       "       1.55742413e-083, 1.84517602e-229, 3.07811154e-061, 8.70497727e-017,\n",
       "       6.99296954e-001, 3.74265221e-089, 1.07023842e-197, 2.30628015e-198,\n",
       "       3.06673207e-265, 9.82716944e-295, 1.99271799e-081, 1.21078798e-017,\n",
       "       5.44408914e-001, 2.86340363e-156, 0.00000000e+000, 9.88396955e-207,\n",
       "       5.52772524e-297, 1.88118614e-185, 2.99386945e-252, 3.92803876e-005,\n",
       "                   nan, 0.00000000e+000, 2.42398810e-312, 1.62783926e-195,\n",
       "       1.54479017e-282, 7.04478594e-165, 5.13771578e-208,             nan,\n",
       "       7.90550276e-010, 1.98515145e-180, 0.00000000e+000, 3.79380886e-284,\n",
       "       5.03935070e-221, 1.26953521e-132, 5.94324696e-232, 4.94516665e-016,\n",
       "       2.01446674e-001, 6.86214509e-019, 8.65547190e-171, 5.00690155e-130,\n",
       "       2.74648230e-136, 6.03092802e-199, 1.07275755e-224, 4.34452700e-028,\n",
       "       4.23742058e-001, 3.90693655e-058, 9.03440362e-226, 7.84684448e-109,\n",
       "       3.12158129e-263, 1.13811436e-241, 4.24275847e-159, 3.00384715e-050])"
      ]
     },
     "execution_count": 34,
     "metadata": {},
     "output_type": "execute_result"
    }
   ],
   "source": [
    "sb2.pvalues_"
   ]
  },
  {
   "cell_type": "code",
   "execution_count": null,
   "id": "164649e9",
   "metadata": {},
   "outputs": [],
   "source": []
  }
 ],
 "metadata": {
  "kernelspec": {
   "display_name": "Python 3",
   "language": "python",
   "name": "python3"
  },
  "language_info": {
   "codemirror_mode": {
    "name": "ipython",
    "version": 3
   },
   "file_extension": ".py",
   "mimetype": "text/x-python",
   "name": "python",
   "nbconvert_exporter": "python",
   "pygments_lexer": "ipython3",
   "version": "3.8.8"
  }
 },
 "nbformat": 4,
 "nbformat_minor": 5
}
