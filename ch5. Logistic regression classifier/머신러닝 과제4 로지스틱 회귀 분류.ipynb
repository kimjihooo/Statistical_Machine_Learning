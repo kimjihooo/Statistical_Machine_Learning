{
 "cells": [
  {
   "cell_type": "markdown",
   "id": "f100bd0d",
   "metadata": {},
   "source": [
    "## logistic regression : ovr"
   ]
  },
  {
   "cell_type": "code",
   "execution_count": 2,
   "id": "4e27a2c4",
   "metadata": {},
   "outputs": [
    {
     "name": "stdout",
     "output_type": "stream",
     "text": [
      "   sepal_length  sepal_width  petal_length  petal_width species\n",
      "0           5.1          3.5           1.4          0.2  setosa\n",
      "1           4.9          3.0           1.4          0.2  setosa\n",
      "2           4.7          3.2           1.3          0.2  setosa\n",
      "3           4.6          3.1           1.5          0.2  setosa\n",
      "4           5.0          3.6           1.4          0.2  setosa\n",
      "['setosa' 'versicolor' 'virginica']\n"
     ]
    }
   ],
   "source": [
    "# 데이터 불러오기\n",
    "import seaborn as sns # seaborn을 불러오고 SNS로 축약\n",
    "import numpy as np\n",
    "iris = sns.load_dataset('iris')  # iris라는 변수명으로 Iris data를 download\n",
    "print(iris.head())\n",
    "X = iris.drop('species', axis=1) # 'species'열을 drop하고 input X를 정의\n",
    "y = iris['species']\n",
    "print(np.unique(y))"
   ]
  },
  {
   "cell_type": "code",
   "execution_count": 3,
   "id": "805d7c51",
   "metadata": {},
   "outputs": [
    {
     "name": "stdout",
     "output_type": "stream",
     "text": [
      "[0 1 2]\n"
     ]
    }
   ],
   "source": [
    "# y data를 범주형으로 변환\n",
    "import numpy as np\n",
    "from sklearn.preprocessing import LabelEncoder    # LabelEncoder() method를 불러옴\n",
    "classle = LabelEncoder()\n",
    "y = classle.fit_transform(iris['species'].values) # species 열의 문자열을 categorical 값으로 전환\n",
    "print(np.unique(y))"
   ]
  },
  {
   "cell_type": "code",
   "execution_count": 4,
   "id": "2ee34d4c",
   "metadata": {},
   "outputs": [],
   "source": [
    "# 전체 data를 training set과 test set으로 split\n",
    "from sklearn.model_selection import train_test_split\n",
    "X_train, X_test, y_train, y_test = train_test_split(X, y, test_size=0.3,\n",
    "                                                    random_state=1, stratify=y)"
   ]
  },
  {
   "cell_type": "code",
   "execution_count": 5,
   "id": "118adba8",
   "metadata": {},
   "outputs": [],
   "source": [
    "# 표준화\n",
    "from sklearn.preprocessing import StandardScaler\n",
    "sc = StandardScaler()\n",
    "sc.fit(X_train) # train set만 적합\n",
    "X_train_std = sc.transform(X_train) # 표준화로 변환 fit_transform 도 가능\n",
    "X_test_std = sc.transform(X_test) # 표준화로 변환"
   ]
  },
  {
   "cell_type": "code",
   "execution_count": 6,
   "id": "199e44a5",
   "metadata": {},
   "outputs": [],
   "source": [
    "# Logistic regression\n",
    "from sklearn.linear_model import LogisticRegression\n",
    "Logit = LogisticRegression(C=1e2, random_state=1, multi_class='ovr')  # C = 1/λ. 디폴트: L2, One-versus-Rest.  \n",
    "l_1=Logit.fit(X_train_std, y_train)\n",
    "y_train_pred = Logit.predict(X_train_std)\n",
    "y_test_pred = Logit.predict(X_test_std)"
   ]
  },
  {
   "cell_type": "code",
   "execution_count": 8,
   "id": "7950e02c",
   "metadata": {},
   "outputs": [
    {
     "name": "stdout",
     "output_type": "stream",
     "text": [
      "[ -5.43052179  -1.03374577 -12.21594409]\n",
      "[[-2.27467146  2.04221619 -4.01937844 -3.46372044]\n",
      " [-1.2777746  -0.93618002  3.53177076 -2.24098008]\n",
      " [-0.31117851 -2.10556199  9.51791722  8.48747802]]\n"
     ]
    }
   ],
   "source": [
    "# 계수 구하기\n",
    "print(l_1.intercept_)\n",
    "print(l_1.coef_)"
   ]
  },
  {
   "cell_type": "markdown",
   "id": "24eab6d6",
   "metadata": {},
   "source": [
    "## logistic regression : multinomial"
   ]
  },
  {
   "cell_type": "code",
   "execution_count": 10,
   "id": "d1812af4",
   "metadata": {},
   "outputs": [],
   "source": [
    "Logit = LogisticRegression(C=1e2, random_state=1, multi_class='multinomial')  # C = 1/λ.\n",
    "l_1=Logit.fit(X_train_std, y_train)\n",
    "y_train_pred = Logit.predict(X_train_std)\n",
    "y_test_pred = Logit.predict(X_test_std)"
   ]
  },
  {
   "cell_type": "code",
   "execution_count": 11,
   "id": "a21a036e",
   "metadata": {},
   "outputs": [
    {
     "name": "stdout",
     "output_type": "stream",
     "text": [
      "[ 0.60193841  6.1076602  -6.70959861]\n",
      "[[-2.48710159  2.4086907  -5.41565289 -4.83270107]\n",
      " [ 1.46232628 -0.12532899 -2.35281482 -2.01137917]\n",
      " [ 1.02477531 -2.28336172  7.76846772  6.84408024]]\n"
     ]
    }
   ],
   "source": [
    "# 계수 구하기\n",
    "print(l_1.intercept_)\n",
    "print(l_1.coef_)"
   ]
  },
  {
   "cell_type": "code",
   "execution_count": null,
   "id": "bfb4de2c",
   "metadata": {},
   "outputs": [],
   "source": []
  }
 ],
 "metadata": {
  "kernelspec": {
   "display_name": "Python 3",
   "language": "python",
   "name": "python3"
  },
  "language_info": {
   "codemirror_mode": {
    "name": "ipython",
    "version": 3
   },
   "file_extension": ".py",
   "mimetype": "text/x-python",
   "name": "python",
   "nbconvert_exporter": "python",
   "pygments_lexer": "ipython3",
   "version": "3.8.8"
  }
 },
 "nbformat": 4,
 "nbformat_minor": 5
}
