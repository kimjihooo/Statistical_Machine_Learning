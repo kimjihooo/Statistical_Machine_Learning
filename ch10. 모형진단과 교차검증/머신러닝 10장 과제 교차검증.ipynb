{
 "cells": [
  {
   "cell_type": "code",
   "execution_count": 1,
   "id": "ff2f5c34",
   "metadata": {},
   "outputs": [],
   "source": [
    "# wine data 불러오기 \n",
    "import pandas as pd\n",
    "dat_wine=pd.read_csv('http://archive.ics.uci.edu/ml/machine-learning-databases/'\n",
    "                     'wine/wine.data',header=None) # wine data 불러오기\n",
    "\n",
    "from sklearn.model_selection import train_test_split\n",
    "X,y=dat_wine.iloc[:,1:].values, dat_wine.iloc[:,0].values\n",
    "X_train,X_test,y_train,y_test=train_test_split(X,y,test_size=0.3, random_state=1,stratify=y)"
   ]
  },
  {
   "cell_type": "markdown",
   "id": "202ced42",
   "metadata": {},
   "source": [
    "## Logistic\n",
    "\n",
    ": 표준화는 하지 않았음"
   ]
  },
  {
   "cell_type": "code",
   "execution_count": 23,
   "id": "d2f818de",
   "metadata": {
    "scrolled": false
   },
   "outputs": [
    {
     "name": "stdout",
     "output_type": "stream",
     "text": [
      "0.9602564102564102\n",
      "{'C': 0.03, 'max_iter': 1000, 'multi_class': 'ovr'}\n",
      "0.9596774193548387\n",
      "0.8888888888888888\n"
     ]
    }
   ],
   "source": [
    "import numpy as np\n",
    "from sklearn.linear_model import LogisticRegression\n",
    "from sklearn.model_selection import GridSearchCV\n",
    "lr = LogisticRegression(random_state=1)\n",
    "\n",
    "# 초모수 결정\n",
    "# param_range = [ 0.05, 0.1, 0.15]\n",
    "param_range = [0.01, 0.03, 0.05]\n",
    "param_grid = {'C': param_range,'multi_class' : ['ovr'], 'max_iter' : [1000, 2000, 5000]}\n",
    "             \n",
    "gs = GridSearchCV(estimator=lr, param_grid=param_grid,\n",
    "                  scoring='accuracy', cv=10)\n",
    "gs = gs.fit(X_train, y_train) \n",
    "print(gs.best_score_) # cv에서의 최고 accuracy (일부 성능)\n",
    "print(gs.best_params_) # 초모수 결정 0.1 중심으로 다시해보기 0.05 중심으로 다시\n",
    "\n",
    "# 최종 : training data를 다 쓴 것\n",
    "clf = gs.best_estimator_\n",
    "clf.fit(X_train, y_train)\n",
    "print(clf.score(X_train,y_train)) \n",
    "print(clf.score(X_test, y_test)) # true 최종 성능"
   ]
  },
  {
   "cell_type": "code",
   "execution_count": 24,
   "id": "5e5ce3fd",
   "metadata": {},
   "outputs": [
    {
     "name": "stdout",
     "output_type": "stream",
     "text": [
      "CV accuracy: 0.95539683 +/- 0.028\n"
     ]
    }
   ],
   "source": [
    "from sklearn.model_selection import GridSearchCV\n",
    "from sklearn.model_selection import cross_val_score\n",
    "gs = GridSearchCV(estimator=lr, param_grid=param_grid,\n",
    "                  scoring='accuracy', cv=3)\n",
    "scores = cross_val_score(gs, X, y, scoring='accuracy', cv=5)\n",
    "print('CV accuracy: %.8f +/- %.3f' % (np.mean(scores), np.std(scores)))"
   ]
  },
  {
   "cell_type": "code",
   "execution_count": 10,
   "id": "94be01b2",
   "metadata": {},
   "outputs": [
    {
     "name": "stdout",
     "output_type": "stream",
     "text": [
      "CV accuracy: 0.950 +/- 0.020\n"
     ]
    }
   ],
   "source": [
    "# 층화추출한 것\n",
    "from sklearn.model_selection import cross_val_score\n",
    "from sklearn.model_selection import StratifiedKFold # 분할 내 범주비율이 전체데이터 범주비율과 유사하게\n",
    "inner_cv=StratifiedKFold(n_splits=3, shuffle=True, random_state=0) # shuffle 해 잘 섞음\n",
    "outer_cv=StratifiedKFold(n_splits=5, shuffle=True, random_state=0)\n",
    "\n",
    "gs = GridSearchCV(estimator=lr,\n",
    "                  param_grid=param_grid,\n",
    "                  scoring='accuracy', cv=inner_cv)\n",
    "scores = cross_val_score(gs, X, y, scoring='accuracy', cv=outer_cv)\n",
    "\n",
    "print('CV accuracy: %.3f +/- %.3f' % (np.mean(scores), np.std(scores)))"
   ]
  },
  {
   "cell_type": "markdown",
   "id": "a9bff2c6",
   "metadata": {},
   "source": [
    "## SVM"
   ]
  },
  {
   "cell_type": "markdown",
   "id": "2c2cd6eb",
   "metadata": {},
   "source": [
    "파이프라인 사용, 표준화 시킴"
   ]
  },
  {
   "cell_type": "code",
   "execution_count": 22,
   "id": "36dd4f70",
   "metadata": {},
   "outputs": [
    {
     "name": "stdout",
     "output_type": "stream",
     "text": [
      "1.0\n",
      "{'svc__C': 0.15, 'svc__kernel': 'linear'}\n",
      "1.0\n",
      "0.9444444444444444\n"
     ]
    }
   ],
   "source": [
    "from sklearn.preprocessing import StandardScaler\n",
    "from sklearn.svm import SVC\n",
    "from sklearn.pipeline import make_pipeline\n",
    "from sklearn.model_selection import GridSearchCV\n",
    "pipe_svc = make_pipeline(StandardScaler(), SVC(random_state=1))\n",
    "\n",
    "# param_range = [0.0001, 0.001, 0.01, 0.1, 1.0, 10.0, 100.0, 1000.0]\n",
    "param_range = [0.05, 0.1, 0.15, 0.2]\n",
    "param_grid = [{'svc__C': param_range, 'svc__kernel': ['linear']}, \n",
    "              {'svc__C': param_range, 'svc__gamma': param_range,\n",
    "               'svc__kernel': ['rbf', 'poly', 'sigmoid']}]\n",
    "gs = GridSearchCV(estimator=pipe_svc, param_grid=param_grid,\n",
    "                  scoring='accuracy', cv=10)\n",
    "gs = gs.fit(X_train, y_train)\n",
    "print(gs.best_score_) # 1.0 중심의 c, 또는 gamma 까지 해서 다시해보기\n",
    "print(gs.best_params_)\n",
    "\n",
    "clf = gs.best_estimator_\n",
    "clf.fit(X_train, y_train)\n",
    "print(clf.score(X_train,y_train))\n",
    "print(clf.score(X_test, y_test))"
   ]
  },
  {
   "cell_type": "code",
   "execution_count": 18,
   "id": "cabeae51",
   "metadata": {},
   "outputs": [
    {
     "name": "stdout",
     "output_type": "stream",
     "text": [
      "CV accuracy: 0.96603175 +/- 0.028\n"
     ]
    }
   ],
   "source": [
    "gs = GridSearchCV(estimator=pipe_svc, param_grid=param_grid,\n",
    "                  scoring='accuracy', cv=3)\n",
    "scores = cross_val_score(gs, X, y, scoring='accuracy', cv=5)\n",
    "\n",
    "print('CV accuracy: %.8f +/- %.3f' % (np.mean(scores), np.std(scores)))"
   ]
  },
  {
   "cell_type": "code",
   "execution_count": 19,
   "id": "b56dba52",
   "metadata": {},
   "outputs": [
    {
     "name": "stdout",
     "output_type": "stream",
     "text": [
      "CV accuracy: 0.966 +/- 0.011\n"
     ]
    }
   ],
   "source": [
    "# 층화추출한 것\n",
    "from sklearn.tree import DecisionTreeClassifier\n",
    "from sklearn.model_selection import StratifiedKFold # 분할 내 범주비율이 전체데이터 범주비율과 유사하게\n",
    "inner_cv=StratifiedKFold(n_splits=3, shuffle=True, random_state=0) # shuffle 해 잘 섞음\n",
    "outer_cv=StratifiedKFold(n_splits=5, shuffle=True, random_state=0)\n",
    "\n",
    "gs = GridSearchCV(estimator=pipe_svc,\n",
    "                  param_grid=param_grid,\n",
    "                  scoring='accuracy', cv=inner_cv)\n",
    "scores = cross_val_score(gs, X, y, scoring='accuracy', cv=outer_cv)\n",
    "\n",
    "print('CV accuracy: %.3f +/- %.3f' % (np.mean(scores), np.std(scores)))"
   ]
  },
  {
   "cell_type": "markdown",
   "id": "c05d5533",
   "metadata": {},
   "source": [
    "표준화 시키지 않음"
   ]
  },
  {
   "cell_type": "code",
   "execution_count": 25,
   "id": "2d363bf0",
   "metadata": {},
   "outputs": [
    {
     "name": "stdout",
     "output_type": "stream",
     "text": [
      "0.9519230769230769\n",
      "{'C': 0.01, 'kernel': 'linear'}\n",
      "0.967741935483871\n",
      "0.9074074074074074\n"
     ]
    }
   ],
   "source": [
    "from sklearn.svm import SVC\n",
    "from sklearn.model_selection import GridSearchCV\n",
    "svc = SVC(random_state=1)\n",
    "\n",
    "param_range = [0.0001, 0.001, 0.01, 0.1, 1.0, 10.0, 100.0, 1000.0]\n",
    "param_grid = [{'C': param_range, 'kernel': ['linear']},\n",
    "              {'C': param_range, 'gamma': param_range,\n",
    "               'kernel': ['rbf']}]\n",
    "gs = GridSearchCV(estimator=svc, param_grid=param_grid,\n",
    "                  scoring='accuracy', cv=10)\n",
    "gs = gs.fit(X_train, y_train)\n",
    "print(gs.best_score_)\n",
    "print(gs.best_params_)\n",
    "\n",
    "clf = gs.best_estimator_\n",
    "clf.fit(X_train, y_train)\n",
    "print(clf.score(X_train,y_train))\n",
    "print(clf.score(X_test, y_test))"
   ]
  },
  {
   "cell_type": "code",
   "execution_count": 18,
   "id": "e8de9539",
   "metadata": {},
   "outputs": [
    {
     "data": {
      "text/plain": [
       "dict_keys(['cv', 'error_score', 'estimator__C', 'estimator__break_ties', 'estimator__cache_size', 'estimator__class_weight', 'estimator__coef0', 'estimator__decision_function_shape', 'estimator__degree', 'estimator__gamma', 'estimator__kernel', 'estimator__max_iter', 'estimator__probability', 'estimator__random_state', 'estimator__shrinking', 'estimator__tol', 'estimator__verbose', 'estimator', 'n_jobs', 'param_grid', 'pre_dispatch', 'refit', 'return_train_score', 'scoring', 'verbose'])"
      ]
     },
     "execution_count": 18,
     "metadata": {},
     "output_type": "execute_result"
    }
   ],
   "source": [
    "# 에러 뜨면 아래에서 확인하고 초모수값 이름 설정하기\n",
    "gs.get_params().keys()"
   ]
  },
  {
   "cell_type": "code",
   "execution_count": 26,
   "id": "027b95ad",
   "metadata": {},
   "outputs": [
    {
     "name": "stdout",
     "output_type": "stream",
     "text": [
      "CV accuracy: 0.96111111 +/- 0.033\n"
     ]
    }
   ],
   "source": [
    "gs = GridSearchCV(estimator=svc, param_grid=param_grid,\n",
    "                  scoring='accuracy', cv=3)\n",
    "scores = cross_val_score(gs, X, y, scoring='accuracy', cv=5)\n",
    "\n",
    "print('CV accuracy: %.8f +/- %.3f' % (np.mean(scores), np.std(scores)))"
   ]
  },
  {
   "cell_type": "markdown",
   "id": "fae0c850",
   "metadata": {},
   "source": [
    "## CART 의사결정 나무"
   ]
  },
  {
   "cell_type": "markdown",
   "id": "73413a9c",
   "metadata": {},
   "source": [
    "shuffle = T 하고 층화추출함"
   ]
  },
  {
   "cell_type": "code",
   "execution_count": 20,
   "id": "1d5802a4",
   "metadata": {},
   "outputs": [
    {
     "name": "stdout",
     "output_type": "stream",
     "text": [
      "0.9275641025641026\n",
      "{'criterion': 'gini', 'max_depth': 4}\n",
      "1.0\n",
      "0.9444444444444444\n"
     ]
    }
   ],
   "source": [
    "from sklearn.tree import DecisionTreeClassifier\n",
    "dc = DecisionTreeClassifier(random_state=0)\n",
    "\n",
    "param_grid = {'max_depth': [1, 2, 3, 4, 5, 6, 7, None], 'criterion': ['gini', 'entropy']}\n",
    "gs = GridSearchCV(estimator=dc, param_grid=param_grid,\n",
    "                  scoring='accuracy', cv=10)\n",
    "gs = gs.fit(X_train, y_train)\n",
    "print(gs.best_score_)\n",
    "print(gs.best_params_)\n",
    "\n",
    "clf = gs.best_estimator_\n",
    "clf.fit(X_train, y_train)\n",
    "print(clf.score(X_train,y_train))\n",
    "print(clf.score(X_test, y_test))"
   ]
  },
  {
   "cell_type": "code",
   "execution_count": 21,
   "id": "5462331a",
   "metadata": {},
   "outputs": [
    {
     "name": "stdout",
     "output_type": "stream",
     "text": [
      "CV accuracy: 0.938 +/- 0.041\n"
     ]
    }
   ],
   "source": [
    "from sklearn.tree import DecisionTreeClassifier\n",
    "from sklearn.model_selection import StratifiedKFold # 분할 내 범주비율이 전체데이터 범주비율과 유사하게\n",
    "inner_cv=StratifiedKFold(n_splits=3, shuffle=True, random_state=0) # shuffle 해 잘 섞음\n",
    "outer_cv=StratifiedKFold(n_splits=5, shuffle=True, random_state=0)\n",
    "\n",
    "gs = GridSearchCV(estimator=DecisionTreeClassifier(random_state=0),\n",
    "                  param_grid=[{'max_depth': [1, 2, 3, 4, 5, 6, 7, None]}],\n",
    "                  scoring='accuracy', cv=inner_cv)\n",
    "scores = cross_val_score(gs, X, y, scoring='accuracy', cv=outer_cv)\n",
    "\n",
    "print('CV accuracy: %.3f +/- %.3f' % (np.mean(scores), np.std(scores)))"
   ]
  },
  {
   "cell_type": "markdown",
   "id": "951768d3",
   "metadata": {},
   "source": [
    "1. 첫번째 과정에서 초모수 구함\n",
    "\n",
    "2. test 데이터(즉 traing에 의존하지 않는지 확인하는게 두번째 과정 (첫번째 결과가 너무 크면 운이 좋았던 것 과대적합한거임, 두번째 결과가 더 커야함)\n",
    "\n",
    "\n",
    "첫번째에서 구한 학습 데이터의 성능과 \n",
    "\n",
    "두번째에서 구한 시험 데이터의 성능의 평균을 비교해 과대적합의 여부 판단\n",
    "\n",
    "\n",
    "> 두번째에서 구한 시험 데이터의 성능의 평균이 해당 모형의 성능이 된다.\n",
    "\n",
    "\n",
    "마지막에 3개 다 비교하기\n",
    "\n",
    "성능은 accuacy 로 구함 cv 교차검증은 10으로 함\n"
   ]
  },
  {
   "cell_type": "code",
   "execution_count": null,
   "id": "4b832102",
   "metadata": {},
   "outputs": [],
   "source": []
  }
 ],
 "metadata": {
  "kernelspec": {
   "display_name": "Python 3",
   "language": "python",
   "name": "python3"
  },
  "language_info": {
   "codemirror_mode": {
    "name": "ipython",
    "version": 3
   },
   "file_extension": ".py",
   "mimetype": "text/x-python",
   "name": "python",
   "nbconvert_exporter": "python",
   "pygments_lexer": "ipython3",
   "version": "3.8.8"
  }
 },
 "nbformat": 4,
 "nbformat_minor": 5
}
